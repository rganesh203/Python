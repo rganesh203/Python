{
  "nbformat": 4,
  "nbformat_minor": 0,
  "metadata": {
    "colab": {
      "private_outputs": true,
      "provenance": [],
      "authorship_tag": "ABX9TyOVHz6PgzyKC1uglElHCOpu",
      "include_colab_link": true
    },
    "kernelspec": {
      "name": "python3",
      "display_name": "Python 3"
    },
    "language_info": {
      "name": "python"
    }
  },
  "cells": [
    {
      "cell_type": "markdown",
      "metadata": {
        "id": "view-in-github",
        "colab_type": "text"
      },
      "source": [
        "<a href=\"https://colab.research.google.com/github/rganesh203/Python-Core-Fundamentals/blob/main/OOPs.ipynb\" target=\"_parent\"><img src=\"https://colab.research.google.com/assets/colab-badge.svg\" alt=\"Open In Colab\"/></a>"
      ]
    },
    {
      "cell_type": "code",
      "execution_count": null,
      "metadata": {
        "id": "74vSj6OQiQbX"
      },
      "outputs": [],
      "source": [
        "#python\n",
        "    1. Functional\n",
        "    2. Procedural\n",
        "    3. Object"
      ]
    },
    {
      "cell_type": "code",
      "source": [
        "s=10"
      ],
      "metadata": {
        "id": "tiY3iuebjH_E"
      },
      "execution_count": null,
      "outputs": []
    },
    {
      "cell_type": "code",
      "source": [
        "print(type(s))"
      ],
      "metadata": {
        "id": "OKvQrgkejmYW"
      },
      "execution_count": null,
      "outputs": []
    },
    {
      "cell_type": "code",
      "source": [
        "#oops\n",
        "    1.class\n",
        "    2.object\n",
        "    3.inheritance\n",
        "    4.polymorphism\n",
        "    5.encapsulation\n",
        "    6.Abstraction"
      ],
      "metadata": {
        "id": "o3jQgTQrjntP"
      },
      "execution_count": null,
      "outputs": []
    },
    {
      "cell_type": "code",
      "source": [
        "class(it is blue print) or design\n",
        "object real world entity\n"
      ],
      "metadata": {
        "id": "SSW1m4inlSIz"
      },
      "execution_count": null,
      "outputs": []
    },
    {
      "cell_type": "code",
      "source": [
        "class College: #class #AddTwo\n",
        "    pass\n",
        "obj=College()#object\n",
        "print(obj)"
      ],
      "metadata": {
        "id": "erFNtMSmmTEb"
      },
      "execution_count": null,
      "outputs": []
    },
    {
      "cell_type": "code",
      "source": [
        "def add(a,b):\n",
        "    return a+b\n",
        "add(2,3)"
      ],
      "metadata": {
        "id": "thnVJnM3mhsD"
      },
      "execution_count": null,
      "outputs": []
    },
    {
      "cell_type": "code",
      "source": [
        "#object\n",
        "    1. property(attributes)--->variables\n",
        "    2. behaviour(methods)--->procedures"
      ],
      "metadata": {
        "id": "FwmF_u5Gmu-o"
      },
      "execution_count": null,
      "outputs": []
    },
    {
      "cell_type": "code",
      "source": [
        "#in python everything is object"
      ],
      "metadata": {
        "id": "vJEkYddroFcN"
      },
      "execution_count": null,
      "outputs": []
    },
    {
      "cell_type": "code",
      "source": [
        "class College: #class #AddTwo\n",
        "    pass\n",
        "obj=College()#object\n",
        "obj1=College()\n",
        "obj2=College()\n",
        "obj3=College()\n",
        "print(obj)\n",
        "print(obj1)\n",
        "print(obj2)\n",
        "print(obj3)"
      ],
      "metadata": {
        "id": "OVbdhJJ6oJZa"
      },
      "execution_count": null,
      "outputs": []
    },
    {
      "cell_type": "code",
      "source": [
        "class College: #class #AddTwo\n",
        "    marks1=10\n",
        "    marks2=20\n",
        "print(College.marks1)\n",
        "obj=College()\n",
        "print(obj.marks1)"
      ],
      "metadata": {
        "id": "Zp93J8K0p1PM"
      },
      "execution_count": null,
      "outputs": []
    },
    {
      "cell_type": "code",
      "source": [
        "#function calling\n"
      ],
      "metadata": {
        "id": "aKR4tnhXqMzM"
      },
      "execution_count": null,
      "outputs": []
    }
  ]
}