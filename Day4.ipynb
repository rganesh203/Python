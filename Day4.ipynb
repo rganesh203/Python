{
  "nbformat": 4,
  "nbformat_minor": 0,
  "metadata": {
    "colab": {
      "private_outputs": true,
      "provenance": [],
      "authorship_tag": "ABX9TyPjmRVgg07GLCQPQWc8RpZm",
      "include_colab_link": true
    },
    "kernelspec": {
      "name": "python3",
      "display_name": "Python 3"
    },
    "language_info": {
      "name": "python"
    }
  },
  "cells": [
    {
      "cell_type": "markdown",
      "metadata": {
        "id": "view-in-github",
        "colab_type": "text"
      },
      "source": [
        "<a href=\"https://colab.research.google.com/github/rganesh203/Python-Core-Fundamentals/blob/main/Day4.ipynb\" target=\"_parent\"><img src=\"https://colab.research.google.com/assets/colab-badge.svg\" alt=\"Open In Colab\"/></a>"
      ]
    },
    {
      "cell_type": "code",
      "execution_count": null,
      "metadata": {
        "id": "VC8TMfZMGBBP"
      },
      "outputs": [],
      "source": [
        "#split\n",
        "date1=\"11-10-2023\"\n"
      ]
    },
    {
      "cell_type": "code",
      "source": [
        "date1[6:]"
      ],
      "metadata": {
        "id": "Q-z29UL6GKLV"
      },
      "execution_count": null,
      "outputs": []
    },
    {
      "cell_type": "code",
      "source": [
        "a=date1.split(\"-\")"
      ],
      "metadata": {
        "id": "Ii90Kb-iGUDn"
      },
      "execution_count": null,
      "outputs": []
    },
    {
      "cell_type": "code",
      "source": [
        "type(a)"
      ],
      "metadata": {
        "id": "QTjWRsuIGhbm"
      },
      "execution_count": null,
      "outputs": []
    },
    {
      "cell_type": "code",
      "source": [
        "len(a)"
      ],
      "metadata": {
        "id": "BgPO2v3rGpeQ"
      },
      "execution_count": null,
      "outputs": []
    },
    {
      "cell_type": "code",
      "source": [
        "a[0]"
      ],
      "metadata": {
        "id": "I8MSQVJaHFJs"
      },
      "execution_count": null,
      "outputs": []
    },
    {
      "cell_type": "code",
      "source": [
        "type(a[1])"
      ],
      "metadata": {
        "id": "sjI8_49YG0v6"
      },
      "execution_count": null,
      "outputs": []
    },
    {
      "cell_type": "code",
      "source": [
        "a"
      ],
      "metadata": {
        "id": "vVCF4YcQHKsC"
      },
      "execution_count": null,
      "outputs": []
    },
    {
      "cell_type": "code",
      "source": [
        "for i in a:\n",
        "    print(int(i), end=\"-\")"
      ],
      "metadata": {
        "id": "Ux4CUToYHLCh"
      },
      "execution_count": null,
      "outputs": []
    },
    {
      "cell_type": "code",
      "source": [
        "ip =\"192.168.10.11/25\""
      ],
      "metadata": {
        "id": "8fl7FMlzIGGI"
      },
      "execution_count": null,
      "outputs": []
    },
    {
      "cell_type": "code",
      "source": [
        "ip.split(\"/\")"
      ],
      "metadata": {
        "id": "EvECNPUIHfVD"
      },
      "execution_count": null,
      "outputs": []
    },
    {
      "cell_type": "code",
      "source": [
        "ip.split(\".\")"
      ],
      "metadata": {
        "id": "_Cn07R0PIhaL"
      },
      "execution_count": null,
      "outputs": []
    },
    {
      "cell_type": "code",
      "source": [
        "ip.split(\".\")[-1]"
      ],
      "metadata": {
        "id": "lsrq3MmlIv9T"
      },
      "execution_count": null,
      "outputs": []
    },
    {
      "cell_type": "code",
      "source": [
        "ip.split(\".\",1)"
      ],
      "metadata": {
        "id": "CLMHjFgnIyPZ"
      },
      "execution_count": null,
      "outputs": []
    },
    {
      "cell_type": "code",
      "source": [
        "?ip.rsplit"
      ],
      "metadata": {
        "id": "CpE02iAEI4_q"
      },
      "execution_count": null,
      "outputs": []
    },
    {
      "cell_type": "code",
      "source": [
        "ip.rsplit(\".\",1)"
      ],
      "metadata": {
        "id": "xm1FSk-KJh1t"
      },
      "execution_count": null,
      "outputs": []
    },
    {
      "cell_type": "code",
      "source": [
        "ip.rsplit(\".\") #same as ip.split(\".\")"
      ],
      "metadata": {
        "id": "44goy1_1JsdL"
      },
      "execution_count": null,
      "outputs": []
    },
    {
      "cell_type": "code",
      "source": [
        "#Justify method\n",
        "1. ljust()\n",
        "2. rjust()\n",
        "3.center()\n",
        "4.zfill()\n"
      ],
      "metadata": {
        "id": "Y4kycX4kKed4"
      },
      "execution_count": null,
      "outputs": []
    },
    {
      "cell_type": "code",
      "source": [
        "str1=\"ganesh\""
      ],
      "metadata": {
        "id": "8zZfZGp8KzG1"
      },
      "execution_count": null,
      "outputs": []
    },
    {
      "cell_type": "code",
      "source": [
        "len(str1)"
      ],
      "metadata": {
        "id": "d2f2DqjlK3rZ"
      },
      "execution_count": null,
      "outputs": []
    },
    {
      "cell_type": "code",
      "source": [
        "str1.ljust(10,\"@\")"
      ],
      "metadata": {
        "id": "SRxKv-stLNn0"
      },
      "execution_count": null,
      "outputs": []
    },
    {
      "cell_type": "code",
      "source": [
        "str1.rjust(10,\"@\")"
      ],
      "metadata": {
        "id": "wXZ8e8asLaA_"
      },
      "execution_count": null,
      "outputs": []
    },
    {
      "cell_type": "code",
      "source": [
        "str1.center(20,\"@\")"
      ],
      "metadata": {
        "id": "BtHLPGVtL9Lx"
      },
      "execution_count": null,
      "outputs": []
    },
    {
      "cell_type": "code",
      "source": [
        "str1.zfill(10)"
      ],
      "metadata": {
        "id": "HT3V4XByMJ6D"
      },
      "execution_count": null,
      "outputs": []
    },
    {
      "cell_type": "code",
      "source": [
        "l1=[\"ganesh\",\"rajesh\",\"hareesh\"]\n",
        "age=30\n",
        "marks=90"
      ],
      "metadata": {
        "id": "Ytqzvn00MbUv"
      },
      "execution_count": null,
      "outputs": []
    },
    {
      "cell_type": "markdown",
      "source": [
        "#Expected output\n",
        "    name    age marks\n",
        "    ganesh  30  90\n",
        "    rajesh  30  90\n",
        "    hareesh 30  90"
      ],
      "metadata": {
        "id": "_vpALd4cM8gJ"
      }
    },
    {
      "cell_type": "code",
      "source": [
        "for i in l1:\n",
        "    print(i,\"--->\", age, marks)"
      ],
      "metadata": {
        "id": "lrSx1qhBNIL7"
      },
      "execution_count": null,
      "outputs": []
    },
    {
      "cell_type": "code",
      "source": [
        "len(\"ganesh\")"
      ],
      "metadata": {
        "id": "4okEpYcINydK"
      },
      "execution_count": null,
      "outputs": []
    },
    {
      "cell_type": "code",
      "source": [
        "for i in l1:\n",
        "    print(i.ljust(7),\"--->\",age,marks)"
      ],
      "metadata": {
        "id": "ArzJNw8SNwLd"
      },
      "execution_count": null,
      "outputs": []
    },
    {
      "cell_type": "code",
      "source": [
        "bin(16)"
      ],
      "metadata": {
        "id": "k6khCRiaOFho"
      },
      "execution_count": null,
      "outputs": []
    },
    {
      "cell_type": "code",
      "source": [
        "bin(16)[2:]"
      ],
      "metadata": {
        "id": "9LdmAvf4OfCg"
      },
      "execution_count": null,
      "outputs": []
    },
    {
      "cell_type": "code",
      "source": [
        "'00000000010000'"
      ],
      "metadata": {
        "id": "G4HfcRvnPCNP"
      },
      "execution_count": null,
      "outputs": []
    },
    {
      "cell_type": "code",
      "source": [
        "bin(16)[2:].zfill(16)"
      ],
      "metadata": {
        "id": "fGgMwSTtPQar"
      },
      "execution_count": null,
      "outputs": []
    },
    {
      "cell_type": "code",
      "source": [
        "#replace\n",
        "#join"
      ],
      "metadata": {
        "id": "G2GtLk58PgAN"
      },
      "execution_count": null,
      "outputs": []
    },
    {
      "cell_type": "code",
      "source": [
        "str2=\"######ganesh\""
      ],
      "metadata": {
        "id": "TBmXq6fBPWg6"
      },
      "execution_count": null,
      "outputs": []
    },
    {
      "cell_type": "code",
      "source": [
        "?str2.replace"
      ],
      "metadata": {
        "id": "LjThjrs3PuZg"
      },
      "execution_count": null,
      "outputs": []
    },
    {
      "cell_type": "code",
      "source": [
        "str2.replace(\"#\",\" \",-1)"
      ],
      "metadata": {
        "id": "qlsvWFSyPzI5"
      },
      "execution_count": null,
      "outputs": []
    },
    {
      "cell_type": "code",
      "source": [
        "help(str2.join)"
      ],
      "metadata": {
        "id": "WUf0ZYnWQEm6"
      },
      "execution_count": null,
      "outputs": []
    },
    {
      "cell_type": "code",
      "source": [
        "\"#\".join(str2)"
      ],
      "metadata": {
        "id": "PRJHgSBYQUfN"
      },
      "execution_count": null,
      "outputs": []
    },
    {
      "cell_type": "code",
      "source": [
        "date1"
      ],
      "metadata": {
        "id": "OYEml35UQxoi"
      },
      "execution_count": null,
      "outputs": []
    },
    {
      "cell_type": "code",
      "source": [
        "l2=date1.split(\"-\")"
      ],
      "metadata": {
        "id": "lsUvqUtcQ-U9"
      },
      "execution_count": null,
      "outputs": []
    },
    {
      "cell_type": "code",
      "source": [
        "(\"/\").join(l2)"
      ],
      "metadata": {
        "id": "zw9ArYVVRI1M"
      },
      "execution_count": null,
      "outputs": []
    },
    {
      "cell_type": "code",
      "source": [
        "\"11/10/2023\""
      ],
      "metadata": {
        "id": "2aT2-0aRQxws"
      },
      "execution_count": null,
      "outputs": []
    },
    {
      "cell_type": "code",
      "source": [
        "date1.replace(\"-\",\"/\")"
      ],
      "metadata": {
        "id": "pzhTEp_tQRCy"
      },
      "execution_count": null,
      "outputs": []
    },
    {
      "cell_type": "code",
      "source": [
        "l3=[\"a.pdf\",\"b.pdf\",\"c.txt\",\"a.txt\"]\n",
        "for i in l3:\n",
        "    print(i)"
      ],
      "metadata": {
        "id": "W-tPxd3YRgsO"
      },
      "execution_count": null,
      "outputs": []
    },
    {
      "cell_type": "code",
      "source": [
        "l3=[\"a.pdf\",\"b.pdf\",\"c.txt\",\"a.txt\"]\n",
        "for i in l3:\n",
        "    if i.startswith(\"a\"):#deep learning or machine learning\n",
        "        print(i)"
      ],
      "metadata": {
        "id": "mnNhp-8OR8KG"
      },
      "execution_count": null,
      "outputs": []
    },
    {
      "cell_type": "code",
      "source": [
        "l3=[\"a.pdf\",\"b.pdf\",\"c.txt\",\"a.txt\"]\n",
        "for i in l3:\n",
        "    if i.endswith(\"pdf\"):#deep learning or machine learning\n",
        "        print(i)"
      ],
      "metadata": {
        "id": "s23ixvjTSlea"
      },
      "execution_count": null,
      "outputs": []
    },
    {
      "cell_type": "code",
      "source": [
        "\"hello\".startswith(\"H\")"
      ],
      "metadata": {
        "id": "lXKHJZY1RsXL"
      },
      "execution_count": null,
      "outputs": []
    },
    {
      "cell_type": "code",
      "source": [
        "\"123\".isdigit()"
      ],
      "metadata": {
        "id": "g4BQWmB_TASX"
      },
      "execution_count": null,
      "outputs": []
    },
    {
      "cell_type": "code",
      "source": [
        "\" 123\".isdigit()"
      ],
      "metadata": {
        "id": "vdzMj6qJTKga"
      },
      "execution_count": null,
      "outputs": []
    },
    {
      "cell_type": "code",
      "source": [
        "\"w123\".isdigit()"
      ],
      "metadata": {
        "id": "LnpmjnnDTXuf"
      },
      "execution_count": null,
      "outputs": []
    },
    {
      "cell_type": "code",
      "source": [
        "a=input(\"enter the value: \")\n",
        "if a.isdigit():\n",
        "    a=eval(a)#evaluate expression\n",
        "    print(a, type(a))\n"
      ],
      "metadata": {
        "id": "MpOOTkJTTcyh"
      },
      "execution_count": null,
      "outputs": []
    },
    {
      "cell_type": "code",
      "source": [
        "\"a123\".isdigit()"
      ],
      "metadata": {
        "id": "bcZx5HVcUefw"
      },
      "execution_count": null,
      "outputs": []
    },
    {
      "cell_type": "code",
      "source": [
        "#isalpha"
      ],
      "metadata": {
        "id": "CauMnNZbUiIg"
      },
      "execution_count": null,
      "outputs": []
    },
    {
      "cell_type": "code",
      "source": [
        "\"is\".isalpha()"
      ],
      "metadata": {
        "id": "D6bUI-UvVxA3"
      },
      "execution_count": null,
      "outputs": []
    },
    {
      "cell_type": "code",
      "source": [
        "\"is7\".isalpha()"
      ],
      "metadata": {
        "id": "gduw_SKxWFbd"
      },
      "execution_count": null,
      "outputs": []
    },
    {
      "cell_type": "code",
      "source": [
        "#isalnum=alpha+numerical"
      ],
      "metadata": {
        "id": "WYeMocu3dEHE"
      },
      "execution_count": null,
      "outputs": []
    },
    {
      "cell_type": "code",
      "source": [
        "\"intel\".isalnum()"
      ],
      "metadata": {
        "id": "NuA3I7GhdGMa"
      },
      "execution_count": null,
      "outputs": []
    },
    {
      "cell_type": "code",
      "source": [
        "\"intel7\".isalnum()"
      ],
      "metadata": {
        "id": "CjzJSUfgdQCg"
      },
      "execution_count": null,
      "outputs": []
    },
    {
      "cell_type": "code",
      "source": [
        "\"intel7#\".isalnum()"
      ],
      "metadata": {
        "id": "-yr7nfitdVqe"
      },
      "execution_count": null,
      "outputs": []
    },
    {
      "cell_type": "code",
      "source": [
        "#String methods"
      ],
      "metadata": {
        "id": "V-llzCfmdeGh"
      },
      "execution_count": null,
      "outputs": []
    },
    {
      "cell_type": "code",
      "source": [
        "len()\n",
        "min()\n",
        "max()"
      ],
      "metadata": {
        "id": "KAa8p6fadh-0"
      },
      "execution_count": null,
      "outputs": []
    },
    {
      "cell_type": "code",
      "source": [
        "str1=\"python program\""
      ],
      "metadata": {
        "id": "8YWsbt1Udpf9"
      },
      "execution_count": null,
      "outputs": []
    },
    {
      "cell_type": "code",
      "source": [
        "min(str1)#depands on ASCII value"
      ],
      "metadata": {
        "id": "bPXhwu06dtZu"
      },
      "execution_count": null,
      "outputs": []
    },
    {
      "cell_type": "code",
      "source": [
        "min(1,2,4)"
      ],
      "metadata": {
        "id": "psnay3GXd6et"
      },
      "execution_count": null,
      "outputs": []
    },
    {
      "cell_type": "code",
      "source": [
        "max(1,2,4)"
      ],
      "metadata": {
        "id": "mnw3kNHAepM_"
      },
      "execution_count": null,
      "outputs": []
    },
    {
      "cell_type": "code",
      "source": [
        "str1.split(\" \")"
      ],
      "metadata": {
        "id": "OXVgYVJpdxT9"
      },
      "execution_count": null,
      "outputs": []
    },
    {
      "cell_type": "code",
      "source": [
        "max(str1)"
      ],
      "metadata": {
        "id": "7zIl5f5NeWDf"
      },
      "execution_count": null,
      "outputs": []
    },
    {
      "cell_type": "code",
      "source": [
        "ord(\"y\")"
      ],
      "metadata": {
        "id": "VH_YBG6AezSg"
      },
      "execution_count": null,
      "outputs": []
    },
    {
      "cell_type": "code",
      "source": [
        "ord(\"Y\")"
      ],
      "metadata": {
        "id": "eZZRhnpde1RX"
      },
      "execution_count": null,
      "outputs": []
    },
    {
      "cell_type": "code",
      "source": [
        "ord(\" \")"
      ],
      "metadata": {
        "id": "hHqqyBOGe3PA"
      },
      "execution_count": null,
      "outputs": []
    },
    {
      "cell_type": "code",
      "source": [
        "for i in str1:\n",
        "    print(i,\"--->\",ord(i))"
      ],
      "metadata": {
        "id": "aJyxE_zle8AL"
      },
      "execution_count": null,
      "outputs": []
    },
    {
      "cell_type": "code",
      "source": [
        "max(\"hello#\")"
      ],
      "metadata": {
        "id": "5iiVJoNKfRSy"
      },
      "execution_count": null,
      "outputs": []
    },
    {
      "cell_type": "code",
      "source": [
        "ord(\"#\")"
      ],
      "metadata": {
        "id": "8T6Pw000fUd5"
      },
      "execution_count": null,
      "outputs": []
    },
    {
      "cell_type": "code",
      "source": [
        " for i in \"hello#\":\n",
        "    print(i,\"--->\",ord(i))"
      ],
      "metadata": {
        "id": "pXF4RJ04fKjs"
      },
      "execution_count": null,
      "outputs": []
    },
    {
      "cell_type": "code",
      "source": [
        "min(\"hello#\")"
      ],
      "metadata": {
        "id": "IZYBVY2MfpUT"
      },
      "execution_count": null,
      "outputs": []
    },
    {
      "cell_type": "code",
      "source": [
        "\"is\".islower()"
      ],
      "metadata": {
        "id": "x9aUqaEKfqy-"
      },
      "execution_count": null,
      "outputs": []
    },
    {
      "cell_type": "code",
      "source": [
        "\"iT\".isupper()"
      ],
      "metadata": {
        "id": "t08qZt3ggJuN"
      },
      "execution_count": null,
      "outputs": []
    },
    {
      "cell_type": "code",
      "source": [
        "\"iT\".islower()"
      ],
      "metadata": {
        "id": "JdWcDnnKgFVj"
      },
      "execution_count": null,
      "outputs": []
    },
    {
      "cell_type": "code",
      "source": [
        "\"python program\".isspace()"
      ],
      "metadata": {
        "id": "vAvpiXE3gOKz"
      },
      "execution_count": null,
      "outputs": []
    },
    {
      "cell_type": "code",
      "source": [
        "\" \".isspace()"
      ],
      "metadata": {
        "id": "0lSSQDUXgVXd"
      },
      "execution_count": null,
      "outputs": []
    },
    {
      "cell_type": "code",
      "source": [
        "\"@a\".isidentifier()"
      ],
      "metadata": {
        "id": "_aEksLA_gYWA"
      },
      "execution_count": null,
      "outputs": []
    },
    {
      "cell_type": "code",
      "source": [
        "@a=3"
      ],
      "metadata": {
        "id": "5NIkzUeBgim7"
      },
      "execution_count": null,
      "outputs": []
    },
    {
      "cell_type": "code",
      "source": [
        "\"_a\".isidentifier()"
      ],
      "metadata": {
        "id": "If3YuXKTgla8"
      },
      "execution_count": null,
      "outputs": []
    },
    {
      "cell_type": "code",
      "source": [
        "\"1w\".isdecimal()"
      ],
      "metadata": {
        "id": "ksA17Ttbgy6E"
      },
      "execution_count": null,
      "outputs": []
    },
    {
      "cell_type": "code",
      "source": [
        "\"1.2\".isdigit()"
      ],
      "metadata": {
        "id": "wGMjPT8Yhcgt"
      },
      "execution_count": null,
      "outputs": []
    },
    {
      "cell_type": "code",
      "source": [
        "\"11.2\".isnumeric()"
      ],
      "metadata": {
        "id": "FWdS7ZzDh02O"
      },
      "execution_count": null,
      "outputs": []
    },
    {
      "cell_type": "code",
      "source": [
        "w=\"ganeshn\\nradha\""
      ],
      "metadata": {
        "id": "YJz4wcf7h35C"
      },
      "execution_count": null,
      "outputs": []
    },
    {
      "cell_type": "code",
      "source": [
        "w.splitlines()"
      ],
      "metadata": {
        "id": "Sq5gj8p6i5QD"
      },
      "execution_count": null,
      "outputs": []
    },
    {
      "cell_type": "code",
      "source": [
        "a=\"ganesh\"\n",
        "b =\"this is \"\n",
        "print(\"hi everyone {} {}\".format(a, b))"
      ],
      "metadata": {
        "id": "3DiyGgJwjDyT"
      },
      "execution_count": null,
      "outputs": []
    },
    {
      "cell_type": "code",
      "source": [
        "#list data type\n",
        "list is collection of sequaence data type\n",
        "it is heterogeneus data type\n",
        "List is mutable data types\n",
        "it is non-primitive data type"
      ],
      "metadata": {
        "id": "dzDK7dgskWOX"
      },
      "execution_count": null,
      "outputs": []
    },
    {
      "cell_type": "code",
      "source": [
        "list1=[1,2,3]"
      ],
      "metadata": {
        "id": "ewgmpw36lgvA"
      },
      "execution_count": null,
      "outputs": []
    },
    {
      "cell_type": "code",
      "source": [
        "type(list1)"
      ],
      "metadata": {
        "id": "1rhQYG5eluz2"
      },
      "execution_count": null,
      "outputs": []
    },
    {
      "cell_type": "code",
      "source": [
        "l2=[]"
      ],
      "metadata": {
        "id": "NQMF9mqelzpW"
      },
      "execution_count": null,
      "outputs": []
    },
    {
      "cell_type": "code",
      "source": [
        "type(l2)"
      ],
      "metadata": {
        "id": "9OPr_Ivhl5i8"
      },
      "execution_count": null,
      "outputs": []
    },
    {
      "cell_type": "code",
      "source": [
        "#append is adding element end of list only one element"
      ],
      "metadata": {
        "id": "qg2f7gqCmPnT"
      },
      "execution_count": null,
      "outputs": []
    },
    {
      "cell_type": "code",
      "source": [
        "l2.append(1)"
      ],
      "metadata": {
        "id": "n8iMN0Gbl7ti"
      },
      "execution_count": null,
      "outputs": []
    },
    {
      "cell_type": "code",
      "source": [
        "l2"
      ],
      "metadata": {
        "id": "LeKVYOgumMZ_"
      },
      "execution_count": null,
      "outputs": []
    },
    {
      "cell_type": "code",
      "source": [
        "l2.append(\"3\")"
      ],
      "metadata": {
        "id": "L3RCLl4jmh68"
      },
      "execution_count": null,
      "outputs": []
    },
    {
      "cell_type": "code",
      "source": [
        "l2"
      ],
      "metadata": {
        "id": "IkzIy-_0mq_b"
      },
      "execution_count": null,
      "outputs": []
    },
    {
      "cell_type": "code",
      "source": [
        "#extend we can mulitple values\n",
        "l2.extend([1,2,3])"
      ],
      "metadata": {
        "id": "PlpxL2uzmr-V"
      },
      "execution_count": null,
      "outputs": []
    },
    {
      "cell_type": "code",
      "source": [
        "l2.clear()"
      ],
      "metadata": {
        "id": "RzViSX3dnMrU"
      },
      "execution_count": null,
      "outputs": []
    },
    {
      "cell_type": "code",
      "source": [
        "l2"
      ],
      "metadata": {
        "id": "rKak1_DNnUjf"
      },
      "execution_count": null,
      "outputs": []
    },
    {
      "cell_type": "code",
      "source": [
        "l2.insert(2,\"e\")"
      ],
      "metadata": {
        "id": "7gn4xGTqnVM4"
      },
      "execution_count": null,
      "outputs": []
    },
    {
      "cell_type": "code",
      "source": [
        "l2.index(\"e\")"
      ],
      "metadata": {
        "id": "ZeTstfElnux-"
      },
      "execution_count": null,
      "outputs": []
    },
    {
      "cell_type": "code",
      "source": [
        "l2.count(1)"
      ],
      "metadata": {
        "id": "l_SNdnuJny4V"
      },
      "execution_count": null,
      "outputs": []
    },
    {
      "cell_type": "code",
      "source": [
        "l2.pop()"
      ],
      "metadata": {
        "id": "auTGLnyun9kB"
      },
      "execution_count": null,
      "outputs": []
    },
    {
      "cell_type": "code",
      "source": [
        "l2"
      ],
      "metadata": {
        "id": "OUfTctrtoJgM"
      },
      "execution_count": null,
      "outputs": []
    },
    {
      "cell_type": "code",
      "source": [
        "l2.remove(1)"
      ],
      "metadata": {
        "id": "dfR69ylMoKBp"
      },
      "execution_count": null,
      "outputs": []
    },
    {
      "cell_type": "code",
      "source": [
        "l2"
      ],
      "metadata": {
        "id": "pcVFwysXoYSj"
      },
      "execution_count": null,
      "outputs": []
    },
    {
      "cell_type": "code",
      "source": [
        "l2.remove(\"e\")"
      ],
      "metadata": {
        "id": "ctaenJEkoY1n"
      },
      "execution_count": null,
      "outputs": []
    },
    {
      "cell_type": "code",
      "source": [
        "l2"
      ],
      "metadata": {
        "id": "ZtDwMPAGodCL"
      },
      "execution_count": null,
      "outputs": []
    },
    {
      "cell_type": "code",
      "source": [
        "l3=l2.copy()"
      ],
      "metadata": {
        "id": "KUwXFU_bodf1"
      },
      "execution_count": null,
      "outputs": []
    },
    {
      "cell_type": "code",
      "source": [
        "l3"
      ],
      "metadata": {
        "id": "5l5Rr_4hormQ"
      },
      "execution_count": null,
      "outputs": []
    },
    {
      "cell_type": "code",
      "source": [
        "id(l3) #because mutable datatype"
      ],
      "metadata": {
        "id": "DKQmgc3LosPf"
      },
      "execution_count": null,
      "outputs": []
    },
    {
      "cell_type": "code",
      "source": [
        "id(l2)"
      ],
      "metadata": {
        "id": "hxT7_wBZoyVb"
      },
      "execution_count": null,
      "outputs": []
    },
    {
      "cell_type": "code",
      "source": [
        "l4=[1,2,3]"
      ],
      "metadata": {
        "id": "M33AsVc9o-HS"
      },
      "execution_count": null,
      "outputs": []
    },
    {
      "cell_type": "code",
      "source": [
        "l5=[1,3,2]"
      ],
      "metadata": {
        "id": "UTGC_GR9pC7i"
      },
      "execution_count": null,
      "outputs": []
    },
    {
      "cell_type": "code",
      "source": [
        "l4==l5"
      ],
      "metadata": {
        "id": "4RkoSiLfpU2u"
      },
      "execution_count": null,
      "outputs": []
    },
    {
      "cell_type": "code",
      "source": [
        "l5.sort(reverse=True)"
      ],
      "metadata": {
        "id": "3gxAxE_npaJK"
      },
      "execution_count": null,
      "outputs": []
    },
    {
      "cell_type": "code",
      "source": [
        "l5"
      ],
      "metadata": {
        "id": "S04tHw_Kph8M"
      },
      "execution_count": null,
      "outputs": []
    },
    {
      "cell_type": "code",
      "source": [
        "r=[\"q\",\"s\",\"t\"]"
      ],
      "metadata": {
        "id": "wZP62G08qECS"
      },
      "execution_count": null,
      "outputs": []
    },
    {
      "cell_type": "code",
      "source": [
        "r.reverse()"
      ],
      "metadata": {
        "id": "RbrjFyT4picN"
      },
      "execution_count": null,
      "outputs": []
    },
    {
      "cell_type": "code",
      "source": [
        "r."
      ],
      "metadata": {
        "id": "C9q5JHo7pk3L"
      },
      "execution_count": null,
      "outputs": []
    },
    {
      "cell_type": "code",
      "source": [
        "#indexing and slicing\n"
      ],
      "metadata": {
        "id": "grrXRI02rPiv"
      },
      "execution_count": null,
      "outputs": []
    },
    {
      "cell_type": "code",
      "source": [
        "#tuple is\n",
        "list is collection of sequaence data types\n",
        "it is heterogeneus data type\n",
        "List is immutable data types can't change\n",
        "it is non-primitive data type\n",
        "tuple is starts ()\n",
        "empty tuple is ()"
      ],
      "metadata": {
        "id": "yO_EI2sdqj7A"
      },
      "execution_count": null,
      "outputs": []
    },
    {
      "cell_type": "code",
      "source": [
        "tpl=()"
      ],
      "metadata": {
        "id": "pFetQzRnq54A"
      },
      "execution_count": null,
      "outputs": []
    },
    {
      "cell_type": "code",
      "source": [
        "print(type(tpl))"
      ],
      "metadata": {
        "id": "nvSgVfOiq-k4"
      },
      "execution_count": null,
      "outputs": []
    },
    {
      "cell_type": "code",
      "source": [
        "tp2=(1)"
      ],
      "metadata": {
        "id": "YXTFjtjdrBHl"
      },
      "execution_count": null,
      "outputs": []
    },
    {
      "cell_type": "code",
      "source": [
        "type(tp2)"
      ],
      "metadata": {
        "id": "d8io9GRfsx4j"
      },
      "execution_count": null,
      "outputs": []
    },
    {
      "cell_type": "code",
      "source": [
        "tp3=(1,)"
      ],
      "metadata": {
        "id": "uRE5K1kns1y0"
      },
      "execution_count": null,
      "outputs": []
    },
    {
      "cell_type": "code",
      "source": [
        "type(tp3)"
      ],
      "metadata": {
        "id": "VNJ8GT68tAdj"
      },
      "execution_count": null,
      "outputs": []
    },
    {
      "cell_type": "code",
      "source": [
        "tp3=(1,2,3,\"w\",\"r\")"
      ],
      "metadata": {
        "id": "Qp1Eyol6tCIP"
      },
      "execution_count": null,
      "outputs": []
    },
    {
      "cell_type": "code",
      "source": [
        "tp3"
      ],
      "metadata": {
        "id": "1L3yLbq6tOQZ"
      },
      "execution_count": null,
      "outputs": []
    },
    {
      "cell_type": "code",
      "source": [
        "tup4= 1,2,3,\"w\",\"r\""
      ],
      "metadata": {
        "id": "g0g_1uMwtO_p"
      },
      "execution_count": null,
      "outputs": []
    },
    {
      "cell_type": "code",
      "source": [
        "tup4"
      ],
      "metadata": {
        "id": "1rI46H7KtXJ0"
      },
      "execution_count": null,
      "outputs": []
    },
    {
      "cell_type": "code",
      "source": [
        "tup4[1]"
      ],
      "metadata": {
        "id": "L2Q2Bvj_tbhV"
      },
      "execution_count": null,
      "outputs": []
    },
    {
      "cell_type": "code",
      "source": [
        "A=(\"ganesh\",\"radha\",\"hareesh\")\n",
        "A[2]#A[-1]"
      ],
      "metadata": {
        "id": "CgT59nWKtX5S"
      },
      "execution_count": null,
      "outputs": []
    },
    {
      "cell_type": "code",
      "source": [
        "#arrays are -------->homogeneueos\n",
        "#tuple and list are heterogeneuoes"
      ],
      "metadata": {
        "id": "nk0C3vC6tvni"
      },
      "execution_count": null,
      "outputs": []
    },
    {
      "cell_type": "code",
      "source": [
        "l6=[1,2,3,\"ty\"]"
      ],
      "metadata": {
        "id": "L5XMIuUQuI_X"
      },
      "execution_count": null,
      "outputs": []
    },
    {
      "cell_type": "code",
      "source": [
        "import array"
      ],
      "metadata": {
        "id": "1bGf4cw9t5q3"
      },
      "execution_count": null,
      "outputs": []
    },
    {
      "cell_type": "code",
      "source": [
        "array.array('i',(1,2,\"d\",4))"
      ],
      "metadata": {
        "id": "tztHZfwmt9DX"
      },
      "execution_count": null,
      "outputs": []
    },
    {
      "cell_type": "code",
      "source": [
        "array.array('f',(1.2,2,3,3))"
      ],
      "metadata": {
        "id": "vBm7_FeguDWY"
      },
      "execution_count": null,
      "outputs": []
    },
    {
      "cell_type": "code",
      "source": [
        "import numpy as np"
      ],
      "metadata": {
        "id": "ZJKPd2siuSLm"
      },
      "execution_count": null,
      "outputs": []
    },
    {
      "cell_type": "code",
      "source": [
        "np.arange(20) #arange is numpy function"
      ],
      "metadata": {
        "id": "fHD_JHV6ueoC"
      },
      "execution_count": null,
      "outputs": []
    },
    {
      "cell_type": "code",
      "source": [
        "l1=[1,2,3]\n",
        "l2=[1,2,3]"
      ],
      "metadata": {
        "id": "bwgLLDgLuh39"
      },
      "execution_count": null,
      "outputs": []
    },
    {
      "cell_type": "code",
      "source": [
        "l1+l2 #concatenation not addition"
      ],
      "metadata": {
        "id": "ZlARwzZsuykU"
      },
      "execution_count": null,
      "outputs": []
    },
    {
      "cell_type": "code",
      "source": [
        "a1=array.array('i',(1,2,3))"
      ],
      "metadata": {
        "id": "5KcXVAVtu92N"
      },
      "execution_count": null,
      "outputs": []
    },
    {
      "cell_type": "code",
      "source": [
        "a2=array.array('i',(1,2,3))"
      ],
      "metadata": {
        "id": "LtflawjovHWx"
      },
      "execution_count": null,
      "outputs": []
    },
    {
      "cell_type": "code",
      "source": [
        "a1+a2"
      ],
      "metadata": {
        "id": "yXNGOz9evJBp"
      },
      "execution_count": null,
      "outputs": []
    },
    {
      "cell_type": "code",
      "source": [
        "n1=np.arange(3)"
      ],
      "metadata": {
        "id": "vMaIRK7bvQN4"
      },
      "execution_count": null,
      "outputs": []
    },
    {
      "cell_type": "code",
      "source": [
        "n2=np.arange(3)"
      ],
      "metadata": {
        "id": "-7SOtxgZvXwP"
      },
      "execution_count": null,
      "outputs": []
    },
    {
      "cell_type": "code",
      "source": [
        "n1"
      ],
      "metadata": {
        "id": "2UD3QUqvvaLK"
      },
      "execution_count": null,
      "outputs": []
    },
    {
      "cell_type": "code",
      "source": [
        "n2"
      ],
      "metadata": {
        "id": "5SQIopTtva6U"
      },
      "execution_count": null,
      "outputs": []
    },
    {
      "cell_type": "code",
      "source": [
        "n1+n2 #addition"
      ],
      "metadata": {
        "id": "0QIg523Mvbft"
      },
      "execution_count": null,
      "outputs": []
    },
    {
      "cell_type": "code",
      "source": [
        "l1*l2"
      ],
      "metadata": {
        "id": "yWGvxLjevwsd"
      },
      "execution_count": null,
      "outputs": []
    },
    {
      "cell_type": "code",
      "source": [
        "l1-l2 +,*,**,/,%,//,-"
      ],
      "metadata": {
        "id": "DVab0_Euv-eL"
      },
      "execution_count": null,
      "outputs": []
    },
    {
      "cell_type": "code",
      "source": [
        "1/2 #simple division"
      ],
      "metadata": {
        "id": "REWhI3--wSvC"
      },
      "execution_count": null,
      "outputs": []
    },
    {
      "cell_type": "code",
      "source": [
        "5%2 #remainder division"
      ],
      "metadata": {
        "id": "WhrIFmpVwYic"
      },
      "execution_count": null,
      "outputs": []
    },
    {
      "cell_type": "code",
      "source": [
        "5//2 #floor division"
      ],
      "metadata": {
        "id": "hlDus9edwkAu"
      },
      "execution_count": null,
      "outputs": []
    },
    {
      "cell_type": "code",
      "source": [
        "import math"
      ],
      "metadata": {
        "id": "RCQj6tfJxAaM"
      },
      "execution_count": null,
      "outputs": []
    },
    {
      "cell_type": "code",
      "source": [
        "dir(math)"
      ],
      "metadata": {
        "id": "0VfeVcVKxCBU"
      },
      "execution_count": null,
      "outputs": []
    },
    {
      "cell_type": "code",
      "source": [
        "math.factorial(5)"
      ],
      "metadata": {
        "id": "ZdFfnIX6xD0Y"
      },
      "execution_count": null,
      "outputs": []
    },
    {
      "cell_type": "code",
      "source": [
        "math.floor(2.6)"
      ],
      "metadata": {
        "id": "4ogWn6ThxI44"
      },
      "execution_count": null,
      "outputs": []
    },
    {
      "cell_type": "code",
      "source": [
        "math.ceil(2.6)"
      ],
      "metadata": {
        "id": "urkqSYhqxn_U"
      },
      "execution_count": null,
      "outputs": []
    },
    {
      "cell_type": "code",
      "source": [
        "import os"
      ],
      "metadata": {
        "id": "Szdzj5y5x4ER"
      },
      "execution_count": null,
      "outputs": []
    },
    {
      "cell_type": "code",
      "source": [
        "os.getcwd()"
      ],
      "metadata": {
        "id": "Lw9cJEyJx5Xc"
      },
      "execution_count": null,
      "outputs": []
    },
    {
      "cell_type": "code",
      "source": [
        "os.mkdir(\"ganesh\")"
      ],
      "metadata": {
        "id": "pVeFdSmdyFdI"
      },
      "execution_count": null,
      "outputs": []
    },
    {
      "cell_type": "code",
      "source": [
        "os.cd(\"ganesh\")"
      ],
      "metadata": {
        "id": "M3AEu4QHyK7c"
      },
      "execution_count": null,
      "outputs": []
    },
    {
      "cell_type": "code",
      "source": [
        "A"
      ],
      "metadata": {
        "id": "o62944nAydef"
      },
      "execution_count": null,
      "outputs": []
    },
    {
      "cell_type": "code",
      "source": [
        "type(A[0])"
      ],
      "metadata": {
        "id": "4olhBW0dyOlz"
      },
      "execution_count": null,
      "outputs": []
    },
    {
      "cell_type": "code",
      "source": [
        "#slicing\n",
        "A[0:2]"
      ],
      "metadata": {
        "id": "GnLhfbd5ytG8"
      },
      "execution_count": null,
      "outputs": []
    },
    {
      "cell_type": "code",
      "source": [
        "A[:]"
      ],
      "metadata": {
        "id": "lpi30ts_y1pA"
      },
      "execution_count": null,
      "outputs": []
    },
    {
      "cell_type": "code",
      "source": [
        "A[::-1]"
      ],
      "metadata": {
        "id": "HCWOaeDjy8lN"
      },
      "execution_count": null,
      "outputs": []
    },
    {
      "cell_type": "code",
      "source": [
        "A[0][0]"
      ],
      "metadata": {
        "id": "UijJWr0szAgQ"
      },
      "execution_count": null,
      "outputs": []
    },
    {
      "cell_type": "code",
      "source": [
        "l8=['ganesh', 'radha', 'hareesh']"
      ],
      "metadata": {
        "id": "g2_omuw0zS4y"
      },
      "execution_count": null,
      "outputs": []
    },
    {
      "cell_type": "code",
      "source": [
        "l8[0][0]"
      ],
      "metadata": {
        "id": "fz5jW7idzZmB"
      },
      "execution_count": null,
      "outputs": []
    },
    {
      "cell_type": "code",
      "source": [
        "#unpacking"
      ],
      "metadata": {
        "id": "sIUd496Jzfma"
      },
      "execution_count": null,
      "outputs": []
    },
    {
      "cell_type": "code",
      "source": [
        "tp4=(1,2)"
      ],
      "metadata": {
        "id": "RGLavwTPzldv"
      },
      "execution_count": null,
      "outputs": []
    },
    {
      "cell_type": "code",
      "source": [
        "print(tp4)"
      ],
      "metadata": {
        "id": "jmXrSFawzojq"
      },
      "execution_count": null,
      "outputs": []
    },
    {
      "cell_type": "code",
      "source": [
        "a,b=tp4"
      ],
      "metadata": {
        "id": "doV55sQTzqsB"
      },
      "execution_count": null,
      "outputs": []
    },
    {
      "cell_type": "code",
      "source": [
        "a"
      ],
      "metadata": {
        "id": "Y4itj1fuzvQr"
      },
      "execution_count": null,
      "outputs": []
    },
    {
      "cell_type": "code",
      "source": [
        "b"
      ],
      "metadata": {
        "id": "oFuLG9NQzw82"
      },
      "execution_count": null,
      "outputs": []
    },
    {
      "cell_type": "code",
      "source": [
        "a,b,c=(10,20)"
      ],
      "metadata": {
        "id": "fCc0JFu8zx22"
      },
      "execution_count": null,
      "outputs": []
    },
    {
      "cell_type": "code",
      "source": [
        "a,b,*c=(10,20,30,30)"
      ],
      "metadata": {
        "id": "qVfsVukxz5gM"
      },
      "execution_count": null,
      "outputs": []
    },
    {
      "cell_type": "code",
      "source": [
        "c"
      ],
      "metadata": {
        "id": "heHKttia0JUm"
      },
      "execution_count": null,
      "outputs": []
    },
    {
      "cell_type": "code",
      "source": [
        "tp5=tp4"
      ],
      "metadata": {
        "id": "NYR-wkaI0Rmq"
      },
      "execution_count": null,
      "outputs": []
    },
    {
      "cell_type": "code",
      "source": [
        "tp4"
      ],
      "metadata": {
        "id": "R4PwUtaU0g1z"
      },
      "execution_count": null,
      "outputs": []
    },
    {
      "cell_type": "code",
      "source": [
        "tp5"
      ],
      "metadata": {
        "id": "2dvQ9m5e0l74"
      },
      "execution_count": null,
      "outputs": []
    },
    {
      "cell_type": "code",
      "source": [
        "id(tp4)"
      ],
      "metadata": {
        "id": "gm4ZNKUi0m8y"
      },
      "execution_count": null,
      "outputs": []
    },
    {
      "cell_type": "code",
      "source": [
        "id(tp5)"
      ],
      "metadata": {
        "id": "gbMuw2Zh0pId"
      },
      "execution_count": null,
      "outputs": []
    },
    {
      "cell_type": "code",
      "source": [
        "#because it is immuatable"
      ],
      "metadata": {
        "id": "1dsab1zJ0q1y"
      },
      "execution_count": null,
      "outputs": []
    },
    {
      "cell_type": "code",
      "source": [
        "#Update list\n",
        "A=[1,2,4]"
      ],
      "metadata": {
        "id": "w-K7VY0q1rdb"
      },
      "execution_count": null,
      "outputs": []
    },
    {
      "cell_type": "code",
      "source": [
        "A[1]=3"
      ],
      "metadata": {
        "id": "giQVrBHy1vuP"
      },
      "execution_count": null,
      "outputs": []
    },
    {
      "cell_type": "code",
      "source": [
        "A"
      ],
      "metadata": {
        "id": "Q102ZM8915CP"
      },
      "execution_count": null,
      "outputs": []
    },
    {
      "cell_type": "code",
      "source": [
        "#update tuple"
      ],
      "metadata": {
        "id": "-Xwcjkua15ww"
      },
      "execution_count": null,
      "outputs": []
    },
    {
      "cell_type": "code",
      "source": [
        "A=(1,2,4)"
      ],
      "metadata": {
        "id": "vkpXKDvg2Azm"
      },
      "execution_count": null,
      "outputs": []
    },
    {
      "cell_type": "code",
      "source": [
        "# Convert the tuple to a list\n",
        "tuples = (0, 2, 4, 6, 8)\n",
        "mylist = list(tuples)"
      ],
      "metadata": {
        "id": "UF9UKdZ_2WWL"
      },
      "execution_count": null,
      "outputs": []
    },
    {
      "cell_type": "code",
      "source": [
        "mylist[4]=21"
      ],
      "metadata": {
        "id": "gJ2XbMh74Ggu"
      },
      "execution_count": null,
      "outputs": []
    },
    {
      "cell_type": "code",
      "source": [
        "mylist"
      ],
      "metadata": {
        "id": "6Ticf5ks4N6G"
      },
      "execution_count": null,
      "outputs": []
    },
    {
      "cell_type": "code",
      "source": [
        "t=tuple(mylist)\n",
        "print(t)"
      ],
      "metadata": {
        "id": "xFYvbu_y4Bf9"
      },
      "execution_count": null,
      "outputs": []
    },
    {
      "cell_type": "code",
      "source": [
        "A"
      ],
      "metadata": {
        "id": "bAbPYZen2DPt"
      },
      "execution_count": null,
      "outputs": []
    },
    {
      "cell_type": "code",
      "source": [
        "A[1]=3"
      ],
      "metadata": {
        "id": "j64dlIcH2EEQ"
      },
      "execution_count": null,
      "outputs": []
    },
    {
      "cell_type": "code",
      "source": [
        "t1=(1,2,3,3,4,5,6,6,7,7)"
      ],
      "metadata": {
        "id": "l1yi_BdW2QUe"
      },
      "execution_count": null,
      "outputs": []
    },
    {
      "cell_type": "code",
      "source": [
        "t1.count(3)"
      ],
      "metadata": {
        "id": "SOQhEZ0T4q2M"
      },
      "execution_count": null,
      "outputs": []
    },
    {
      "cell_type": "code",
      "source": [
        "t1.index(7)"
      ],
      "metadata": {
        "id": "PXAjRMdT41Gq"
      },
      "execution_count": null,
      "outputs": []
    },
    {
      "cell_type": "code",
      "source": [
        "#to get the all the occurances right from the loop"
      ],
      "metadata": {
        "id": "6VRMeNSt2Gqx"
      },
      "execution_count": null,
      "outputs": []
    },
    {
      "cell_type": "code",
      "source": [
        "t2=(10,20,10)"
      ],
      "metadata": {
        "id": "BElyMb3Y5JQQ"
      },
      "execution_count": null,
      "outputs": []
    },
    {
      "cell_type": "code",
      "source": [
        "t1+t2"
      ],
      "metadata": {
        "id": "lL7abT075MyH"
      },
      "execution_count": null,
      "outputs": []
    },
    {
      "cell_type": "code",
      "source": [
        "#no mutlipication tuple with tuple\n",
        "t1*2#t1+t1"
      ],
      "metadata": {
        "id": "1-nGkyS45R0r"
      },
      "execution_count": null,
      "outputs": []
    },
    {
      "cell_type": "code",
      "source": [
        "print(t2[0])"
      ],
      "metadata": {
        "id": "oHrEIaRa5js9"
      },
      "execution_count": null,
      "outputs": []
    },
    {
      "cell_type": "code",
      "source": [
        "print(t2[2])"
      ],
      "metadata": {
        "id": "eFZOaOAj5qIf"
      },
      "execution_count": null,
      "outputs": []
    },
    {
      "cell_type": "code",
      "source": [
        "id(t2[0])"
      ],
      "metadata": {
        "id": "YOZDJKis5n6q"
      },
      "execution_count": null,
      "outputs": []
    },
    {
      "cell_type": "code",
      "source": [
        "id(t2[2])"
      ],
      "metadata": {
        "id": "jwXxUy_j50Dm"
      },
      "execution_count": null,
      "outputs": []
    },
    {
      "cell_type": "code",
      "source": [],
      "metadata": {
        "id": "8YqlLxBz6dQs"
      },
      "execution_count": null,
      "outputs": []
    }
  ]
}