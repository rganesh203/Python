{
  "nbformat": 4,
  "nbformat_minor": 0,
  "metadata": {
    "colab": {
      "private_outputs": true,
      "provenance": [],
      "authorship_tag": "ABX9TyMVsXvRgF1Fi1k/qe2hJ51r",
      "include_colab_link": true
    },
    "kernelspec": {
      "name": "python3",
      "display_name": "Python 3"
    },
    "language_info": {
      "name": "python"
    }
  },
  "cells": [
    {
      "cell_type": "markdown",
      "metadata": {
        "id": "view-in-github",
        "colab_type": "text"
      },
      "source": [
        "<a href=\"https://colab.research.google.com/github/rganesh203/Python-Core-Fundamentals/blob/main/decorators_and_threading.ipynb\" target=\"_parent\"><img src=\"https://colab.research.google.com/assets/colab-badge.svg\" alt=\"Open In Colab\"/></a>"
      ]
    },
    {
      "cell_type": "code",
      "execution_count": null,
      "metadata": {
        "id": "zkw0VSJuUHQ7"
      },
      "outputs": [],
      "source": [
        "#decorators\n",
        "def square(n):\n",
        "    result=[]\n",
        "    for i in n:\n",
        "        result.append(i*i)\n",
        "    print(result)\n",
        "def cube(n):\n",
        "    result=[]\n",
        "    for i in n:\n",
        "        result.append(i*i*i)\n",
        "    print(result)\n",
        "array=range(1,10)\n",
        "square(array)\n",
        "cube(array)"
      ]
    },
    {
      "cell_type": "code",
      "source": [
        "#decorators\n",
        "import time\n",
        "\n",
        "def square(n):\n",
        "    start=time.time()\n",
        "    result=[]\n",
        "    for i in n:\n",
        "        result.append(i*i)\n",
        "    end=time.time()\n",
        "    print(\"cal_square took: \"+str((end-start)*1000)+\"msec\")\n",
        "    print(result)\n",
        "def cube(n):\n",
        "    start=time.time()\n",
        "    result=[]\n",
        "    for i in n:\n",
        "        result.append(i*i*i)\n",
        "    print(result)\n",
        "    end=time.time()\n",
        "    print(\"cal_cube took: \"+str((end-start)*1000)+\"msec\")\n",
        "array=range(1,10)\n",
        "square(array)\n",
        "cube(array)"
      ],
      "metadata": {
        "id": "hs-6-x_3VQHw"
      },
      "execution_count": null,
      "outputs": []
    },
    {
      "cell_type": "code",
      "source": [
        "#decorators\n",
        "import time\n",
        "def time_t(func):\n",
        "    def wrapper(*args, **kwargs):\n",
        "        start=time.time()\n",
        "        result=func(*args, **kwargs)\n",
        "        end=time.time()\n",
        "        print(func.__name__ + str((end-start)*1000)+\"msec\")\n",
        "    return wrapper\n",
        "@time_t\n",
        "def square(n):\n",
        "    result=[]\n",
        "    for i in n:\n",
        "        result.append(i*i)\n",
        "    print(result)\n",
        "@time_t\n",
        "def cube(n):\n",
        "    result=[]\n",
        "    for i in n:\n",
        "        result.append(i*i*i)\n",
        "    print(result)\n",
        "array=range(1,10)\n",
        "square(array)\n",
        "cube(array)"
      ],
      "metadata": {
        "id": "j9Mv8pHgYDP8"
      },
      "execution_count": null,
      "outputs": []
    },
    {
      "cell_type": "markdown",
      "source": [
        "#decorators solve two issues\n",
        "1. Code duplication\n",
        "2. cluttering main logic of fucntion with additional functionality"
      ],
      "metadata": {
        "id": "2yuy5gUiZZ0N"
      }
    },
    {
      "cell_type": "markdown",
      "source": [
        "#Prerequisites for learning decorators\n",
        "1. Nested Function"
      ],
      "metadata": {
        "id": "4RCSMOa1aCjs"
      }
    },
    {
      "cell_type": "code",
      "source": [
        "def square(n):\n",
        "    print(\"calculted square\")\n",
        "    for i in n:\n",
        "        print(\"square\",i*i)\n",
        "def cube(n):\n",
        "    print(\"calculted cube\")\n",
        "    for i in n:\n",
        "        print(\"cube\",i*i*i)\n",
        "array=range(1,10)\n",
        "square(array)\n",
        "cube(array)"
      ],
      "metadata": {
        "id": "FtyPyLYIb5FL"
      },
      "execution_count": null,
      "outputs": []
    },
    {
      "cell_type": "code",
      "source": [
        "import time\n",
        "def square(n):\n",
        "    print(\"calculated square\")\n",
        "    for i in n:\n",
        "        time.sleep(1)\n",
        "        print(\"square\",i*i)\n",
        "def cube(n):\n",
        "    print(\"calculated cube\")\n",
        "    for i in n:\n",
        "        time.sleep(1)\n",
        "        print(\"cube\",i*i*i)\n",
        "array=range(1,10)\n",
        "t=time.time()\n",
        "square(array)\n",
        "cube(array)"
      ],
      "metadata": {
        "id": "cAcU8Awocy9e"
      },
      "execution_count": null,
      "outputs": []
    },
    {
      "cell_type": "code",
      "source": [
        "dir(time)"
      ],
      "metadata": {
        "id": "hU8Xf5QydMhK"
      },
      "execution_count": null,
      "outputs": []
    },
    {
      "cell_type": "code",
      "source": [
        "from threading import *\n",
        "import time\n",
        "class Hello(Thread):\n",
        "    def square(n):\n",
        "        for i in range(1,10):\n",
        "            print(\"square\",i*i)\n",
        "            time.sleep(1)\n",
        "class Hi(Thread):\n",
        "    def cube(n):\n",
        "        for i in range(1,10):\n",
        "            print(\"cube\",i*i*i)\n",
        "            time.sleep(1)\n",
        "t1=Hello()\n",
        "t2=Hi()\n",
        "t1.square()\n",
        "t2.cube()\n",
        "t1.start()\n",
        "t2.start()"
      ],
      "metadata": {
        "id": "gziuraNndOxx"
      },
      "execution_count": null,
      "outputs": []
    },
    {
      "cell_type": "code",
      "source": [
        "dir(threading)"
      ],
      "metadata": {
        "id": "wuFFJ8LGdXTK"
      },
      "execution_count": null,
      "outputs": []
    },
    {
      "cell_type": "code",
      "source": [
        "from threading import *\n",
        "import time\n",
        "class Hello(Thread):\n",
        "    def square(n):\n",
        "        for i in range(1,10):\n",
        "            print(\"square\",i*i)\n",
        "            time.sleep(1)\n",
        "class Hi(Thread):\n",
        "    def cube(n):\n",
        "        for i in range(1,10):\n",
        "            print(\"cube\",i*i*i)\n",
        "            time.sleep(1)\n",
        "t1=Hello()\n",
        "t2=Hi()\n",
        "t1.square()\n",
        "t2.cube()\n",
        "t1.start()\n",
        "time.sleep(0.2)\n",
        "t2.start()"
      ],
      "metadata": {
        "id": "zSDbiOeFdZtd"
      },
      "execution_count": null,
      "outputs": []
    },
    {
      "cell_type": "code",
      "source": [
        "from threading import *\n",
        "import time\n",
        "class Hello(Thread):\n",
        "    def square(n):\n",
        "        for i in range(1,10):\n",
        "            print(\"square\",i*i)\n",
        "            time.sleep(0.2)\n",
        "class Hi(Thread):\n",
        "    def cube(n):\n",
        "        for i in range(1,10):\n",
        "            print(\"cube\",i*i*i)\n",
        "            time.sleep(0.2)\n",
        "t1=Hello()\n",
        "t2=Hi()\n",
        "t1.square()\n",
        "t2.cube()\n",
        "\n",
        "t1.start()\n",
        "time.sleep(0.2)\n",
        "t2.start()\n",
        "\n",
        "t1.join()\n",
        "t2.join()\n",
        "\n",
        "print(\"bye\")"
      ],
      "metadata": {
        "id": "tNqC_qZlgCob"
      },
      "execution_count": null,
      "outputs": []
    },
    {
      "cell_type": "code",
      "source": [
        "import threading\n",
        "import time\n",
        "\n",
        "class app1(threading.Thread):\n",
        "    def run(self):\n",
        "        for i in range(5):\n",
        "            print(\"thread 1\")\n",
        "            time.sleep(1)\n",
        "\n",
        "class app2(threading.Thread):\n",
        "    def run(self):\n",
        "        for i in range(5):\n",
        "            print(\"thread 2\")\n",
        "            time.sleep(1)\n",
        "\n",
        "t1 = app1()\n",
        "t2 = app2()\n",
        "\n",
        "t1.start()\n",
        "time.sleep(0.2)\n",
        "t2.start()\n",
        "\n",
        "t1.join()\n",
        "t2.join()\n",
        "print(\"bye\")"
      ],
      "metadata": {
        "id": "6nleRCzehqSy"
      },
      "execution_count": null,
      "outputs": []
    },
    {
      "cell_type": "code",
      "source": [
        "import threading\n",
        "import time\n",
        "\n",
        "class Square(threading.Thread):\n",
        "    def run(self):\n",
        "        for i in range(1,10):\n",
        "            print (\"square\",i*i)\n",
        "            time.sleep(1)\n",
        "\n",
        "class Cube(threading.Thread):\n",
        "    def run(self):\n",
        "        for i in range(1,10):\n",
        "            print (\"cube\",i*i*i)\n",
        "            time.sleep(1)\n",
        "\n",
        "t3 = Square()\n",
        "t4 = Cube()\n",
        "\n",
        "t3.start()\n",
        "time.sleep(0.2)\n",
        "t4.start()\n",
        "\n",
        "t3.join()\n",
        "t4.join()\n",
        "\n",
        "print(\"bye\")"
      ],
      "metadata": {
        "id": "h1NmyPYAmMQs"
      },
      "execution_count": null,
      "outputs": []
    }
  ]
}