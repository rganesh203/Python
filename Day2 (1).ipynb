{
  "nbformat": 4,
  "nbformat_minor": 0,
  "metadata": {
    "colab": {
      "private_outputs": true,
      "provenance": []
    },
    "kernelspec": {
      "name": "python3",
      "display_name": "Python 3"
    },
    "language_info": {
      "name": "python"
    }
  },
  "cells": [
    {
      "cell_type": "code",
      "source": [
        "#list Methods\n",
        "    append()\tAdds an element at the end of the list\n",
        "    clear()\tRemoves all the elements from the list\n",
        "    copy()\tReturns a copy of the list\n",
        "    count()\tReturns the number of elements with the specified value\n",
        "    extend()\tAdd the elements of a list (or any iterable), to the end of the current list\n",
        "    index()\tReturns the index of the first element with the specified value\n",
        "    insert()\tAdds an element at the specified position\n",
        "    pop()\tRemoves the element at the specified position\n",
        "    remove()\tRemoves the first item with the specified value\n",
        "    reverse()\tReverses the order of the list\n",
        "    sort()      sorting all elements ascending or descending"
      ],
      "metadata": {
        "id": "Rv4jpICPpptz"
      },
      "execution_count": null,
      "outputs": []
    },
    {
      "cell_type": "code",
      "source": [
        "\n",
        "a = '1/2/3/4/h'\n",
        "b = []\n",
        "for i in a.split('/'):\n",
        "    if i.isdigit():\n",
        "        b.append(int(i))\n",
        "    else:\n",
        "        b.append(i)\n",
        "print(b)"
      ],
      "metadata": {
        "id": "uMHGDh5Epz8X"
      },
      "execution_count": null,
      "outputs": []
    },
    {
      "cell_type": "code",
      "source": [
        "d = '1/2/3/4'\n",
        "f=[]\n",
        "for j in d.split('/'):\n",
        "    #print(j)\n",
        "    f.append(int(j))\n",
        "print(f)"
      ],
      "metadata": {
        "id": "TmrEvtFXp2F3"
      },
      "execution_count": null,
      "outputs": []
    },
    {
      "cell_type": "code",
      "source": [
        "a=input(\"Enter the Password:\")\n",
        "while a== \"1234\":\n",
        "    print(\"Wrong Password\")\n",
        "    a=input(\"Enter the Password again:\")\n",
        "print(\"Welcome to python\")"
      ],
      "metadata": {
        "id": "SoYW8MxeZNlA"
      },
      "execution_count": null,
      "outputs": []
    },
    {
      "cell_type": "code",
      "source": [
        "i=1\n",
        "while i<=10:\n",
        "    print(\"welcome to python\", i)\n",
        "    i+=1#i=i+1\n"
      ],
      "metadata": {
        "id": "zomnAcnOZk0s"
      },
      "execution_count": null,
      "outputs": []
    },
    {
      "cell_type": "code",
      "source": [
        "n=int(input(\"enter the num: \"))\n",
        "sum=0\n",
        "while n>0:\n",
        "    sum+=n#\n",
        "    n-=1\n",
        "    print(\"these are n values:\", n)\n",
        "    print(\"these are sum of values:\", sum)"
      ],
      "metadata": {
        "id": "0kWcYszIZ3lP"
      },
      "execution_count": null,
      "outputs": []
    },
    {
      "cell_type": "code",
      "source": [
        "#break, continue, pass"
      ],
      "metadata": {
        "id": "npSOSa-gdjtQ"
      },
      "execution_count": null,
      "outputs": []
    },
    {
      "cell_type": "code",
      "source": [
        "#break point\n",
        "sum1=0\n",
        "while True:\n",
        "    num =int(input(\"enter the number: \"))\n",
        "    sum1+=1\n",
        "    print(sum1)\n",
        "    if num==0:\n",
        "        break\n",
        "    print(\"come out from loop\", sum)"
      ],
      "metadata": {
        "id": "wGEpDKlufMxy"
      },
      "execution_count": null,
      "outputs": []
    },
    {
      "cell_type": "code",
      "source": [
        "num=1\n",
        "while num<=10:\n",
        "    num+=1\n",
        "    if num==5:\n",
        "        continue\n",
        "    print(num)"
      ],
      "metadata": {
        "id": "ZAzgI72GhDfA"
      },
      "execution_count": null,
      "outputs": []
    },
    {
      "cell_type": "code",
      "source": [
        "a=\"ganesh\"\n",
        "for i in a:\n",
        "    if i==\"n\":\n",
        "        continue\n",
        "    print(i, end=\" \")"
      ],
      "metadata": {
        "id": "dvkFfYDiiwnC"
      },
      "execution_count": null,
      "outputs": []
    },
    {
      "cell_type": "code",
      "source": [
        "num=0\n",
        "while len(a)>num:\n",
        "    a=input(\"enter name:\")\n",
        "    if a==\"radha\":\n",
        "        continue\n",
        "    num+=1\n",
        "    print(a)"
      ],
      "metadata": {
        "id": "7PHUUJsvkdJh"
      },
      "execution_count": null,
      "outputs": []
    },
    {
      "cell_type": "code",
      "source": [
        "num=0\n",
        "while len(a)>num:\n",
        "    a=input(\"enter name:\")\n",
        "    if a==\"radha\":\n",
        "        pass\n",
        "    num+=1\n",
        "    print(a)"
      ],
      "metadata": {
        "id": "O2ZD5EaYlb8w"
      },
      "execution_count": null,
      "outputs": []
    },
    {
      "cell_type": "code",
      "source": [
        "num=0\n",
        "while len(a)>num:\n",
        "    a=\"ganesh\"\n",
        "    if a==\"ganesh\":\n",
        "        continue\n",
        "    num+=1\n",
        "    print(a)"
      ],
      "metadata": {
        "id": "DVW7Et4jly17"
      },
      "execution_count": null,
      "outputs": []
    },
    {
      "cell_type": "code",
      "source": [
        "a=\"ganesh\"\n",
        "for i in a:\n",
        "    if i==\"n\":\n",
        "        pass\n",
        "    print(i, end=\" \")"
      ],
      "metadata": {
        "id": "mmr2VF0Mk2op"
      },
      "execution_count": null,
      "outputs": []
    },
    {
      "cell_type": "code",
      "source": [
        "def add():\n",
        "    pass"
      ],
      "metadata": {
        "id": "XbdhxoTollYw"
      },
      "execution_count": null,
      "outputs": []
    },
    {
      "cell_type": "code",
      "source": [
        "class Add:\n",
        "    pass"
      ],
      "metadata": {
        "id": "5NSoQQ-xlqEH"
      },
      "execution_count": null,
      "outputs": []
    },
    {
      "cell_type": "code",
      "execution_count": null,
      "metadata": {
        "id": "05XE3yflNasw"
      },
      "outputs": [],
      "source": [
        "def flat(lis):\n",
        "    flatList = []\n",
        "    # Iterate with outer list\n",
        "    for element in lis:\n",
        "        if type(element) is list:\n",
        "            # Check if type is list than iterate through the sublist\n",
        "            for item in element:\n",
        "                flatList.append(item)\n",
        "        else:\n",
        "            flatList.append(element)\n",
        "    return flatList\n",
        "lis = [[11, 22, 33, 44], [55, 66, 77], [88, 99, 100]]\n",
        "print('List', lis)\n",
        "print('Flat List', flat(lis))"
      ]
    },
    {
      "cell_type": "code",
      "source": [
        "# Original list\n",
        "lis = [[11, 22, 33, 44], [55, 66, 77], [88, 99, 100]]\n",
        "\n",
        "# iterate through the sublist using List comprehension\n",
        "flatList = [element for innerList in lis for element in innerList]\n",
        "\n",
        "# printing original list\n",
        "print('List', lis)\n",
        "# printing flat list\n",
        "print('Flat List', flatList)"
      ],
      "metadata": {
        "id": "ZzlsQnRBUWPo"
      },
      "execution_count": null,
      "outputs": []
    },
    {
      "cell_type": "code",
      "source": [
        "# input list\n",
        "l = [1, 2, [3, 4, [5, 6]], 7, 8, [9, [10]]]\n",
        "\n",
        "# output list\n",
        "output = []\n",
        "\n",
        "# function used for removing nested\n",
        "# lists in python using recursion\n",
        "def reemovNestings(l):\n",
        "    for i in l:\n",
        "        if type(i) == list:\n",
        "            reemovNestings(i)\n",
        "        else:\n",
        "            output.append(i)\n",
        "\n",
        "\n",
        "# Driver code\n",
        "print('The original list: ', l)\n",
        "reemovNestings(l)\n",
        "print('The list after removing nesting: ', output)"
      ],
      "metadata": {
        "id": "juiOQY9JUeM4"
      },
      "execution_count": null,
      "outputs": []
    },
    {
      "cell_type": "code",
      "source": [
        "import numpy as np\n",
        "\n",
        "lst = [[11, 33], [22, 55], [11], [77, 88]]\n",
        "\n",
        "new = list(np.concatenate(lst))\n",
        "\n",
        "print(new)"
      ],
      "metadata": {
        "id": "yWEzCuAYUiDw"
      },
      "execution_count": null,
      "outputs": []
    },
    {
      "cell_type": "code",
      "source": [
        "\n",
        "lis = [[11, 22, 33, 44], [55, 66, 77], [88, 99]]\n",
        "\n",
        "flatList = sum(lis, [])\n",
        "\n",
        "print('New list', flatList)"
      ],
      "metadata": {
        "id": "llb6tuDTUoEA"
      },
      "execution_count": null,
      "outputs": []
    },
    {
      "cell_type": "code",
      "source": [
        "import functools\n",
        "import operator\n",
        "\n",
        "# Original list\n",
        "lis = [[11, 22, 33, 44], [55, 66, 77], [88, 99, 100]]\n",
        "\n",
        "flatList = functools.reduce(operator.iconcat, lis, [])\n",
        "\n",
        "# printing original list\n",
        "print('List', lis)\n",
        "# printing flat list\n",
        "print('Flat List', flatList)"
      ],
      "metadata": {
        "id": "a3v0n0e3Urw5"
      },
      "execution_count": null,
      "outputs": []
    },
    {
      "cell_type": "code",
      "source": [
        "lis = [[11, 22, 33, 44], [55, 66, 77], [88, 99, 100]]\n",
        "res=[]\n",
        "for i in lis:\n",
        "    res.extend(i)\n",
        "print('List', lis)\n",
        "print('Flat List', res)"
      ],
      "metadata": {
        "id": "JMmY7gQfUIeE"
      },
      "execution_count": null,
      "outputs": []
    }
  ]
}