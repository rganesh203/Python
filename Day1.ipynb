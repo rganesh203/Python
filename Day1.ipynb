{
  "metadata": {
    "language_info": {
      "codemirror_mode": {
        "name": "python",
        "version": 3
      },
      "file_extension": ".py",
      "mimetype": "text/x-python",
      "name": "python",
      "nbconvert_exporter": "python",
      "pygments_lexer": "ipython3",
      "version": "3.8"
    },
    "kernelspec": {
      "name": "python",
      "display_name": "Python (Pyodide)",
      "language": "python"
    }
  },
  "nbformat_minor": 4,
  "nbformat": 4,
  "cells": [
    {
      "cell_type": "code",
      "source": "help('modules')",
      "metadata": {
        "trusted": true
      },
      "execution_count": 1,
      "outputs": [
        {
          "name": "stdout",
          "text": "\nPlease wait a moment while I gather a list of all available modules...\n\nIPython             _xxsubinterpreters  hmac                runpy\n__future__          _zoneinfo           html                sched\n__hello__           abc                 http                secrets\n__phello__          aifc                imaplib             select\n_abc                antigravity         imghdr              selectors\n_ast                argparse            imp                 shelve\n_asyncio            array               importlib           shlex\n_bisect             ast                 inspect             shutil\n_blake2             asttokens           io                  signal\n_bootsubprocess     asynchat            ipaddress           site\n_bz2                asyncio             ipykernel           six\n_codecs             asyncore            itertools           smtpd\n_codecs_cn          atexit              jedi                smtplib\n_codecs_hk          audioop             json                sndhdr\n_codecs_iso2022     backcall            keyword             socket\n_codecs_jp          base64              linecache           socketserver\n_codecs_kr          bdb                 locale              sqlite3\n_codecs_tw          binascii            logging             sre_compile\n_collections        bisect              mailbox             sre_constants\n_collections_abc    builtins            mailcap             sre_parse\n_compat_pickle      bz2                 marshal             stack_data\n_compression        cProfile            math                stat\n_contextvars        calendar            matplotlib_inline   statistics\n_crypt              cgi                 micropip            string\n_csv                cgitb               mimetypes           stringprep\n_ctypes             chunk               mmap                struct\n_datetime           cmath               modulefinder        subprocess\n_decimal            cmd                 multiprocessing     sunau\n_elementtree        code                netrc               symtable\n_functools          codecs              nntplib             sys\n_heapq              codeop              ntpath              sysconfig\n_imp                collections         nturl2path          tabnanny\n_io                 colorsys            numbers             tarfile\n_json               comm                opcode              telnetlib\n_locale             compileall          operator            tempfile\n_lsprof             concurrent          optparse            textwrap\n_markupbase         configparser        os                  this\n_md5                contextlib          packaging           threading\n_multibytecodec     contextvars         parso               time\n_opcode             copy                pathlib             timeit\n_operator           copyreg             pdb                 token\n_pickle             crypt               pexpect             tokenize\n_posixsubprocess    csv                 pickle              tomllib\n_py_abc             ctypes              pickleshare         trace\n_pyio               dataclasses         pickletools         traceback\n_pyodide            datetime            pipes               tracemalloc\n_pyodide_core       decimal             piplite             traitlets\n_queue              decorator           pkgutil             tty\n_random             difflib             platform            types\n_sha1               dis                 plistlib            typing\n_sha256             doctest             poplib              unicodedata\n_sha3               email               posix               unittest\n_sha512             encodings           posixpath           urllib\n_signal             enum                pprint              uu\n_sitebuiltins       errno               profile             uuid\n_socket             executing           prompt_toolkit      warnings\n_sqlite3            faulthandler        pstats              wave\n_sre                filecmp             pty                 wcwidth\n_stat               fileinput           ptyprocess          weakref\n_statistics         fnmatch             pure_eval           webbrowser\n_string             fractions           py_compile          wsgiref\n_strptime           ftplib              pyclbr              xdrlib\n_struct             functools           pydoc               xml\n_symtable           gc                  pyexpat             xmlrpc\n_sysconfigdata__emscripten_wasm32-emscripten genericpath         pygments            xxsubtype\n_thread             getopt              pyodide             zipapp\n_threading_local    getpass             pyodide_kernel      zipfile\n_tokenize           gettext             queue               zipimport\n_tracemalloc        glob                quopri              zlib\n_typing             graphlib            random              zoneinfo\n_warnings           gzip                re                  \n_weakref            hashlib             reprlib             \n_weakrefset         heapq               rlcompleter         \n\nEnter any module name to get more help.  Or, type \"modules spam\" to search\nfor modules whose name or summary contain the string \"spam\".\n\n",
          "output_type": "stream"
        }
      ]
    },
    {
      "cell_type": "code",
      "source": "import keyword",
      "metadata": {
        "trusted": true
      },
      "execution_count": 2,
      "outputs": []
    },
    {
      "cell_type": "code",
      "source": "print(keyword.kwlist)",
      "metadata": {
        "trusted": true
      },
      "execution_count": 3,
      "outputs": [
        {
          "name": "stdout",
          "text": "['False', 'None', 'True', 'and', 'as', 'assert', 'async', 'await', 'break', 'class', 'continue', 'def', 'del', 'elif', 'else', 'except', 'finally', 'for', 'from', 'global', 'if', 'import', 'in', 'is', 'lambda', 'nonlocal', 'not', 'or', 'pass', 'raise', 'return', 'try', 'while', 'with', 'yield']\n",
          "output_type": "stream"
        }
      ]
    },
    {
      "cell_type": "markdown",
      "source": "welcome to python session",
      "metadata": {}
    },
    {
      "cell_type": "code",
      "source": "# welcome to python session",
      "metadata": {
        "trusted": true
      },
      "execution_count": 4,
      "outputs": []
    },
    {
      "cell_type": "code",
      "source": "\"\"\"\nhi everyone\nhope all are good\n\"\"\"",
      "metadata": {
        "trusted": true
      },
      "execution_count": 6,
      "outputs": [
        {
          "execution_count": 6,
          "output_type": "execute_result",
          "data": {
            "text/plain": "'\\nhi everyone\\nhope all are good\\n'"
          },
          "metadata": {}
        }
      ]
    },
    {
      "cell_type": "code",
      "source": "dir(__builtins__)",
      "metadata": {
        "trusted": true
      },
      "execution_count": 8,
      "outputs": [
        {
          "execution_count": 8,
          "output_type": "execute_result",
          "data": {
            "text/plain": "['ArithmeticError',\n 'AssertionError',\n 'AttributeError',\n 'BaseException',\n 'BaseExceptionGroup',\n 'BlockingIOError',\n 'BrokenPipeError',\n 'BufferError',\n 'BytesWarning',\n 'ChildProcessError',\n 'ConnectionAbortedError',\n 'ConnectionError',\n 'ConnectionRefusedError',\n 'ConnectionResetError',\n 'DeprecationWarning',\n 'EOFError',\n 'Ellipsis',\n 'EncodingWarning',\n 'EnvironmentError',\n 'Exception',\n 'ExceptionGroup',\n 'False',\n 'FileExistsError',\n 'FileNotFoundError',\n 'FloatingPointError',\n 'FutureWarning',\n 'GeneratorExit',\n 'IOError',\n 'ImportError',\n 'ImportWarning',\n 'IndentationError',\n 'IndexError',\n 'InterruptedError',\n 'IsADirectoryError',\n 'KeyError',\n 'KeyboardInterrupt',\n 'LookupError',\n 'MemoryError',\n 'ModuleNotFoundError',\n 'NameError',\n 'None',\n 'NotADirectoryError',\n 'NotImplemented',\n 'NotImplementedError',\n 'OSError',\n 'OverflowError',\n 'PendingDeprecationWarning',\n 'PermissionError',\n 'ProcessLookupError',\n 'RecursionError',\n 'ReferenceError',\n 'ResourceWarning',\n 'RuntimeError',\n 'RuntimeWarning',\n 'StopAsyncIteration',\n 'StopIteration',\n 'SyntaxError',\n 'SyntaxWarning',\n 'SystemError',\n 'SystemExit',\n 'TabError',\n 'TimeoutError',\n 'True',\n 'TypeError',\n 'UnboundLocalError',\n 'UnicodeDecodeError',\n 'UnicodeEncodeError',\n 'UnicodeError',\n 'UnicodeTranslateError',\n 'UnicodeWarning',\n 'UserWarning',\n 'ValueError',\n 'Warning',\n 'ZeroDivisionError',\n '__IPYTHON__',\n '___EvalCodeResultException',\n '__build_class__',\n '__debug__',\n '__doc__',\n '__import__',\n '__loader__',\n '__name__',\n '__package__',\n '__spec__',\n 'abs',\n 'aiter',\n 'all',\n 'anext',\n 'any',\n 'ascii',\n 'bin',\n 'bool',\n 'breakpoint',\n 'bytearray',\n 'bytes',\n 'callable',\n 'chr',\n 'classmethod',\n 'compile',\n 'complex',\n 'copyright',\n 'credits',\n 'delattr',\n 'dict',\n 'dir',\n 'display',\n 'divmod',\n 'enumerate',\n 'eval',\n 'exec',\n 'filter',\n 'float',\n 'format',\n 'frozenset',\n 'get_ipython',\n 'getattr',\n 'globals',\n 'hasattr',\n 'hash',\n 'help',\n 'hex',\n 'id',\n 'input',\n 'int',\n 'isinstance',\n 'issubclass',\n 'iter',\n 'len',\n 'license',\n 'list',\n 'locals',\n 'map',\n 'max',\n 'memoryview',\n 'min',\n 'next',\n 'object',\n 'oct',\n 'open',\n 'ord',\n 'pow',\n 'print',\n 'property',\n 'range',\n 'repr',\n 'reversed',\n 'round',\n 'set',\n 'setattr',\n 'slice',\n 'sorted',\n 'staticmethod',\n 'str',\n 'sum',\n 'super',\n 'tuple',\n 'type',\n 'vars',\n 'zip']"
          },
          "metadata": {}
        }
      ]
    },
    {
      "cell_type": "code",
      "source": "2+3",
      "metadata": {
        "trusted": true
      },
      "execution_count": 9,
      "outputs": [
        {
          "execution_count": 9,
          "output_type": "execute_result",
          "data": {
            "text/plain": "5"
          },
          "metadata": {}
        }
      ]
    },
    {
      "cell_type": "code",
      "source": "1a =3",
      "metadata": {
        "trusted": true
      },
      "execution_count": 14,
      "outputs": [
        {
          "ename": "<class 'SyntaxError'>",
          "evalue": "invalid decimal literal (<ipython-input-14-cf07b17bea68>, line 1)",
          "traceback": [
            "\u001b[0;36m  Cell \u001b[0;32mIn[14], line 1\u001b[0;36m\u001b[0m\n\u001b[0;31m    1a =3\u001b[0m\n\u001b[0m    ^\u001b[0m\n\u001b[0;31mSyntaxError\u001b[0m\u001b[0;31m:\u001b[0m invalid decimal literal\n"
          ],
          "output_type": "error"
        }
      ]
    },
    {
      "cell_type": "code",
      "source": "a2 = 4",
      "metadata": {
        "trusted": true
      },
      "execution_count": 15,
      "outputs": []
    },
    {
      "cell_type": "code",
      "source": "a2",
      "metadata": {
        "trusted": true
      },
      "execution_count": 16,
      "outputs": [
        {
          "execution_count": 16,
          "output_type": "execute_result",
          "data": {
            "text/plain": "4"
          },
          "metadata": {}
        }
      ]
    },
    {
      "cell_type": "code",
      "source": "@e=40",
      "metadata": {
        "trusted": true
      },
      "execution_count": 17,
      "outputs": [
        {
          "ename": "<class 'SyntaxError'>",
          "evalue": "invalid syntax. Maybe you meant '==' or ':=' instead of '='? (<ipython-input-17-1a95e251bbe2>, line 1)",
          "traceback": [
            "\u001b[0;36m  Cell \u001b[0;32mIn[17], line 1\u001b[0;36m\u001b[0m\n\u001b[0;31m    @e=40\u001b[0m\n\u001b[0m     ^\u001b[0m\n\u001b[0;31mSyntaxError\u001b[0m\u001b[0;31m:\u001b[0m invalid syntax. Maybe you meant '==' or ':=' instead of '='?\n"
          ],
          "output_type": "error"
        }
      ]
    },
    {
      "cell_type": "code",
      "source": "_e= 30",
      "metadata": {
        "trusted": true
      },
      "execution_count": 18,
      "outputs": []
    },
    {
      "cell_type": "code",
      "source": "_e",
      "metadata": {
        "trusted": true
      },
      "execution_count": 19,
      "outputs": [
        {
          "execution_count": 19,
          "output_type": "execute_result",
          "data": {
            "text/plain": "30"
          },
          "metadata": {}
        }
      ]
    },
    {
      "cell_type": "code",
      "source": "My=45",
      "metadata": {
        "trusted": true
      },
      "execution_count": 20,
      "outputs": []
    },
    {
      "cell_type": "code",
      "source": "My_gahe=78",
      "metadata": {
        "trusted": true
      },
      "execution_count": 21,
      "outputs": []
    },
    {
      "cell_type": "code",
      "source": "my%hah=36",
      "metadata": {
        "trusted": true
      },
      "execution_count": 22,
      "outputs": [
        {
          "ename": "<class 'SyntaxError'>",
          "evalue": "cannot assign to expression here. Maybe you meant '==' instead of '='? (<ipython-input-22-7de110a49eab>, line 1)",
          "traceback": [
            "\u001b[0;36m  Cell \u001b[0;32mIn[22], line 1\u001b[0;36m\u001b[0m\n\u001b[0;31m    my%hah=36\u001b[0m\n\u001b[0m    ^\u001b[0m\n\u001b[0;31mSyntaxError\u001b[0m\u001b[0;31m:\u001b[0m cannot assign to expression here. Maybe you meant '==' instead of '='?\n"
          ],
          "output_type": "error"
        }
      ]
    },
    {
      "cell_type": "code",
      "source": "type(My)",
      "metadata": {
        "trusted": true
      },
      "execution_count": 23,
      "outputs": [
        {
          "execution_count": 23,
          "output_type": "execute_result",
          "data": {
            "text/plain": "int"
          },
          "metadata": {}
        }
      ]
    },
    {
      "cell_type": "code",
      "source": "q='24'",
      "metadata": {
        "trusted": true
      },
      "execution_count": 24,
      "outputs": []
    },
    {
      "cell_type": "code",
      "source": "type(q)",
      "metadata": {
        "trusted": true
      },
      "execution_count": 26,
      "outputs": [
        {
          "execution_count": 26,
          "output_type": "execute_result",
          "data": {
            "text/plain": "str"
          },
          "metadata": {}
        }
      ]
    },
    {
      "cell_type": "code",
      "source": "f=\"34\"",
      "metadata": {
        "trusted": true
      },
      "execution_count": 27,
      "outputs": []
    },
    {
      "cell_type": "code",
      "source": "t=\"3\"\nr=\"5\"",
      "metadata": {
        "trusted": true
      },
      "execution_count": 29,
      "outputs": []
    },
    {
      "cell_type": "code",
      "source": "print(t+r)\n# 35",
      "metadata": {
        "trusted": true
      },
      "execution_count": 30,
      "outputs": [
        {
          "name": "stdout",
          "text": "35\n",
          "output_type": "stream"
        }
      ]
    },
    {
      "cell_type": "code",
      "source": "t+r",
      "metadata": {
        "trusted": true
      },
      "execution_count": 31,
      "outputs": [
        {
          "execution_count": 31,
          "output_type": "execute_result",
          "data": {
            "text/plain": "'35'"
          },
          "metadata": {}
        }
      ]
    },
    {
      "cell_type": "code",
      "source": "print('ganesh's')",
      "metadata": {
        "trusted": true
      },
      "execution_count": 32,
      "outputs": [
        {
          "ename": "<class 'SyntaxError'>",
          "evalue": "unterminated string literal (detected at line 1) (<ipython-input-32-17ea527dd960>, line 1)",
          "traceback": [
            "\u001b[0;36m  Cell \u001b[0;32mIn[32], line 1\u001b[0;36m\u001b[0m\n\u001b[0;31m    print('ganesh's')\u001b[0m\n\u001b[0m                   ^\u001b[0m\n\u001b[0;31mSyntaxError\u001b[0m\u001b[0;31m:\u001b[0m unterminated string literal (detected at line 1)\n"
          ],
          "output_type": "error"
        }
      ]
    },
    {
      "cell_type": "code",
      "source": "#use double quatation instead of single\n#use \\ symbel whenever single quatation in statement",
      "metadata": {},
      "execution_count": null,
      "outputs": []
    },
    {
      "cell_type": "code",
      "source": "print(\"ganesh's\")",
      "metadata": {
        "trusted": true
      },
      "execution_count": 33,
      "outputs": [
        {
          "name": "stdout",
          "text": "ganesh's\n",
          "output_type": "stream"
        }
      ]
    },
    {
      "cell_type": "code",
      "source": "print('ganesh\\'s')",
      "metadata": {
        "trusted": true
      },
      "execution_count": 34,
      "outputs": [
        {
          "name": "stdout",
          "text": "ganesh's\n",
          "output_type": "stream"
        }
      ]
    },
    {
      "cell_type": "code",
      "source": "print(\"ga\\nesh\")",
      "metadata": {
        "trusted": true
      },
      "execution_count": 35,
      "outputs": [
        {
          "name": "stdout",
          "text": "ga\nesh\n",
          "output_type": "stream"
        }
      ]
    },
    {
      "cell_type": "code",
      "source": "print(r\"ga\\nesh\")",
      "metadata": {
        "trusted": true
      },
      "execution_count": 36,
      "outputs": [
        {
          "name": "stdout",
          "text": "ga\\nesh\n",
          "output_type": "stream"
        }
      ]
    },
    {
      "cell_type": "code",
      "source": "help(print())",
      "metadata": {
        "trusted": true
      },
      "execution_count": 37,
      "outputs": [
        {
          "name": "stdout",
          "text": "\nHelp on NoneType object:\n\nclass NoneType(object)\n |  Methods defined here:\n |  \n |  __bool__(self, /)\n |      True if self else False\n |  \n |  __repr__(self, /)\n |      Return repr(self).\n |  \n |  ----------------------------------------------------------------------\n |  Static methods defined here:\n |  \n |  __new__(*args, **kwargs) from builtins.type\n |      Create and return a new object.  See help(type) for accurate signature.\n\n",
          "output_type": "stream"
        }
      ]
    },
    {
      "cell_type": "code",
      "source": "print(\"ga\\tesh\")",
      "metadata": {
        "trusted": true
      },
      "execution_count": 38,
      "outputs": [
        {
          "name": "stdout",
          "text": "ga\tesh\n",
          "output_type": "stream"
        }
      ]
    },
    {
      "cell_type": "code",
      "source": "print(r\"ga\\tesh\")",
      "metadata": {
        "trusted": true
      },
      "execution_count": 40,
      "outputs": [
        {
          "name": "stdout",
          "text": "ga\\tesh\n",
          "output_type": "stream"
        }
      ]
    },
    {
      "cell_type": "code",
      "source": "a=20\nb=20",
      "metadata": {
        "trusted": true
      },
      "execution_count": 41,
      "outputs": []
    },
    {
      "cell_type": "code",
      "source": "a",
      "metadata": {
        "trusted": true
      },
      "execution_count": 42,
      "outputs": [
        {
          "execution_count": 42,
          "output_type": "execute_result",
          "data": {
            "text/plain": "20"
          },
          "metadata": {}
        }
      ]
    },
    {
      "cell_type": "code",
      "source": "b",
      "metadata": {
        "trusted": true
      },
      "execution_count": 43,
      "outputs": [
        {
          "execution_count": 43,
          "output_type": "execute_result",
          "data": {
            "text/plain": "20"
          },
          "metadata": {}
        }
      ]
    },
    {
      "cell_type": "code",
      "source": "id(a)",
      "metadata": {
        "trusted": true
      },
      "execution_count": 44,
      "outputs": [
        {
          "execution_count": 44,
          "output_type": "execute_result",
          "data": {
            "text/plain": "2810404"
          },
          "metadata": {}
        }
      ]
    },
    {
      "cell_type": "code",
      "source": "id(b)",
      "metadata": {
        "trusted": true
      },
      "execution_count": 45,
      "outputs": [
        {
          "execution_count": 45,
          "output_type": "execute_result",
          "data": {
            "text/plain": "2810404"
          },
          "metadata": {}
        }
      ]
    },
    {
      "cell_type": "code",
      "source": "eval(\"20+30+40\")",
      "metadata": {
        "trusted": true
      },
      "execution_count": 46,
      "outputs": [
        {
          "execution_count": 46,
          "output_type": "execute_result",
          "data": {
            "text/plain": "90"
          },
          "metadata": {}
        }
      ]
    },
    {
      "cell_type": "code",
      "source": "eval(\"20-29-40\")",
      "metadata": {
        "trusted": true
      },
      "execution_count": 47,
      "outputs": [
        {
          "execution_count": 47,
          "output_type": "execute_result",
          "data": {
            "text/plain": "-49"
          },
          "metadata": {}
        }
      ]
    },
    {
      "cell_type": "code",
      "source": "intel= \"intel\"",
      "metadata": {
        "trusted": true
      },
      "execution_count": 48,
      "outputs": []
    },
    {
      "cell_type": "code",
      "source": "type(intel)",
      "metadata": {
        "trusted": true
      },
      "execution_count": 49,
      "outputs": [
        {
          "execution_count": 49,
          "output_type": "execute_result",
          "data": {
            "text/plain": "str"
          },
          "metadata": {}
        }
      ]
    },
    {
      "cell_type": "code",
      "source": "print(c+intel)",
      "metadata": {
        "trusted": true
      },
      "execution_count": 54,
      "outputs": [
        {
          "name": "stdout",
          "text": "20intel\n",
          "output_type": "stream"
        }
      ]
    },
    {
      "cell_type": "code",
      "source": "#type conversion\n#1. implicit \n#2. explicit\n\nint(intel)",
      "metadata": {
        "trusted": true
      },
      "execution_count": 51,
      "outputs": [
        {
          "ename": "<class 'ValueError'>",
          "evalue": "invalid literal for int() with base 10: 'intel'",
          "traceback": [
            "\u001b[0;31m---------------------------------------------------------------------------\u001b[0m",
            "\u001b[0;31mValueError\u001b[0m                                Traceback (most recent call last)",
            "Cell \u001b[0;32mIn[51], line 1\u001b[0m\n\u001b[0;32m----> 1\u001b[0m \u001b[38;5;28;43mint\u001b[39;49m\u001b[43m(\u001b[49m\u001b[43mintel\u001b[49m\u001b[43m)\u001b[49m\n",
            "\u001b[0;31mValueError\u001b[0m: invalid literal for int() with base 10: 'intel'"
          ],
          "output_type": "error"
        }
      ]
    },
    {
      "cell_type": "code",
      "source": "c= str(a)",
      "metadata": {
        "trusted": true
      },
      "execution_count": 53,
      "outputs": []
    },
    {
      "cell_type": "code",
      "source": "s=2\nr=3.4",
      "metadata": {
        "trusted": true
      },
      "execution_count": 56,
      "outputs": []
    },
    {
      "cell_type": "code",
      "source": "type(r)",
      "metadata": {
        "trusted": true
      },
      "execution_count": 57,
      "outputs": [
        {
          "execution_count": 57,
          "output_type": "execute_result",
          "data": {
            "text/plain": "float"
          },
          "metadata": {}
        }
      ]
    },
    {
      "cell_type": "code",
      "source": "v=s+r",
      "metadata": {
        "trusted": true
      },
      "execution_count": 58,
      "outputs": []
    },
    {
      "cell_type": "code",
      "source": "v",
      "metadata": {
        "trusted": true
      },
      "execution_count": 59,
      "outputs": [
        {
          "execution_count": 59,
          "output_type": "execute_result",
          "data": {
            "text/plain": "5.4"
          },
          "metadata": {}
        }
      ]
    },
    {
      "cell_type": "code",
      "source": "type(v)",
      "metadata": {
        "trusted": true
      },
      "execution_count": 60,
      "outputs": [
        {
          "execution_count": 60,
          "output_type": "execute_result",
          "data": {
            "text/plain": "float"
          },
          "metadata": {}
        }
      ]
    },
    {
      "cell_type": "code",
      "source": "g=2+9j",
      "metadata": {
        "trusted": true
      },
      "execution_count": 64,
      "outputs": []
    },
    {
      "cell_type": "code",
      "source": "type(g)",
      "metadata": {
        "trusted": true
      },
      "execution_count": 65,
      "outputs": [
        {
          "execution_count": 65,
          "output_type": "execute_result",
          "data": {
            "text/plain": "complex"
          },
          "metadata": {}
        }
      ]
    },
    {
      "cell_type": "code",
      "source": "help(g)",
      "metadata": {
        "trusted": true
      },
      "execution_count": 66,
      "outputs": [
        {
          "name": "stdout",
          "text": "Help on complex object:\n\nclass complex(object)\n |  complex(real=0, imag=0)\n |  \n |  Create a complex number from a real part and an optional imaginary part.\n |  \n |  This is equivalent to (real + imag*1j) where imag defaults to 0.\n |  \n |  Methods defined here:\n |  \n |  __abs__(self, /)\n |      abs(self)\n |  \n |  __add__(self, value, /)\n |      Return self+value.\n |  \n |  __bool__(self, /)\n |      True if self else False\n |  \n |  __complex__(self, /)\n |      Convert this value to exact type complex.\n |  \n |  __eq__(self, value, /)\n |      Return self==value.\n |  \n |  __format__(self, format_spec, /)\n |      Convert to a string according to format_spec.\n |  \n |  __ge__(self, value, /)\n |      Return self>=value.\n |  \n |  __getattribute__(self, name, /)\n |      Return getattr(self, name).\n |  \n |  __getnewargs__(self, /)\n |  \n |  __gt__(self, value, /)\n |      Return self>value.\n |  \n |  __hash__(self, /)\n |      Return hash(self).\n |  \n |  __le__(self, value, /)\n |      Return self<=value.\n |  \n |  __lt__(self, value, /)\n |      Return self<value.\n |  \n |  __mul__(self, value, /)\n |      Return self*value.\n |  \n |  __ne__(self, value, /)\n |      Return self!=value.\n |  \n |  __neg__(self, /)\n |      -self\n |  \n |  __pos__(self, /)\n |      +self\n |  \n |  __pow__(self, value, mod=None, /)\n |      Return pow(self, value, mod).\n |  \n |  __radd__(self, value, /)\n |      Return value+self.\n |  \n |  __repr__(self, /)\n |      Return repr(self).\n |  \n |  __rmul__(self, value, /)\n |      Return value*self.\n |  \n |  __rpow__(self, value, mod=None, /)\n |      Return pow(value, self, mod).\n |  \n |  __rsub__(self, value, /)\n |      Return value-self.\n |  \n |  __rtruediv__(self, value, /)\n |      Return value/self.\n |  \n |  __sub__(self, value, /)\n |      Return self-value.\n |  \n |  __truediv__(self, value, /)\n |      Return self/value.\n |  \n |  conjugate(self, /)\n |      Return the complex conjugate of its argument. (3-4j).conjugate() == 3+4j.\n |  \n |  ----------------------------------------------------------------------\n |  Static methods defined here:\n |  \n |  __new__(*args, **kwargs) from builtins.type\n |      Create and return a new object.  See help(type) for accurate signature.\n |  \n |  ----------------------------------------------------------------------\n |  Data descriptors defined here:\n |  \n |  imag\n |      the imaginary part of a complex number\n |  \n |  real\n |      the real part of a complex number\n\n",
          "output_type": "stream"
        }
      ]
    },
    {
      "cell_type": "code",
      "source": "help(str)",
      "metadata": {
        "trusted": true
      },
      "execution_count": 69,
      "outputs": [
        {
          "name": "stdout",
          "text": "Help on class str in module builtins:\n\nclass str(object)\n |  str(object='') -> str\n |  str(bytes_or_buffer[, encoding[, errors]]) -> str\n |  \n |  Create a new string object from the given object. If encoding or\n |  errors is specified, then the object must expose a data buffer\n |  that will be decoded using the given encoding and error handler.\n |  Otherwise, returns the result of object.__str__() (if defined)\n |  or repr(object).\n |  encoding defaults to sys.getdefaultencoding().\n |  errors defaults to 'strict'.\n |  \n |  Methods defined here:\n |  \n |  __add__(self, value, /)\n |      Return self+value.\n |  \n |  __contains__(self, key, /)\n |      Return key in self.\n |  \n |  __eq__(self, value, /)\n |      Return self==value.\n |  \n |  __format__(self, format_spec, /)\n |      Return a formatted version of the string as described by format_spec.\n |  \n |  __ge__(self, value, /)\n |      Return self>=value.\n |  \n |  __getattribute__(self, name, /)\n |      Return getattr(self, name).\n |  \n |  __getitem__(self, key, /)\n |      Return self[key].\n |  \n |  __getnewargs__(...)\n |  \n |  __gt__(self, value, /)\n |      Return self>value.\n |  \n |  __hash__(self, /)\n |      Return hash(self).\n |  \n |  __iter__(self, /)\n |      Implement iter(self).\n |  \n |  __le__(self, value, /)\n |      Return self<=value.\n |  \n |  __len__(self, /)\n |      Return len(self).\n |  \n |  __lt__(self, value, /)\n |      Return self<value.\n |  \n |  __mod__(self, value, /)\n |      Return self%value.\n |  \n |  __mul__(self, value, /)\n |      Return self*value.\n |  \n |  __ne__(self, value, /)\n |      Return self!=value.\n |  \n |  __repr__(self, /)\n |      Return repr(self).\n |  \n |  __rmod__(self, value, /)\n |      Return value%self.\n |  \n |  __rmul__(self, value, /)\n |      Return value*self.\n |  \n |  __sizeof__(self, /)\n |      Return the size of the string in memory, in bytes.\n |  \n |  __str__(self, /)\n |      Return str(self).\n |  \n |  capitalize(self, /)\n |      Return a capitalized version of the string.\n |      \n |      More specifically, make the first character have upper case and the rest lower\n |      case.\n |  \n |  casefold(self, /)\n |      Return a version of the string suitable for caseless comparisons.\n |  \n |  center(self, width, fillchar=' ', /)\n |      Return a centered string of length width.\n |      \n |      Padding is done using the specified fill character (default is a space).\n |  \n |  count(...)\n |      S.count(sub[, start[, end]]) -> int\n |      \n |      Return the number of non-overlapping occurrences of substring sub in\n |      string S[start:end].  Optional arguments start and end are\n |      interpreted as in slice notation.\n |  \n |  encode(self, /, encoding='utf-8', errors='strict')\n |      Encode the string using the codec registered for encoding.\n |      \n |      encoding\n |        The encoding in which to encode the string.\n |      errors\n |        The error handling scheme to use for encoding errors.\n |        The default is 'strict' meaning that encoding errors raise a\n |        UnicodeEncodeError.  Other possible values are 'ignore', 'replace' and\n |        'xmlcharrefreplace' as well as any other name registered with\n |        codecs.register_error that can handle UnicodeEncodeErrors.\n |  \n |  endswith(...)\n |      S.endswith(suffix[, start[, end]]) -> bool\n |      \n |      Return True if S ends with the specified suffix, False otherwise.\n |      With optional start, test S beginning at that position.\n |      With optional end, stop comparing S at that position.\n |      suffix can also be a tuple of strings to try.\n |  \n |  expandtabs(self, /, tabsize=8)\n |      Return a copy where all tab characters are expanded using spaces.\n |      \n |      If tabsize is not given, a tab size of 8 characters is assumed.\n |  \n |  find(...)\n |      S.find(sub[, start[, end]]) -> int\n |      \n |      Return the lowest index in S where substring sub is found,\n |      such that sub is contained within S[start:end].  Optional\n |      arguments start and end are interpreted as in slice notation.\n |      \n |      Return -1 on failure.\n |  \n |  format(...)\n |      S.format(*args, **kwargs) -> str\n |      \n |      Return a formatted version of S, using substitutions from args and kwargs.\n |      The substitutions are identified by braces ('{' and '}').\n |  \n |  format_map(...)\n |      S.format_map(mapping) -> str\n |      \n |      Return a formatted version of S, using substitutions from mapping.\n |      The substitutions are identified by braces ('{' and '}').\n |  \n |  index(...)\n |      S.index(sub[, start[, end]]) -> int\n |      \n |      Return the lowest index in S where substring sub is found,\n |      such that sub is contained within S[start:end].  Optional\n |      arguments start and end are interpreted as in slice notation.\n |      \n |      Raises ValueError when the substring is not found.\n |  \n |  isalnum(self, /)\n |      Return True if the string is an alpha-numeric string, False otherwise.\n |      \n |      A string is alpha-numeric if all characters in the string are alpha-numeric and\n |      there is at least one character in the string.\n |  \n |  isalpha(self, /)\n |      Return True if the string is an alphabetic string, False otherwise.\n |      \n |      A string is alphabetic if all characters in the string are alphabetic and there\n |      is at least one character in the string.\n |  \n |  isascii(self, /)\n |      Return True if all characters in the string are ASCII, False otherwise.\n |      \n |      ASCII characters have code points in the range U+0000-U+007F.\n |      Empty string is ASCII too.\n |  \n |  isdecimal(self, /)\n |      Return True if the string is a decimal string, False otherwise.\n |      \n |      A string is a decimal string if all characters in the string are decimal and\n |      there is at least one character in the string.\n |  \n |  isdigit(self, /)\n |      Return True if the string is a digit string, False otherwise.\n |      \n |      A string is a digit string if all characters in the string are digits and there\n |      is at least one character in the string.\n |  \n |  isidentifier(self, /)\n |      Return True if the string is a valid Python identifier, False otherwise.\n |      \n |      Call keyword.iskeyword(s) to test whether string s is a reserved identifier,\n |      such as \"def\" or \"class\".\n |  \n |  islower(self, /)\n |      Return True if the string is a lowercase string, False otherwise.\n |      \n |      A string is lowercase if all cased characters in the string are lowercase and\n |      there is at least one cased character in the string.\n |  \n |  isnumeric(self, /)\n |      Return True if the string is a numeric string, False otherwise.\n |      \n |      A string is numeric if all characters in the string are numeric and there is at\n |      least one character in the string.\n |  \n |  isprintable(self, /)\n |      Return True if the string is printable, False otherwise.\n |      \n |      A string is printable if all of its characters are considered printable in\n |      repr() or if it is empty.\n |  \n |  isspace(self, /)\n |      Return True if the string is a whitespace string, False otherwise.\n |      \n |      A string is whitespace if all characters in the string are whitespace and there\n |      is at least one character in the string.\n |  \n |  istitle(self, /)\n |      Return True if the string is a title-cased string, False otherwise.\n |      \n |      In a title-cased string, upper- and title-case characters may only\n |      follow uncased characters and lowercase characters only cased ones.\n |  \n |  isupper(self, /)\n |      Return True if the string is an uppercase string, False otherwise.\n |      \n |      A string is uppercase if all cased characters in the string are uppercase and\n |      there is at least one cased character in the string.\n |  \n |  join(self, iterable, /)\n |      Concatenate any number of strings.\n |      \n |      The string whose method is called is inserted in between each given string.\n |      The result is returned as a new string.\n |      \n |      Example: '.'.join(['ab', 'pq', 'rs']) -> 'ab.pq.rs'\n |  \n |  ljust(self, width, fillchar=' ', /)\n |      Return a left-justified string of length width.\n |      \n |      Padding is done using the specified fill character (default is a space).\n |  \n |  lower(self, /)\n |      Return a copy of the string converted to lowercase.\n |  \n |  lstrip(self, chars=None, /)\n |      Return a copy of the string with leading whitespace removed.\n |      \n |      If chars is given and not None, remove characters in chars instead.\n |  \n |  partition(self, sep, /)\n |      Partition the string into three parts using the given separator.\n |      \n |      This will search for the separator in the string.  If the separator is found,\n |      returns a 3-tuple containing the part before the separator, the separator\n |      itself, and the part after it.\n |      \n |      If the separator is not found, returns a 3-tuple containing the original string\n |      and two empty strings.\n |  \n |  removeprefix(self, prefix, /)\n |      Return a str with the given prefix string removed if present.\n |      \n |      If the string starts with the prefix string, return string[len(prefix):].\n |      Otherwise, return a copy of the original string.\n |  \n |  removesuffix(self, suffix, /)\n |      Return a str with the given suffix string removed if present.\n |      \n |      If the string ends with the suffix string and that suffix is not empty,\n |      return string[:-len(suffix)]. Otherwise, return a copy of the original\n |      string.\n |  \n |  replace(self, old, new, count=-1, /)\n |      Return a copy with all occurrences of substring old replaced by new.\n |      \n |        count\n |          Maximum number of occurrences to replace.\n |          -1 (the default value) means replace all occurrences.\n |      \n |      If the optional argument count is given, only the first count occurrences are\n |      replaced.\n |  \n |  rfind(...)\n |      S.rfind(sub[, start[, end]]) -> int\n |      \n |      Return the highest index in S where substring sub is found,\n |      such that sub is contained within S[start:end].  Optional\n |      arguments start and end are interpreted as in slice notation.\n |      \n |      Return -1 on failure.\n |  \n |  rindex(...)\n |      S.rindex(sub[, start[, end]]) -> int\n |      \n |      Return the highest index in S where substring sub is found,\n |      such that sub is contained within S[start:end].  Optional\n |      arguments start and end are interpreted as in slice notation.\n |      \n |      Raises ValueError when the substring is not found.\n |  \n |  rjust(self, width, fillchar=' ', /)\n |      Return a right-justified string of length width.\n |      \n |      Padding is done using the specified fill character (default is a space).\n |  \n |  rpartition(self, sep, /)\n |      Partition the string into three parts using the given separator.\n |      \n |      This will search for the separator in the string, starting at the end. If\n |      the separator is found, returns a 3-tuple containing the part before the\n |      separator, the separator itself, and the part after it.\n |      \n |      If the separator is not found, returns a 3-tuple containing two empty strings\n |      and the original string.\n |  \n |  rsplit(self, /, sep=None, maxsplit=-1)\n |      Return a list of the substrings in the string, using sep as the separator string.\n |      \n |        sep\n |          The separator used to split the string.\n |      \n |          When set to None (the default value), will split on any whitespace\n |          character (including \\\\n \\\\r \\\\t \\\\f and spaces) and will discard\n |          empty strings from the result.\n |        maxsplit\n |          Maximum number of splits (starting from the left).\n |          -1 (the default value) means no limit.\n |      \n |      Splitting starts at the end of the string and works to the front.\n |  \n |  rstrip(self, chars=None, /)\n |      Return a copy of the string with trailing whitespace removed.\n |      \n |      If chars is given and not None, remove characters in chars instead.\n |  \n |  split(self, /, sep=None, maxsplit=-1)\n |      Return a list of the substrings in the string, using sep as the separator string.\n |      \n |        sep\n |          The separator used to split the string.\n |      \n |          When set to None (the default value), will split on any whitespace\n |          character (including \\\\n \\\\r \\\\t \\\\f and spaces) and will discard\n |          empty strings from the result.\n |        maxsplit\n |          Maximum number of splits (starting from the left).\n |          -1 (the default value) means no limit.\n |      \n |      Note, str.split() is mainly useful for data that has been intentionally\n |      delimited.  With natural text that includes punctuation, consider using\n |      the regular expression module.\n |  \n |  splitlines(self, /, keepends=False)\n |      Return a list of the lines in the string, breaking at line boundaries.\n |      \n |      Line breaks are not included in the resulting list unless keepends is given and\n |      true.\n |  \n |  startswith(...)\n |      S.startswith(prefix[, start[, end]]) -> bool\n |      \n |      Return True if S starts with the specified prefix, False otherwise.\n |      With optional start, test S beginning at that position.\n |      With optional end, stop comparing S at that position.\n |      prefix can also be a tuple of strings to try.\n |  \n |  strip(self, chars=None, /)\n |      Return a copy of the string with leading and trailing whitespace removed.\n |      \n |      If chars is given and not None, remove characters in chars instead.\n |  \n |  swapcase(self, /)\n |      Convert uppercase characters to lowercase and lowercase characters to uppercase.\n |  \n |  title(self, /)\n |      Return a version of the string where each word is titlecased.\n |      \n |      More specifically, words start with uppercased characters and all remaining\n |      cased characters have lower case.\n |  \n |  translate(self, table, /)\n |      Replace each character in the string using the given translation table.\n |      \n |        table\n |          Translation table, which must be a mapping of Unicode ordinals to\n |          Unicode ordinals, strings, or None.\n |      \n |      The table must implement lookup/indexing via __getitem__, for instance a\n |      dictionary or list.  If this operation raises LookupError, the character is\n |      left untouched.  Characters mapped to None are deleted.\n |  \n |  upper(self, /)\n |      Return a copy of the string converted to uppercase.\n |  \n |  zfill(self, width, /)\n |      Pad a numeric string with zeros on the left, to fill a field of the given width.\n |      \n |      The string is never truncated.\n |  \n |  ----------------------------------------------------------------------\n |  Static methods defined here:\n |  \n |  __new__(*args, **kwargs) from builtins.type\n |      Create and return a new object.  See help(type) for accurate signature.\n |  \n |  maketrans(...)\n |      Return a translation table usable for str.translate().\n |      \n |      If there is only one argument, it must be a dictionary mapping Unicode\n |      ordinals (integers) or characters to Unicode ordinals, strings or None.\n |      Character keys will be then converted to ordinals.\n |      If there are two arguments, they must be strings of equal length, and\n |      in the resulting dictionary, each character in x will be mapped to the\n |      character at the same position in y. If there is a third argument, it\n |      must be a string, whose characters will be mapped to None in the result.\n\n",
          "output_type": "stream"
        }
      ]
    },
    {
      "cell_type": "code",
      "source": "help(int)",
      "metadata": {
        "trusted": true
      },
      "execution_count": 70,
      "outputs": [
        {
          "name": "stdout",
          "text": "Help on class int in module builtins:\n\nclass int(object)\n |  int([x]) -> integer\n |  int(x, base=10) -> integer\n |  \n |  Convert a number or string to an integer, or return 0 if no arguments\n |  are given.  If x is a number, return x.__int__().  For floating point\n |  numbers, this truncates towards zero.\n |  \n |  If x is not a number or if base is given, then x must be a string,\n |  bytes, or bytearray instance representing an integer literal in the\n |  given base.  The literal can be preceded by '+' or '-' and be surrounded\n |  by whitespace.  The base defaults to 10.  Valid bases are 0 and 2-36.\n |  Base 0 means to interpret the base from the string as an integer literal.\n |  >>> int('0b100', base=0)\n |  4\n |  \n |  Built-in subclasses:\n |      bool\n |  \n |  Methods defined here:\n |  \n |  __abs__(self, /)\n |      abs(self)\n |  \n |  __add__(self, value, /)\n |      Return self+value.\n |  \n |  __and__(self, value, /)\n |      Return self&value.\n |  \n |  __bool__(self, /)\n |      True if self else False\n |  \n |  __ceil__(...)\n |      Ceiling of an Integral returns itself.\n |  \n |  __divmod__(self, value, /)\n |      Return divmod(self, value).\n |  \n |  __eq__(self, value, /)\n |      Return self==value.\n |  \n |  __float__(self, /)\n |      float(self)\n |  \n |  __floor__(...)\n |      Flooring an Integral returns itself.\n |  \n |  __floordiv__(self, value, /)\n |      Return self//value.\n |  \n |  __format__(self, format_spec, /)\n |      Default object formatter.\n |  \n |  __ge__(self, value, /)\n |      Return self>=value.\n |  \n |  __getattribute__(self, name, /)\n |      Return getattr(self, name).\n |  \n |  __getnewargs__(self, /)\n |  \n |  __gt__(self, value, /)\n |      Return self>value.\n |  \n |  __hash__(self, /)\n |      Return hash(self).\n |  \n |  __index__(self, /)\n |      Return self converted to an integer, if self is suitable for use as an index into a list.\n |  \n |  __int__(self, /)\n |      int(self)\n |  \n |  __invert__(self, /)\n |      ~self\n |  \n |  __le__(self, value, /)\n |      Return self<=value.\n |  \n |  __lshift__(self, value, /)\n |      Return self<<value.\n |  \n |  __lt__(self, value, /)\n |      Return self<value.\n |  \n |  __mod__(self, value, /)\n |      Return self%value.\n |  \n |  __mul__(self, value, /)\n |      Return self*value.\n |  \n |  __ne__(self, value, /)\n |      Return self!=value.\n |  \n |  __neg__(self, /)\n |      -self\n |  \n |  __or__(self, value, /)\n |      Return self|value.\n |  \n |  __pos__(self, /)\n |      +self\n |  \n |  __pow__(self, value, mod=None, /)\n |      Return pow(self, value, mod).\n |  \n |  __radd__(self, value, /)\n |      Return value+self.\n |  \n |  __rand__(self, value, /)\n |      Return value&self.\n |  \n |  __rdivmod__(self, value, /)\n |      Return divmod(value, self).\n |  \n |  __repr__(self, /)\n |      Return repr(self).\n |  \n |  __rfloordiv__(self, value, /)\n |      Return value//self.\n |  \n |  __rlshift__(self, value, /)\n |      Return value<<self.\n |  \n |  __rmod__(self, value, /)\n |      Return value%self.\n |  \n |  __rmul__(self, value, /)\n |      Return value*self.\n |  \n |  __ror__(self, value, /)\n |      Return value|self.\n |  \n |  __round__(...)\n |      Rounding an Integral returns itself.\n |      \n |      Rounding with an ndigits argument also returns an integer.\n |  \n |  __rpow__(self, value, mod=None, /)\n |      Return pow(value, self, mod).\n |  \n |  __rrshift__(self, value, /)\n |      Return value>>self.\n |  \n |  __rshift__(self, value, /)\n |      Return self>>value.\n |  \n |  __rsub__(self, value, /)\n |      Return value-self.\n |  \n |  __rtruediv__(self, value, /)\n |      Return value/self.\n |  \n |  __rxor__(self, value, /)\n |      Return value^self.\n |  \n |  __sizeof__(self, /)\n |      Returns size in memory, in bytes.\n |  \n |  __sub__(self, value, /)\n |      Return self-value.\n |  \n |  __truediv__(self, value, /)\n |      Return self/value.\n |  \n |  __trunc__(...)\n |      Truncating an Integral returns itself.\n |  \n |  __xor__(self, value, /)\n |      Return self^value.\n |  \n |  as_integer_ratio(self, /)\n |      Return integer ratio.\n |      \n |      Return a pair of integers, whose ratio is exactly equal to the original int\n |      and with a positive denominator.\n |      \n |      >>> (10).as_integer_ratio()\n |      (10, 1)\n |      >>> (-10).as_integer_ratio()\n |      (-10, 1)\n |      >>> (0).as_integer_ratio()\n |      (0, 1)\n |  \n |  bit_count(self, /)\n |      Number of ones in the binary representation of the absolute value of self.\n |      \n |      Also known as the population count.\n |      \n |      >>> bin(13)\n |      '0b1101'\n |      >>> (13).bit_count()\n |      3\n |  \n |  bit_length(self, /)\n |      Number of bits necessary to represent self in binary.\n |      \n |      >>> bin(37)\n |      '0b100101'\n |      >>> (37).bit_length()\n |      6\n |  \n |  conjugate(...)\n |      Returns self, the complex conjugate of any int.\n |  \n |  to_bytes(self, /, length=1, byteorder='big', *, signed=False)\n |      Return an array of bytes representing an integer.\n |      \n |      length\n |        Length of bytes object to use.  An OverflowError is raised if the\n |        integer is not representable with the given number of bytes.  Default\n |        is length 1.\n |      byteorder\n |        The byte order used to represent the integer.  If byteorder is 'big',\n |        the most significant byte is at the beginning of the byte array.  If\n |        byteorder is 'little', the most significant byte is at the end of the\n |        byte array.  To request the native byte order of the host system, use\n |        `sys.byteorder' as the byte order value.  Default is to use 'big'.\n |      signed\n |        Determines whether two's complement is used to represent the integer.\n |        If signed is False and a negative integer is given, an OverflowError\n |        is raised.\n |  \n |  ----------------------------------------------------------------------\n |  Class methods defined here:\n |  \n |  from_bytes(bytes, byteorder='big', *, signed=False) from builtins.type\n |      Return the integer represented by the given array of bytes.\n |      \n |      bytes\n |        Holds the array of bytes to convert.  The argument must either\n |        support the buffer protocol or be an iterable object producing bytes.\n |        Bytes and bytearray are examples of built-in objects that support the\n |        buffer protocol.\n |      byteorder\n |        The byte order used to represent the integer.  If byteorder is 'big',\n |        the most significant byte is at the beginning of the byte array.  If\n |        byteorder is 'little', the most significant byte is at the end of the\n |        byte array.  To request the native byte order of the host system, use\n |        `sys.byteorder' as the byte order value.  Default is to use 'big'.\n |      signed\n |        Indicates whether two's complement is used to represent the integer.\n |  \n |  ----------------------------------------------------------------------\n |  Static methods defined here:\n |  \n |  __new__(*args, **kwargs) from builtins.type\n |      Create and return a new object.  See help(type) for accurate signature.\n |  \n |  ----------------------------------------------------------------------\n |  Data descriptors defined here:\n |  \n |  denominator\n |      the denominator of a rational number in lowest terms\n |  \n |  imag\n |      the imaginary part of a complex number\n |  \n |  numerator\n |      the numerator of a rational number in lowest terms\n |  \n |  real\n |      the real part of a complex number\n\n",
          "output_type": "stream"
        }
      ]
    },
    {
      "cell_type": "code",
      "source": "a= True \ntype(a)\n",
      "metadata": {
        "trusted": true
      },
      "execution_count": 71,
      "outputs": [
        {
          "execution_count": 71,
          "output_type": "execute_result",
          "data": {
            "text/plain": "bool"
          },
          "metadata": {}
        }
      ]
    },
    {
      "cell_type": "code",
      "source": "b=False\ntype(b)",
      "metadata": {
        "trusted": true
      },
      "execution_count": 72,
      "outputs": [
        {
          "execution_count": 72,
          "output_type": "execute_result",
          "data": {
            "text/plain": "bool"
          },
          "metadata": {}
        }
      ]
    },
    {
      "cell_type": "code",
      "source": "a=10\nb=10\n",
      "metadata": {
        "trusted": true
      },
      "execution_count": 74,
      "outputs": []
    },
    {
      "cell_type": "code",
      "source": "print(bool(a!=b))",
      "metadata": {
        "trusted": true
      },
      "execution_count": 76,
      "outputs": [
        {
          "name": "stdout",
          "text": "False\n",
          "output_type": "stream"
        }
      ]
    },
    {
      "cell_type": "markdown",
      "source": "# non-primitive data types",
      "metadata": {}
    },
    {
      "cell_type": "code",
      "source": "range\nlist\ntuple\ndict\nset\nfrozenset",
      "metadata": {},
      "execution_count": null,
      "outputs": []
    },
    {
      "cell_type": "code",
      "source": "#range(start, end, step)\nprint(type(range(10))) #bydefault 0, end n-1, step bydefault",
      "metadata": {
        "trusted": true
      },
      "execution_count": 78,
      "outputs": [
        {
          "name": "stdout",
          "text": "<class 'range'>\n",
          "output_type": "stream"
        }
      ]
    },
    {
      "cell_type": "code",
      "source": "print(type(10))",
      "metadata": {
        "trusted": true
      },
      "execution_count": 79,
      "outputs": [
        {
          "name": "stdout",
          "text": "<class 'int'>\n",
          "output_type": "stream"
        }
      ]
    },
    {
      "cell_type": "code",
      "source": "#python 2.0 xrange           python3.0 range",
      "metadata": {},
      "execution_count": null,
      "outputs": []
    },
    {
      "cell_type": "code",
      "source": "for i in range(1,10,2):\n    print(i, end=\",\")    ",
      "metadata": {
        "trusted": true
      },
      "execution_count": 87,
      "outputs": [
        {
          "name": "stdout",
          "text": "1,3,5,7,9,",
          "output_type": "stream"
        }
      ]
    },
    {
      "cell_type": "code",
      "source": "#mutable datatype we change,alter, modify, deled \nlst=[1,\"3\",4,\"r\"]",
      "metadata": {
        "trusted": true
      },
      "execution_count": 88,
      "outputs": []
    },
    {
      "cell_type": "code",
      "source": "lst.append(7)\n#index it starts with zero ends with n-1",
      "metadata": {
        "trusted": true
      },
      "execution_count": 96,
      "outputs": []
    },
    {
      "cell_type": "code",
      "source": "print(type(lst))",
      "metadata": {
        "trusted": true
      },
      "execution_count": 91,
      "outputs": [
        {
          "name": "stdout",
          "text": "<class 'list'>\n",
          "output_type": "stream"
        }
      ]
    },
    {
      "cell_type": "code",
      "source": "lst[3]=5",
      "metadata": {
        "trusted": true
      },
      "execution_count": 106,
      "outputs": []
    },
    {
      "cell_type": "code",
      "source": "lst",
      "metadata": {
        "trusted": true
      },
      "execution_count": 107,
      "outputs": [
        {
          "execution_count": 107,
          "output_type": "execute_result",
          "data": {
            "text/plain": "[1, '3', 4, 5, 7]"
          },
          "metadata": {}
        }
      ]
    },
    {
      "cell_type": "code",
      "source": "help(list)",
      "metadata": {
        "trusted": true
      },
      "execution_count": 98,
      "outputs": [
        {
          "name": "stdout",
          "text": "Help on class list in module builtins:\n\nclass list(object)\n |  list(iterable=(), /)\n |  \n |  Built-in mutable sequence.\n |  \n |  If no argument is given, the constructor creates a new empty list.\n |  The argument must be an iterable if specified.\n |  \n |  Methods defined here:\n |  \n |  __add__(self, value, /)\n |      Return self+value.\n |  \n |  __contains__(self, key, /)\n |      Return key in self.\n |  \n |  __delitem__(self, key, /)\n |      Delete self[key].\n |  \n |  __eq__(self, value, /)\n |      Return self==value.\n |  \n |  __ge__(self, value, /)\n |      Return self>=value.\n |  \n |  __getattribute__(self, name, /)\n |      Return getattr(self, name).\n |  \n |  __getitem__(...)\n |      x.__getitem__(y) <==> x[y]\n |  \n |  __gt__(self, value, /)\n |      Return self>value.\n |  \n |  __iadd__(self, value, /)\n |      Implement self+=value.\n |  \n |  __imul__(self, value, /)\n |      Implement self*=value.\n |  \n |  __init__(self, /, *args, **kwargs)\n |      Initialize self.  See help(type(self)) for accurate signature.\n |  \n |  __iter__(self, /)\n |      Implement iter(self).\n |  \n |  __le__(self, value, /)\n |      Return self<=value.\n |  \n |  __len__(self, /)\n |      Return len(self).\n |  \n |  __lt__(self, value, /)\n |      Return self<value.\n |  \n |  __mul__(self, value, /)\n |      Return self*value.\n |  \n |  __ne__(self, value, /)\n |      Return self!=value.\n |  \n |  __repr__(self, /)\n |      Return repr(self).\n |  \n |  __reversed__(self, /)\n |      Return a reverse iterator over the list.\n |  \n |  __rmul__(self, value, /)\n |      Return value*self.\n |  \n |  __setitem__(self, key, value, /)\n |      Set self[key] to value.\n |  \n |  __sizeof__(self, /)\n |      Return the size of the list in memory, in bytes.\n |  \n |  append(self, object, /)\n |      Append object to the end of the list.\n |  \n |  clear(self, /)\n |      Remove all items from list.\n |  \n |  copy(self, /)\n |      Return a shallow copy of the list.\n |  \n |  count(self, value, /)\n |      Return number of occurrences of value.\n |  \n |  extend(self, iterable, /)\n |      Extend list by appending elements from the iterable.\n |  \n |  index(self, value, start=0, stop=2147483647, /)\n |      Return first index of value.\n |      \n |      Raises ValueError if the value is not present.\n |  \n |  insert(self, index, object, /)\n |      Insert object before index.\n |  \n |  pop(self, index=-1, /)\n |      Remove and return item at index (default last).\n |      \n |      Raises IndexError if list is empty or index is out of range.\n |  \n |  remove(self, value, /)\n |      Remove first occurrence of value.\n |      \n |      Raises ValueError if the value is not present.\n |  \n |  reverse(self, /)\n |      Reverse *IN PLACE*.\n |  \n |  sort(self, /, *, key=None, reverse=False)\n |      Sort the list in ascending order and return None.\n |      \n |      The sort is in-place (i.e. the list itself is modified) and stable (i.e. the\n |      order of two equal elements is maintained).\n |      \n |      If a key function is given, apply it once to each list item and sort them,\n |      ascending or descending, according to their function values.\n |      \n |      The reverse flag can be set to sort in descending order.\n |  \n |  ----------------------------------------------------------------------\n |  Class methods defined here:\n |  \n |  __class_getitem__(...) from builtins.type\n |      See PEP 585\n |  \n |  ----------------------------------------------------------------------\n |  Static methods defined here:\n |  \n |  __new__(*args, **kwargs) from builtins.type\n |      Create and return a new object.  See help(type) for accurate signature.\n |  \n |  ----------------------------------------------------------------------\n |  Data and other attributes defined here:\n |  \n |  __hash__ = None\n\n",
          "output_type": "stream"
        }
      ]
    },
    {
      "cell_type": "code",
      "source": "tpl= (1,\"2\",\"r\",4)",
      "metadata": {
        "trusted": true
      },
      "execution_count": 99,
      "outputs": []
    },
    {
      "cell_type": "code",
      "source": "tpl",
      "metadata": {
        "trusted": true
      },
      "execution_count": 100,
      "outputs": [
        {
          "execution_count": 100,
          "output_type": "execute_result",
          "data": {
            "text/plain": "(1, '2', 'r', 4)"
          },
          "metadata": {}
        }
      ]
    },
    {
      "cell_type": "code",
      "source": "type(tpl)",
      "metadata": {
        "trusted": true
      },
      "execution_count": 101,
      "outputs": [
        {
          "execution_count": 101,
          "output_type": "execute_result",
          "data": {
            "text/plain": "tuple"
          },
          "metadata": {}
        }
      ]
    },
    {
      "cell_type": "code",
      "source": "help(tuple)",
      "metadata": {
        "trusted": true
      },
      "execution_count": 102,
      "outputs": [
        {
          "name": "stdout",
          "text": "Help on class tuple in module builtins:\n\nclass tuple(object)\n |  tuple(iterable=(), /)\n |  \n |  Built-in immutable sequence.\n |  \n |  If no argument is given, the constructor returns an empty tuple.\n |  If iterable is specified the tuple is initialized from iterable's items.\n |  \n |  If the argument is a tuple, the return value is the same object.\n |  \n |  Built-in subclasses:\n |      asyncgen_hooks\n |      UnraisableHookArgs\n |  \n |  Methods defined here:\n |  \n |  __add__(self, value, /)\n |      Return self+value.\n |  \n |  __contains__(self, key, /)\n |      Return key in self.\n |  \n |  __eq__(self, value, /)\n |      Return self==value.\n |  \n |  __ge__(self, value, /)\n |      Return self>=value.\n |  \n |  __getattribute__(self, name, /)\n |      Return getattr(self, name).\n |  \n |  __getitem__(self, key, /)\n |      Return self[key].\n |  \n |  __getnewargs__(self, /)\n |  \n |  __gt__(self, value, /)\n |      Return self>value.\n |  \n |  __hash__(self, /)\n |      Return hash(self).\n |  \n |  __iter__(self, /)\n |      Implement iter(self).\n |  \n |  __le__(self, value, /)\n |      Return self<=value.\n |  \n |  __len__(self, /)\n |      Return len(self).\n |  \n |  __lt__(self, value, /)\n |      Return self<value.\n |  \n |  __mul__(self, value, /)\n |      Return self*value.\n |  \n |  __ne__(self, value, /)\n |      Return self!=value.\n |  \n |  __repr__(self, /)\n |      Return repr(self).\n |  \n |  __rmul__(self, value, /)\n |      Return value*self.\n |  \n |  count(self, value, /)\n |      Return number of occurrences of value.\n |  \n |  index(self, value, start=0, stop=2147483647, /)\n |      Return first index of value.\n |      \n |      Raises ValueError if the value is not present.\n |  \n |  ----------------------------------------------------------------------\n |  Class methods defined here:\n |  \n |  __class_getitem__(...) from builtins.type\n |      See PEP 585\n |  \n |  ----------------------------------------------------------------------\n |  Static methods defined here:\n |  \n |  __new__(*args, **kwargs) from builtins.type\n |      Create and return a new object.  See help(type) for accurate signature.\n\n",
          "output_type": "stream"
        }
      ]
    },
    {
      "cell_type": "code",
      "source": "tpl[3]",
      "metadata": {
        "trusted": true
      },
      "execution_count": 108,
      "outputs": [
        {
          "execution_count": 108,
          "output_type": "execute_result",
          "data": {
            "text/plain": "4"
          },
          "metadata": {}
        }
      ]
    },
    {
      "cell_type": "code",
      "source": "tpl[3]=5",
      "metadata": {
        "trusted": true
      },
      "execution_count": 109,
      "outputs": [
        {
          "ename": "<class 'TypeError'>",
          "evalue": "'tuple' object does not support item assignment",
          "traceback": [
            "\u001b[0;31m---------------------------------------------------------------------------\u001b[0m",
            "\u001b[0;31mTypeError\u001b[0m                                 Traceback (most recent call last)",
            "Cell \u001b[0;32mIn[109], line 1\u001b[0m\n\u001b[0;32m----> 1\u001b[0m \u001b[43mtpl\u001b[49m\u001b[43m[\u001b[49m\u001b[38;5;241;43m3\u001b[39;49m\u001b[43m]\u001b[49m\u001b[38;5;241m=\u001b[39m\u001b[38;5;241m5\u001b[39m\n",
            "\u001b[0;31mTypeError\u001b[0m: 'tuple' object does not support item assignment"
          ],
          "output_type": "error"
        }
      ]
    },
    {
      "cell_type": "code",
      "source": "#key:value\ndic={\"a\":1,\"b\":2}",
      "metadata": {
        "trusted": true
      },
      "execution_count": 111,
      "outputs": []
    },
    {
      "cell_type": "code",
      "source": "dic",
      "metadata": {
        "trusted": true
      },
      "execution_count": 112,
      "outputs": [
        {
          "execution_count": 112,
          "output_type": "execute_result",
          "data": {
            "text/plain": "{'a': 1, 'b': 2}"
          },
          "metadata": {}
        }
      ]
    },
    {
      "cell_type": "code",
      "source": "#keys are unique\n#Values are may be duplicates",
      "metadata": {},
      "execution_count": null,
      "outputs": []
    },
    {
      "cell_type": "code",
      "source": "dic1={\"a\":1,\"b\":2,\"b\":3}",
      "metadata": {
        "trusted": true
      },
      "execution_count": 113,
      "outputs": []
    },
    {
      "cell_type": "code",
      "source": "dic1",
      "metadata": {
        "trusted": true
      },
      "execution_count": 115,
      "outputs": [
        {
          "execution_count": 115,
          "output_type": "execute_result",
          "data": {
            "text/plain": "{'a': 1, 'b': 3}"
          },
          "metadata": {}
        }
      ]
    },
    {
      "cell_type": "code",
      "source": "dic1[\"a\"]",
      "metadata": {
        "trusted": true
      },
      "execution_count": 116,
      "outputs": [
        {
          "execution_count": 116,
          "output_type": "execute_result",
          "data": {
            "text/plain": "1"
          },
          "metadata": {}
        }
      ]
    },
    {
      "cell_type": "code",
      "source": "dic1[\"a\"]=5",
      "metadata": {
        "trusted": true
      },
      "execution_count": 119,
      "outputs": []
    },
    {
      "cell_type": "code",
      "source": "dic1",
      "metadata": {
        "trusted": true
      },
      "execution_count": 120,
      "outputs": [
        {
          "execution_count": 120,
          "output_type": "execute_result",
          "data": {
            "text/plain": "{'a': 5, 'b': 3}"
          },
          "metadata": {}
        }
      ]
    },
    {
      "cell_type": "code",
      "source": "# keys are immutable\n# values are mutable",
      "metadata": {},
      "execution_count": null,
      "outputs": []
    },
    {
      "cell_type": "code",
      "source": "type(dic1)",
      "metadata": {
        "trusted": true
      },
      "execution_count": 121,
      "outputs": [
        {
          "execution_count": 121,
          "output_type": "execute_result",
          "data": {
            "text/plain": "dict"
          },
          "metadata": {}
        }
      ]
    },
    {
      "cell_type": "code",
      "source": "dic2={}",
      "metadata": {
        "trusted": true
      },
      "execution_count": 122,
      "outputs": []
    },
    {
      "cell_type": "code",
      "source": "type(dic2)",
      "metadata": {
        "trusted": true
      },
      "execution_count": 123,
      "outputs": [
        {
          "execution_count": 123,
          "output_type": "execute_result",
          "data": {
            "text/plain": "dict"
          },
          "metadata": {}
        }
      ]
    },
    {
      "cell_type": "code",
      "source": "help(dict)",
      "metadata": {
        "trusted": true
      },
      "execution_count": 124,
      "outputs": [
        {
          "name": "stdout",
          "text": "Help on class dict in module builtins:\n\nclass dict(object)\n |  dict() -> new empty dictionary\n |  dict(mapping) -> new dictionary initialized from a mapping object's\n |      (key, value) pairs\n |  dict(iterable) -> new dictionary initialized as if via:\n |      d = {}\n |      for k, v in iterable:\n |          d[k] = v\n |  dict(**kwargs) -> new dictionary initialized with the name=value pairs\n |      in the keyword argument list.  For example:  dict(one=1, two=2)\n |  \n |  Built-in subclasses:\n |      StgDict\n |  \n |  Methods defined here:\n |  \n |  __contains__(self, key, /)\n |      True if the dictionary has the specified key, else False.\n |  \n |  __delitem__(self, key, /)\n |      Delete self[key].\n |  \n |  __eq__(self, value, /)\n |      Return self==value.\n |  \n |  __ge__(self, value, /)\n |      Return self>=value.\n |  \n |  __getattribute__(self, name, /)\n |      Return getattr(self, name).\n |  \n |  __getitem__(...)\n |      x.__getitem__(y) <==> x[y]\n |  \n |  __gt__(self, value, /)\n |      Return self>value.\n |  \n |  __init__(self, /, *args, **kwargs)\n |      Initialize self.  See help(type(self)) for accurate signature.\n |  \n |  __ior__(self, value, /)\n |      Return self|=value.\n |  \n |  __iter__(self, /)\n |      Implement iter(self).\n |  \n |  __le__(self, value, /)\n |      Return self<=value.\n |  \n |  __len__(self, /)\n |      Return len(self).\n |  \n |  __lt__(self, value, /)\n |      Return self<value.\n |  \n |  __ne__(self, value, /)\n |      Return self!=value.\n |  \n |  __or__(self, value, /)\n |      Return self|value.\n |  \n |  __repr__(self, /)\n |      Return repr(self).\n |  \n |  __reversed__(self, /)\n |      Return a reverse iterator over the dict keys.\n |  \n |  __ror__(self, value, /)\n |      Return value|self.\n |  \n |  __setitem__(self, key, value, /)\n |      Set self[key] to value.\n |  \n |  __sizeof__(...)\n |      D.__sizeof__() -> size of D in memory, in bytes\n |  \n |  clear(...)\n |      D.clear() -> None.  Remove all items from D.\n |  \n |  copy(...)\n |      D.copy() -> a shallow copy of D\n |  \n |  get(self, key, default=None, /)\n |      Return the value for key if key is in the dictionary, else default.\n |  \n |  items(...)\n |      D.items() -> a set-like object providing a view on D's items\n |  \n |  keys(...)\n |      D.keys() -> a set-like object providing a view on D's keys\n |  \n |  pop(...)\n |      D.pop(k[,d]) -> v, remove specified key and return the corresponding value.\n |      \n |      If the key is not found, return the default if given; otherwise,\n |      raise a KeyError.\n |  \n |  popitem(self, /)\n |      Remove and return a (key, value) pair as a 2-tuple.\n |      \n |      Pairs are returned in LIFO (last-in, first-out) order.\n |      Raises KeyError if the dict is empty.\n |  \n |  setdefault(self, key, default=None, /)\n |      Insert key with a value of default if key is not in the dictionary.\n |      \n |      Return the value for key if key is in the dictionary, else default.\n |  \n |  update(...)\n |      D.update([E, ]**F) -> None.  Update D from dict/iterable E and F.\n |      If E is present and has a .keys() method, then does:  for k in E: D[k] = E[k]\n |      If E is present and lacks a .keys() method, then does:  for k, v in E: D[k] = v\n |      In either case, this is followed by: for k in F:  D[k] = F[k]\n |  \n |  values(...)\n |      D.values() -> an object providing a view on D's values\n |  \n |  ----------------------------------------------------------------------\n |  Class methods defined here:\n |  \n |  __class_getitem__(...) from builtins.type\n |      See PEP 585\n |  \n |  fromkeys(iterable, value=None, /) from builtins.type\n |      Create a new dictionary with keys from iterable and values set to value.\n |  \n |  ----------------------------------------------------------------------\n |  Static methods defined here:\n |  \n |  __new__(*args, **kwargs) from builtins.type\n |      Create and return a new object.  See help(type) for accurate signature.\n |  \n |  ----------------------------------------------------------------------\n |  Data and other attributes defined here:\n |  \n |  __hash__ = None\n\n",
          "output_type": "stream"
        }
      ]
    },
    {
      "cell_type": "code",
      "source": "#set\n#mutable\n#unorderd collection sequence of elements\nset1={1,2,3,2,2,2,23,3}",
      "metadata": {
        "trusted": true
      },
      "execution_count": 126,
      "outputs": []
    },
    {
      "cell_type": "code",
      "source": "set1",
      "metadata": {
        "trusted": true
      },
      "execution_count": 127,
      "outputs": [
        {
          "execution_count": 127,
          "output_type": "execute_result",
          "data": {
            "text/plain": "{1, 2, 3, 23}"
          },
          "metadata": {}
        }
      ]
    },
    {
      "cell_type": "code",
      "source": "set1[0]",
      "metadata": {
        "trusted": true
      },
      "execution_count": 128,
      "outputs": [
        {
          "ename": "<class 'TypeError'>",
          "evalue": "'set' object is not subscriptable",
          "traceback": [
            "\u001b[0;31m---------------------------------------------------------------------------\u001b[0m",
            "\u001b[0;31mTypeError\u001b[0m                                 Traceback (most recent call last)",
            "Cell \u001b[0;32mIn[128], line 1\u001b[0m\n\u001b[0;32m----> 1\u001b[0m \u001b[43mset1\u001b[49m\u001b[43m[\u001b[49m\u001b[38;5;241;43m0\u001b[39;49m\u001b[43m]\u001b[49m\n",
            "\u001b[0;31mTypeError\u001b[0m: 'set' object is not subscriptable"
          ],
          "output_type": "error"
        }
      ]
    },
    {
      "cell_type": "code",
      "source": "help(set)",
      "metadata": {
        "trusted": true
      },
      "execution_count": 129,
      "outputs": [
        {
          "name": "stdout",
          "text": "Help on class set in module builtins:\n\nclass set(object)\n |  set() -> new empty set object\n |  set(iterable) -> new set object\n |  \n |  Build an unordered collection of unique elements.\n |  \n |  Methods defined here:\n |  \n |  __and__(self, value, /)\n |      Return self&value.\n |  \n |  __contains__(...)\n |      x.__contains__(y) <==> y in x.\n |  \n |  __eq__(self, value, /)\n |      Return self==value.\n |  \n |  __ge__(self, value, /)\n |      Return self>=value.\n |  \n |  __getattribute__(self, name, /)\n |      Return getattr(self, name).\n |  \n |  __gt__(self, value, /)\n |      Return self>value.\n |  \n |  __iand__(self, value, /)\n |      Return self&=value.\n |  \n |  __init__(self, /, *args, **kwargs)\n |      Initialize self.  See help(type(self)) for accurate signature.\n |  \n |  __ior__(self, value, /)\n |      Return self|=value.\n |  \n |  __isub__(self, value, /)\n |      Return self-=value.\n |  \n |  __iter__(self, /)\n |      Implement iter(self).\n |  \n |  __ixor__(self, value, /)\n |      Return self^=value.\n |  \n |  __le__(self, value, /)\n |      Return self<=value.\n |  \n |  __len__(self, /)\n |      Return len(self).\n |  \n |  __lt__(self, value, /)\n |      Return self<value.\n |  \n |  __ne__(self, value, /)\n |      Return self!=value.\n |  \n |  __or__(self, value, /)\n |      Return self|value.\n |  \n |  __rand__(self, value, /)\n |      Return value&self.\n |  \n |  __reduce__(...)\n |      Return state information for pickling.\n |  \n |  __repr__(self, /)\n |      Return repr(self).\n |  \n |  __ror__(self, value, /)\n |      Return value|self.\n |  \n |  __rsub__(self, value, /)\n |      Return value-self.\n |  \n |  __rxor__(self, value, /)\n |      Return value^self.\n |  \n |  __sizeof__(...)\n |      S.__sizeof__() -> size of S in memory, in bytes\n |  \n |  __sub__(self, value, /)\n |      Return self-value.\n |  \n |  __xor__(self, value, /)\n |      Return self^value.\n |  \n |  add(...)\n |      Add an element to a set.\n |      \n |      This has no effect if the element is already present.\n |  \n |  clear(...)\n |      Remove all elements from this set.\n |  \n |  copy(...)\n |      Return a shallow copy of a set.\n |  \n |  difference(...)\n |      Return the difference of two or more sets as a new set.\n |      \n |      (i.e. all elements that are in this set but not the others.)\n |  \n |  difference_update(...)\n |      Remove all elements of another set from this set.\n |  \n |  discard(...)\n |      Remove an element from a set if it is a member.\n |      \n |      Unlike set.remove(), the discard() method does not raise\n |      an exception when an element is missing from the set.\n |  \n |  intersection(...)\n |      Return the intersection of two sets as a new set.\n |      \n |      (i.e. all elements that are in both sets.)\n |  \n |  intersection_update(...)\n |      Update a set with the intersection of itself and another.\n |  \n |  isdisjoint(...)\n |      Return True if two sets have a null intersection.\n |  \n |  issubset(...)\n |      Report whether another set contains this set.\n |  \n |  issuperset(...)\n |      Report whether this set contains another set.\n |  \n |  pop(...)\n |      Remove and return an arbitrary set element.\n |      Raises KeyError if the set is empty.\n |  \n |  remove(...)\n |      Remove an element from a set; it must be a member.\n |      \n |      If the element is not a member, raise a KeyError.\n |  \n |  symmetric_difference(...)\n |      Return the symmetric difference of two sets as a new set.\n |      \n |      (i.e. all elements that are in exactly one of the sets.)\n |  \n |  symmetric_difference_update(...)\n |      Update a set with the symmetric difference of itself and another.\n |  \n |  union(...)\n |      Return the union of sets as a new set.\n |      \n |      (i.e. all elements that are in either set.)\n |  \n |  update(...)\n |      Update a set with the union of itself and others.\n |  \n |  ----------------------------------------------------------------------\n |  Class methods defined here:\n |  \n |  __class_getitem__(...) from builtins.type\n |      See PEP 585\n |  \n |  ----------------------------------------------------------------------\n |  Static methods defined here:\n |  \n |  __new__(*args, **kwargs) from builtins.type\n |      Create and return a new object.  See help(type) for accurate signature.\n |  \n |  ----------------------------------------------------------------------\n |  Data and other attributes defined here:\n |  \n |  __hash__ = None\n\n",
          "output_type": "stream"
        }
      ]
    },
    {
      "cell_type": "code",
      "source": "set1.pop()",
      "metadata": {
        "trusted": true
      },
      "execution_count": 132,
      "outputs": [
        {
          "execution_count": 132,
          "output_type": "execute_result",
          "data": {
            "text/plain": "2"
          },
          "metadata": {}
        }
      ]
    },
    {
      "cell_type": "code",
      "source": "set1",
      "metadata": {
        "trusted": true
      },
      "execution_count": 133,
      "outputs": [
        {
          "execution_count": 133,
          "output_type": "execute_result",
          "data": {
            "text/plain": "{3, 23}"
          },
          "metadata": {}
        }
      ]
    },
    {
      "cell_type": "code",
      "source": "lst",
      "metadata": {
        "trusted": true
      },
      "execution_count": 134,
      "outputs": [
        {
          "execution_count": 134,
          "output_type": "execute_result",
          "data": {
            "text/plain": "[1, '3', 4, 5, 7]"
          },
          "metadata": {}
        }
      ]
    },
    {
      "cell_type": "code",
      "source": "lst.pop()",
      "metadata": {
        "trusted": true
      },
      "execution_count": 135,
      "outputs": [
        {
          "execution_count": 135,
          "output_type": "execute_result",
          "data": {
            "text/plain": "7"
          },
          "metadata": {}
        }
      ]
    },
    {
      "cell_type": "code",
      "source": "lst",
      "metadata": {
        "trusted": true
      },
      "execution_count": 136,
      "outputs": [
        {
          "execution_count": 136,
          "output_type": "execute_result",
          "data": {
            "text/plain": "[1, '3', 4, 5]"
          },
          "metadata": {}
        }
      ]
    },
    {
      "cell_type": "code",
      "source": "#frozenset\n",
      "metadata": {},
      "execution_count": null,
      "outputs": []
    }
  ]
}