{
  "nbformat": 4,
  "nbformat_minor": 0,
  "metadata": {
    "colab": {
      "private_outputs": true,
      "provenance": []
    },
    "kernelspec": {
      "name": "python3",
      "display_name": "Python 3"
    },
    "language_info": {
      "name": "python"
    }
  },
  "cells": [
    {
      "cell_type": "code",
      "source": [
        "a=input(\"Enter the Password:\")\n",
        "while a== \"1234\":\n",
        "    print(\"Wrong Password\")\n",
        "    a=input(\"Enter the Password again:\")\n",
        "print(\"Welcome to Shimakh\")"
      ],
      "metadata": {
        "id": "SoYW8MxeZNlA"
      },
      "execution_count": null,
      "outputs": []
    },
    {
      "cell_type": "code",
      "source": [
        "i=1\n",
        "while i<=10:\n",
        "    print(\"welcome to shimakh\", i)\n",
        "    i+=1#i=i+1\n"
      ],
      "metadata": {
        "id": "zomnAcnOZk0s"
      },
      "execution_count": null,
      "outputs": []
    },
    {
      "cell_type": "code",
      "source": [
        "n=int(input(\"enter the num: \"))\n",
        "sum=0\n",
        "while n>0:\n",
        "    sum+=n#\n",
        "    n-=1\n",
        "    print(\"these are n values:\", n)\n",
        "    print(\"these are sum of values:\", sum)"
      ],
      "metadata": {
        "id": "0kWcYszIZ3lP"
      },
      "execution_count": null,
      "outputs": []
    },
    {
      "cell_type": "code",
      "source": [
        "break, continue, pass"
      ],
      "metadata": {
        "id": "npSOSa-gdjtQ"
      },
      "execution_count": null,
      "outputs": []
    },
    {
      "cell_type": "code",
      "source": [
        "#break point\n",
        "sum1=0\n",
        "while True:\n",
        "    num =int(input(\"enter the number: \"))\n",
        "    sum1+=1\n",
        "    print(sum1)\n",
        "    if num==0:\n",
        "        break\n",
        "    print(\"come out from loop\", sum)"
      ],
      "metadata": {
        "id": "wGEpDKlufMxy"
      },
      "execution_count": null,
      "outputs": []
    },
    {
      "cell_type": "code",
      "source": [
        "num=1\n",
        "while num<=10:\n",
        "    num+=1\n",
        "    if num==5:\n",
        "        continue\n",
        "    print(num)"
      ],
      "metadata": {
        "id": "ZAzgI72GhDfA"
      },
      "execution_count": null,
      "outputs": []
    },
    {
      "cell_type": "code",
      "source": [
        "a=\"ganesh\"\n",
        "for i in a:\n",
        "    if i==\"n\":\n",
        "        continue\n",
        "    print(i, end=\" \")"
      ],
      "metadata": {
        "id": "dvkFfYDiiwnC"
      },
      "execution_count": null,
      "outputs": []
    },
    {
      "cell_type": "code",
      "source": [
        "num=0\n",
        "while len(a)>num:\n",
        "    a=input(\"enter name:\")\n",
        "    if a==\"radha\":\n",
        "        continue\n",
        "    num+=1\n",
        "    print(a)"
      ],
      "metadata": {
        "id": "7PHUUJsvkdJh"
      },
      "execution_count": null,
      "outputs": []
    },
    {
      "cell_type": "code",
      "source": [
        "num=0\n",
        "while len(a)>num:\n",
        "    a=input(\"enter name:\")\n",
        "    if a==\"radha\":\n",
        "        pass\n",
        "    num+=1\n",
        "    print(a)"
      ],
      "metadata": {
        "id": "O2ZD5EaYlb8w"
      },
      "execution_count": null,
      "outputs": []
    },
    {
      "cell_type": "code",
      "source": [
        "num=0\n",
        "while len(a)>num:\n",
        "    a=\"ganesh\"\n",
        "    if a==\"ganesh\":\n",
        "        continue\n",
        "    num+=1\n",
        "    print(a)"
      ],
      "metadata": {
        "id": "DVW7Et4jly17"
      },
      "execution_count": null,
      "outputs": []
    },
    {
      "cell_type": "code",
      "source": [
        "a=\"ganesh\"\n",
        "for i in a:\n",
        "    if i==\"n\":\n",
        "        pass\n",
        "    print(i, end=\" \")"
      ],
      "metadata": {
        "id": "mmr2VF0Mk2op"
      },
      "execution_count": null,
      "outputs": []
    },
    {
      "cell_type": "code",
      "source": [
        "def add():\n",
        "    pass"
      ],
      "metadata": {
        "id": "XbdhxoTollYw"
      },
      "execution_count": null,
      "outputs": []
    },
    {
      "cell_type": "code",
      "source": [
        "class Add:\n",
        "    pass"
      ],
      "metadata": {
        "id": "5NSoQQ-xlqEH"
      },
      "execution_count": null,
      "outputs": []
    }
  ]
}