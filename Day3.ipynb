{
  "nbformat": 4,
  "nbformat_minor": 0,
  "metadata": {
    "colab": {
      "private_outputs": true,
      "provenance": [],
      "authorship_tag": "ABX9TyOk1ZQENx7ogYdx9x92LI5e",
      "include_colab_link": true
    },
    "kernelspec": {
      "name": "python3",
      "display_name": "Python 3"
    },
    "language_info": {
      "name": "python"
    }
  },
  "cells": [
    {
      "cell_type": "markdown",
      "metadata": {
        "id": "view-in-github",
        "colab_type": "text"
      },
      "source": [
        "<a href=\"https://colab.research.google.com/github/rganesh203/Python-Core-Fundamentals/blob/main/Day3.ipynb\" target=\"_parent\"><img src=\"https://colab.research.google.com/assets/colab-badge.svg\" alt=\"Open In Colab\"/></a>"
      ]
    },
    {
      "cell_type": "code",
      "source": [
        "d={}"
      ],
      "metadata": {
        "id": "5NoHJIfCJjiL"
      },
      "execution_count": null,
      "outputs": []
    },
    {
      "cell_type": "code",
      "source": [
        "type(d)"
      ],
      "metadata": {
        "id": "iKJz4C-hKUQK"
      },
      "execution_count": null,
      "outputs": []
    },
    {
      "cell_type": "code",
      "source": [
        "f=set(d)"
      ],
      "metadata": {
        "id": "o2tlAC9MKV8b"
      },
      "execution_count": null,
      "outputs": []
    },
    {
      "cell_type": "code",
      "source": [
        "type(f)"
      ],
      "metadata": {
        "id": "mnz7wVkyKchW"
      },
      "execution_count": null,
      "outputs": []
    },
    {
      "cell_type": "code",
      "source": [
        "?f.add"
      ],
      "metadata": {
        "id": "l45IQYRHKi39"
      },
      "execution_count": null,
      "outputs": []
    },
    {
      "cell_type": "code",
      "source": [
        "f"
      ],
      "metadata": {
        "id": "ZoDCiemRKvHX"
      },
      "execution_count": null,
      "outputs": []
    },
    {
      "cell_type": "code",
      "source": [
        "g=f.copy()"
      ],
      "metadata": {
        "id": "AFlnq334KwMN"
      },
      "execution_count": null,
      "outputs": []
    },
    {
      "cell_type": "code",
      "source": [
        "g"
      ],
      "metadata": {
        "id": "Gxu-6ZX2LAsz"
      },
      "execution_count": null,
      "outputs": []
    },
    {
      "cell_type": "code",
      "source": [
        "x={1,2,3}\n",
        "y={2,3,4}"
      ],
      "metadata": {
        "id": "HPHI43IHLBZ1"
      },
      "execution_count": null,
      "outputs": []
    },
    {
      "cell_type": "code",
      "source": [
        "x.difference(y)"
      ],
      "metadata": {
        "id": "GP22_EtjLOXV"
      },
      "execution_count": null,
      "outputs": []
    },
    {
      "cell_type": "code",
      "source": [
        "#casefold is unicode\n",
        "#lower is ASCII\n"
      ],
      "metadata": {
        "id": "kWOFv2bgLTLz"
      },
      "execution_count": null,
      "outputs": []
    },
    {
      "cell_type": "code",
      "source": [
        "x = \"ganesh\\n\"\n",
        "print(x.split('/'))  # Using double quotes inside split()"
      ],
      "metadata": {
        "id": "qWr1UvGAlCWR"
      },
      "execution_count": null,
      "outputs": []
    },
    {
      "cell_type": "code",
      "source": [
        "x = r\"ganesh\\n\"\n",
        "print(x.split('\\\\'))\n"
      ],
      "metadata": {
        "id": "8og4JvNqnJru"
      },
      "execution_count": null,
      "outputs": []
    },
    {
      "cell_type": "code",
      "source": [
        " a = \"1\\2\\3\\4\"\n",
        "\n",
        "print(a.split(\"\\\\\"))"
      ],
      "metadata": {
        "id": "cij2bxSylFWD"
      },
      "execution_count": null,
      "outputs": []
    },
    {
      "cell_type": "code",
      "source": [
        "r=int(input(\"enter the number: \"))"
      ],
      "metadata": {
        "id": "flPDs59qjx0T"
      },
      "execution_count": null,
      "outputs": []
    },
    {
      "cell_type": "code",
      "source": [
        "type(r)"
      ],
      "metadata": {
        "id": "FMKffCYEj1hk"
      },
      "execution_count": null,
      "outputs": []
    },
    {
      "cell_type": "code",
      "source": [
        "?range"
      ],
      "metadata": {
        "id": "d89f6JVnj71B"
      },
      "execution_count": null,
      "outputs": []
    },
    {
      "cell_type": "code",
      "source": [
        "range(10)"
      ],
      "metadata": {
        "id": "pcqyC6DDkrG4"
      },
      "execution_count": null,
      "outputs": []
    },
    {
      "cell_type": "code",
      "source": [
        "list(range(10))"
      ],
      "metadata": {
        "id": "7e0iNcFwk6AX"
      },
      "execution_count": null,
      "outputs": []
    },
    {
      "cell_type": "code",
      "source": [
        "type(range(10))"
      ],
      "metadata": {
        "id": "Pbfyr4JRk_SW"
      },
      "execution_count": null,
      "outputs": []
    },
    {
      "cell_type": "code",
      "source": [
        "list(range(2,10,2))\n",
        "# 1 is include\n",
        "#10 is exclude\n",
        "#2 is increment\n",
        "#1, 1+2, 3+2, 5+2, 7+2"
      ],
      "metadata": {
        "id": "9wbGNvXElFS-"
      },
      "execution_count": null,
      "outputs": []
    },
    {
      "cell_type": "code",
      "source": [
        "list(range(5,20,-2))"
      ],
      "metadata": {
        "id": "Fq8M9iBhlk3V"
      },
      "execution_count": null,
      "outputs": []
    },
    {
      "cell_type": "code",
      "source": [
        "list(range(5,-22))"
      ],
      "metadata": {
        "id": "p1IXwx5TmAFr"
      },
      "execution_count": null,
      "outputs": []
    },
    {
      "cell_type": "code",
      "source": [
        "#c for, while, dowhile\n",
        "#in python for, while"
      ],
      "metadata": {
        "id": "f0Ehix6anHcD"
      },
      "execution_count": null,
      "outputs": []
    },
    {
      "cell_type": "code",
      "source": [
        "#syntax: for variable in statement:\n",
        "for i in range(10):\n",
        "    print(i, end=\", \")\n"
      ],
      "metadata": {
        "id": "_7CeJxnUnYL4"
      },
      "execution_count": null,
      "outputs": []
    },
    {
      "cell_type": "code",
      "source": [
        "#conditions\n",
        "#if\n",
        "\"\"\"syntax: if ____:\n",
        "        statement\n",
        "    else:\n",
        "        statement\n",
        "    elif   \"\"\""
      ],
      "metadata": {
        "id": "x0MXMiGEnyHo"
      },
      "execution_count": null,
      "outputs": []
    },
    {
      "cell_type": "code",
      "source": [
        "w=input(\"enter the statement\")"
      ],
      "metadata": {
        "id": "08v8ytfGolgh"
      },
      "execution_count": null,
      "outputs": []
    },
    {
      "cell_type": "code",
      "source": [
        "if w==\"Radharam ganesh\":\n",
        "    print(\"correct\")\n",
        "else:\n",
        "    print(\"not matching with user input\")"
      ],
      "metadata": {
        "id": "_FfGupYNosG5"
      },
      "execution_count": null,
      "outputs": []
    },
    {
      "cell_type": "code",
      "source": [
        "#if elif statemet\n",
        "\"\"\" A>90\n",
        "    B-80-90\n",
        "    C-70-80\n",
        "    D-60-70\n",
        "    E\n",
        "    \"\"\""
      ],
      "metadata": {
        "id": "5CKuD98ApWel"
      },
      "execution_count": null,
      "outputs": []
    },
    {
      "cell_type": "code",
      "source": [
        "num=int(input(\"enter the marks: \"))\n",
        "#print(num)\n",
        "if num>=90:\n",
        "    print(\"grade=A\")\n",
        "elif num>=80:\n",
        "    print(\"grade=B\")\n",
        "elif num>=70:\n",
        "    print(\"grade=c\")\n",
        "else:\n",
        "    print(\"grade=E\")"
      ],
      "metadata": {
        "id": "y002ySUppnao"
      },
      "execution_count": null,
      "outputs": []
    },
    {
      "cell_type": "code",
      "source": [
        "a=20"
      ],
      "metadata": {
        "id": "BCvLh8Rlo5n5"
      },
      "execution_count": null,
      "outputs": []
    },
    {
      "cell_type": "code",
      "source": [
        "print(\"a\")"
      ],
      "metadata": {
        "id": "G0m3EDczqxnB"
      },
      "execution_count": null,
      "outputs": []
    },
    {
      "cell_type": "code",
      "source": [
        "print(a)"
      ],
      "metadata": {
        "id": "OVjA-S1pq-Ry"
      },
      "execution_count": null,
      "outputs": []
    },
    {
      "cell_type": "code",
      "source": [
        "t=input(\"enter some data: \")"
      ],
      "metadata": {
        "id": "GYAfO87xrAdc"
      },
      "execution_count": null,
      "outputs": []
    },
    {
      "cell_type": "code",
      "source": [
        "for i in range(10):\n",
        "    print(i,end= \", \")"
      ],
      "metadata": {
        "id": "O6ZaHmXhrtTw"
      },
      "execution_count": null,
      "outputs": []
    },
    {
      "cell_type": "code",
      "source": [
        "str1=\"pythonprogramming\""
      ],
      "metadata": {
        "id": "pz0i4xxHr4oa"
      },
      "execution_count": null,
      "outputs": []
    },
    {
      "cell_type": "code",
      "source": [
        "list1=[1,2,3,4]"
      ],
      "metadata": {
        "id": "c_Ea1D10sGPX"
      },
      "execution_count": null,
      "outputs": []
    },
    {
      "cell_type": "code",
      "source": [
        "for i in list1:\n",
        "    print(i, end=\",\")\n",
        "\n",
        "\n"
      ],
      "metadata": {
        "id": "8TG2qBmNsnLT"
      },
      "execution_count": null,
      "outputs": []
    },
    {
      "cell_type": "code",
      "source": [
        "sum=0\n",
        "for i in range(1,11):\n",
        "    sum=sum+i\n",
        "    print(sum)\n",
        "#i=1, sum=1\n",
        "#i=2, sum=1+2\n"
      ],
      "metadata": {
        "id": "LM-lCl7iszow"
      },
      "execution_count": null,
      "outputs": []
    },
    {
      "cell_type": "code",
      "source": [
        "#while loop\n",
        "\n",
        "syntax:\n",
        "initialization\n",
        "while <condition>:\n",
        "    increment\n",
        "    statement 1\n",
        "    statement 2"
      ],
      "metadata": {
        "id": "N3x-7CdzuU3D"
      },
      "execution_count": null,
      "outputs": []
    },
    {
      "cell_type": "code",
      "source": [
        "s=input(\"enter the passwword\" )"
      ],
      "metadata": {
        "id": "PWKqXrcpul3j"
      },
      "execution_count": null,
      "outputs": []
    },
    {
      "cell_type": "code",
      "source": [
        "while s==\"python\":\n",
        "    print(\"correct password\")\n",
        "    if s==\"Python\":\n",
        "        break\n"
      ],
      "metadata": {
        "id": "vJirAppbuwoi"
      },
      "execution_count": null,
      "outputs": []
    },
    {
      "cell_type": "code",
      "source": [
        "#i++, ++i"
      ],
      "metadata": {
        "id": "BfW5P85MtLNM"
      },
      "execution_count": null,
      "outputs": []
    },
    {
      "cell_type": "code",
      "source": [
        "sum=0\n",
        "while True:\n",
        "    num=int(input(\"enter value: \"))\n",
        "    sum=sum+num #sum+=num\n",
        "    print(sum)\n",
        "    if num ==0:\n",
        "        break\n",
        "    print(\"the final value of sum is:\",sum)"
      ],
      "metadata": {
        "id": "D-MGQVaivKK0"
      },
      "execution_count": null,
      "outputs": []
    },
    {
      "cell_type": "code",
      "source": [
        "sum=0\n",
        "while sum<10:\n",
        "    num=int(input(\"enter value: \")) #2\n",
        "    sum=sum+num #first iteration is 2\n",
        "    print(sum)"
      ],
      "metadata": {
        "id": "UhYC60uxwRLp"
      },
      "execution_count": null,
      "outputs": []
    },
    {
      "cell_type": "code",
      "source": [
        "#exmaple\n",
        "i=0\n",
        "while i<5:\n",
        "    print(i)\n",
        "    i+=1#i=i+1"
      ],
      "metadata": {
        "id": "FE2THRqT7NoH"
      },
      "execution_count": null,
      "outputs": []
    },
    {
      "cell_type": "code",
      "source": [
        "str1=\"python program\""
      ],
      "metadata": {
        "id": "4CZb0sjL8876"
      },
      "execution_count": null,
      "outputs": []
    },
    {
      "cell_type": "code",
      "source": [
        "for i in str1:\n",
        "    #print(i, end=\" \")\n",
        "    if i==\"y\":\n",
        "        break\n",
        "    print(i)\n"
      ],
      "metadata": {
        "id": "AlszM-2X-kR1"
      },
      "execution_count": null,
      "outputs": []
    },
    {
      "cell_type": "code",
      "source": [
        "list2=[1,2,3,\"q\", 5,4]"
      ],
      "metadata": {
        "id": "gLeq7suu-3Fh"
      },
      "execution_count": null,
      "outputs": []
    },
    {
      "cell_type": "code",
      "source": [
        "for j in list2:\n",
        "    if j==2:\n",
        "        continue\n",
        "    print(j)"
      ],
      "metadata": {
        "id": "SpWUXvbJ_Uft"
      },
      "execution_count": null,
      "outputs": []
    },
    {
      "cell_type": "code",
      "source": [
        "for j in list2:\n",
        "    if j==2:\n",
        "        pass\n",
        "    print(j)"
      ],
      "metadata": {
        "id": "AMQHpviQ_YK1"
      },
      "execution_count": null,
      "outputs": []
    },
    {
      "cell_type": "code",
      "source": [
        "#format very method in string\n",
        "d=45"
      ],
      "metadata": {
        "id": "h7ZjsQrlAFby"
      },
      "execution_count": null,
      "outputs": []
    },
    {
      "cell_type": "code",
      "source": [
        "print(f'for only {d: .2f} dollars!')"
      ],
      "metadata": {
        "id": "-GYKxSH-AKiL"
      },
      "execution_count": null,
      "outputs": []
    },
    {
      "cell_type": "code",
      "source": [
        "strin2=\"for only {d: .4f} dollar!\""
      ],
      "metadata": {
        "id": "f9PDpfHEAX-b"
      },
      "execution_count": null,
      "outputs": []
    },
    {
      "cell_type": "code",
      "source": [
        "print(strin2.format(d=45))"
      ],
      "metadata": {
        "id": "GoQQ6vzqA1OK"
      },
      "execution_count": null,
      "outputs": []
    },
    {
      "cell_type": "markdown",
      "source": [
        "#indexing"
      ],
      "metadata": {
        "id": "fZxKKVz5Dw21"
      }
    },
    {
      "cell_type": "code",
      "source": [
        "str3=\"python programming\""
      ],
      "metadata": {
        "id": "LAMuDT31A89E"
      },
      "execution_count": null,
      "outputs": []
    },
    {
      "cell_type": "code",
      "source": [
        "#[] which means to access all elements in side string, list, tuple and so on"
      ],
      "metadata": {
        "id": "MLvF4-IxCZPF"
      },
      "execution_count": null,
      "outputs": []
    },
    {
      "cell_type": "code",
      "source": [
        "len(str3)"
      ],
      "metadata": {
        "id": "ivkL6rBOConA"
      },
      "execution_count": null,
      "outputs": []
    },
    {
      "cell_type": "code",
      "source": [
        "str3[19]"
      ],
      "metadata": {
        "id": "uNWSfRnZC1wc"
      },
      "execution_count": null,
      "outputs": []
    },
    {
      "cell_type": "code",
      "source": [
        "str3[-3]"
      ],
      "metadata": {
        "id": "OlYtGGOjC-Ih"
      },
      "execution_count": null,
      "outputs": []
    },
    {
      "cell_type": "code",
      "source": [
        "str3[-7]"
      ],
      "metadata": {
        "id": "4jBLMR_fDpt6"
      },
      "execution_count": null,
      "outputs": []
    },
    {
      "cell_type": "markdown",
      "source": [
        "#slicing\n",
        "#str3[start:end:step]"
      ],
      "metadata": {
        "id": "ygLQXEDsEHod"
      }
    },
    {
      "cell_type": "code",
      "source": [
        "str3[3:11]"
      ],
      "metadata": {
        "id": "XECmkQSuELrW"
      },
      "execution_count": null,
      "outputs": []
    },
    {
      "cell_type": "code",
      "source": [
        "str3[3:11:2]"
      ],
      "metadata": {
        "id": "SYEDkWSkEfJf"
      },
      "execution_count": null,
      "outputs": []
    },
    {
      "cell_type": "code",
      "source": [
        "str3[1:]"
      ],
      "metadata": {
        "id": "NCep0DpEE-7R"
      },
      "execution_count": null,
      "outputs": []
    },
    {
      "cell_type": "code",
      "source": [
        "str3[::] #same as str3"
      ],
      "metadata": {
        "id": "Iv7rJbiSFJEn"
      },
      "execution_count": null,
      "outputs": []
    },
    {
      "cell_type": "code",
      "source": [
        "str3[::2]"
      ],
      "metadata": {
        "id": "jlQ_x5hmFOcO"
      },
      "execution_count": null,
      "outputs": []
    },
    {
      "cell_type": "code",
      "source": [
        "str3[-12:] #sames as"
      ],
      "metadata": {
        "id": "9t4t14NkFeUH"
      },
      "execution_count": null,
      "outputs": []
    },
    {
      "cell_type": "code",
      "source": [
        "str3[6::]"
      ],
      "metadata": {
        "id": "6pbEg0ngFuJt"
      },
      "execution_count": null,
      "outputs": []
    },
    {
      "cell_type": "code",
      "source": [
        "str3[-12:-1]"
      ],
      "metadata": {
        "id": "eLL4TqGHGAN9"
      },
      "execution_count": null,
      "outputs": []
    },
    {
      "cell_type": "code",
      "source": [
        "str3[::-1] #same as str3[0::-1]"
      ],
      "metadata": {
        "id": "yisI3OmgGXkr"
      },
      "execution_count": null,
      "outputs": []
    },
    {
      "cell_type": "code",
      "source": [],
      "metadata": {
        "id": "0T1OjYyOIUzh"
      },
      "execution_count": null,
      "outputs": []
    },
    {
      "cell_type": "code",
      "source": [
        "list3=[1,2,3,'ganesh','radha']"
      ],
      "metadata": {
        "id": "OljB2jCpHOQy"
      },
      "execution_count": null,
      "outputs": []
    },
    {
      "cell_type": "code",
      "source": [
        "list3[0]"
      ],
      "metadata": {
        "id": "OtmcsLZTHfs8"
      },
      "execution_count": null,
      "outputs": []
    },
    {
      "cell_type": "code",
      "source": [
        "list3[3][2]"
      ],
      "metadata": {
        "id": "miGjS_iKHiPX"
      },
      "execution_count": null,
      "outputs": []
    },
    {
      "cell_type": "code",
      "source": [
        "list3[4][2]"
      ],
      "metadata": {
        "id": "6b2-zM68HlY1"
      },
      "execution_count": null,
      "outputs": []
    },
    {
      "cell_type": "code",
      "source": [
        "list3[-1:-3:]"
      ],
      "metadata": {
        "id": "5FGL-vi3IZVm"
      },
      "execution_count": null,
      "outputs": []
    },
    {
      "cell_type": "code",
      "source": [
        "list3[3][4]"
      ],
      "metadata": {
        "id": "sZ3BEQodJHPm"
      },
      "execution_count": null,
      "outputs": []
    },
    {
      "cell_type": "code",
      "source": [
        "list3[1:]"
      ],
      "metadata": {
        "id": "1fEZJvdCID3x"
      },
      "execution_count": null,
      "outputs": []
    },
    {
      "cell_type": "code",
      "source": [
        "#boolean methods"
      ],
      "metadata": {
        "id": "CYTn7n1BIIEP"
      },
      "execution_count": null,
      "outputs": []
    },
    {
      "cell_type": "code",
      "source": [
        "lis4=[\"a.txt\",\"b.txt\",\"c.pdf\",\"d.pdf\"]"
      ],
      "metadata": {
        "id": "KtiK2D3HKDe3"
      },
      "execution_count": null,
      "outputs": []
    },
    {
      "cell_type": "code",
      "source": [
        "lis4"
      ],
      "metadata": {
        "id": "c2jcdRcYKPUr"
      },
      "execution_count": null,
      "outputs": []
    },
    {
      "cell_type": "code",
      "source": [
        "for i in lis4:\n",
        "    print(i)"
      ],
      "metadata": {
        "id": "PnKj7eXsKQJv"
      },
      "execution_count": null,
      "outputs": []
    },
    {
      "cell_type": "code",
      "source": [
        "for i in lis4:\n",
        "    if i.endswith(\"pdf\"):\n",
        "        print(i)\n"
      ],
      "metadata": {
        "id": "nJu5mLegKUR8"
      },
      "execution_count": null,
      "outputs": []
    },
    {
      "cell_type": "code",
      "source": [
        "\"hello\".startswith(\"h\")"
      ],
      "metadata": {
        "id": "jJ66Ki9aKz4Q"
      },
      "execution_count": null,
      "outputs": []
    },
    {
      "cell_type": "code",
      "source": [
        "lis4"
      ],
      "metadata": {
        "id": "lVNqmJx8LGd7"
      },
      "execution_count": null,
      "outputs": []
    },
    {
      "cell_type": "code",
      "source": [
        "\"123\".isdigit()"
      ],
      "metadata": {
        "id": "Ybp3d4AaLMqk"
      },
      "execution_count": null,
      "outputs": []
    },
    {
      "cell_type": "code",
      "source": [
        "a=input(\"enter the value: \")\n",
        "if a.isalnum():\n",
        "    a=eval(a)\n",
        "    print(a,type(a))\n",
        "else:\n",
        "    print(\"it is string\")"
      ],
      "metadata": {
        "id": "HWskxM8LLSIJ"
      },
      "execution_count": null,
      "outputs": []
    },
    {
      "cell_type": "code",
      "source": [
        "eval(\"56\")"
      ],
      "metadata": {
        "id": "g7YuGUgOLahI"
      },
      "execution_count": null,
      "outputs": []
    },
    {
      "cell_type": "code",
      "source": [
        "\"g123\".isalnum()"
      ],
      "metadata": {
        "id": "gJ_9QmpJL4SN"
      },
      "execution_count": null,
      "outputs": []
    },
    {
      "cell_type": "code",
      "source": [
        "string function\n",
        "len()\n",
        "min()\n",
        "max()"
      ],
      "metadata": {
        "id": "P0grrvbROA7K"
      },
      "execution_count": null,
      "outputs": []
    },
    {
      "cell_type": "code",
      "source": [
        "str2=\"python\""
      ],
      "metadata": {
        "id": "qgtabJBbPZ32"
      },
      "execution_count": null,
      "outputs": []
    },
    {
      "cell_type": "code",
      "source": [
        "max(str2)"
      ],
      "metadata": {
        "id": "HiuNqv7fPbp8"
      },
      "execution_count": null,
      "outputs": []
    },
    {
      "cell_type": "code",
      "source": [
        "min(str2)"
      ],
      "metadata": {
        "id": "dM77RP2iPjcR"
      },
      "execution_count": null,
      "outputs": []
    },
    {
      "cell_type": "code",
      "source": [
        "ord(\"y\")"
      ],
      "metadata": {
        "id": "iZkcTou8P63f"
      },
      "execution_count": null,
      "outputs": []
    },
    {
      "cell_type": "code",
      "source": [
        "for i in str2:\n",
        "    print(i,\"---->\",ord(i))"
      ],
      "metadata": {
        "id": "q8SEHHy-P-iv"
      },
      "execution_count": null,
      "outputs": []
    },
    {
      "cell_type": "code",
      "source": [
        "min(\"hello#\")"
      ],
      "metadata": {
        "id": "n7dq_ExQQqPi"
      },
      "execution_count": null,
      "outputs": []
    },
    {
      "cell_type": "code",
      "source": [
        "#tuple methods"
      ],
      "metadata": {
        "id": "EEJqx0VWQ1D3"
      },
      "execution_count": null,
      "outputs": []
    },
    {
      "cell_type": "markdown",
      "source": [
        "#Today assessment\n",
        "1. list1= [1,2,3,4,5,6] print all even numbers from list?\n",
        "2. list2 =[2,5,3,2,32,4,454,9] sorted elements?\n",
        "3. list1= [1,2,3,4,5,6] print all odd numbers from list?\n",
        "4. take user input list using for loop print all elements startswith \"a\"?\n",
        "5. using while loop sum of all elements inside list?\n",
        "\n"
      ],
      "metadata": {
        "id": "6mz8QoAlU0_5"
      }
    }
  ]
}