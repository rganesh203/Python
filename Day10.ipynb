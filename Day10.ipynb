{
  "nbformat": 4,
  "nbformat_minor": 0,
  "metadata": {
    "colab": {
      "private_outputs": true,
      "provenance": [],
      "authorship_tag": "ABX9TyMo1NVImlWbaBrkQa8UlXAc",
      "include_colab_link": true
    },
    "kernelspec": {
      "name": "python3",
      "display_name": "Python 3"
    },
    "language_info": {
      "name": "python"
    }
  },
  "cells": [
    {
      "cell_type": "markdown",
      "metadata": {
        "id": "view-in-github",
        "colab_type": "text"
      },
      "source": [
        "<a href=\"https://colab.research.google.com/github/rganesh203/Python-Core-Fundamentals/blob/main/Day10.ipynb\" target=\"_parent\"><img src=\"https://colab.research.google.com/assets/colab-badge.svg\" alt=\"Open In Colab\"/></a>"
      ]
    },
    {
      "cell_type": "code",
      "source": [
        "class Add:\n",
        "    pass\n",
        "obj1=Add()"
      ],
      "metadata": {
        "id": "5Gg_frdwAXqk"
      },
      "execution_count": null,
      "outputs": []
    },
    {
      "cell_type": "code",
      "source": [
        "def fun():\n",
        "    pass"
      ],
      "metadata": {
        "id": "bRb_XPcEA7kb"
      },
      "execution_count": null,
      "outputs": []
    },
    {
      "cell_type": "code",
      "source": [
        "class car:\n",
        "    def __init__(self,a,b):\n",
        "        self.a=a\n",
        "        self.b=b\n",
        "    def sum(self):\n",
        "        print(self.a+self.b)\n",
        "obj1=car(2,3)\n",
        "obj2=car(5,6)\n",
        "obj1.sum()\n",
        "obj2.sum()\n"
      ],
      "metadata": {
        "id": "q7J1DE1cBEPT"
      },
      "execution_count": null,
      "outputs": []
    },
    {
      "cell_type": "code",
      "source": [
        "class Car:\n",
        "    wheels = 4\n",
        "    lights = 2\n",
        "print(Car.wheels)\n",
        "print(Car.lights)\n",
        "wheels = 5"
      ],
      "metadata": {
        "id": "jpMwpFExBmkA"
      },
      "execution_count": null,
      "outputs": []
    },
    {
      "cell_type": "code",
      "source": [
        "class Car:\n",
        "    wheels = 4\n",
        "    lights = 2\n",
        "obj1=Car\n",
        "obj1.wheels = 5\n",
        "print(Car.wheels)\n",
        "print(Car.lights)"
      ],
      "metadata": {
        "id": "kWbGSp6lDZLQ"
      },
      "execution_count": null,
      "outputs": []
    },
    {
      "cell_type": "code",
      "source": [
        "#in order to update the value with this object is not updated\n",
        "#but we can update the value with in class"
      ],
      "metadata": {
        "id": "yngxFdloD8pa"
      },
      "execution_count": null,
      "outputs": []
    },
    {
      "cell_type": "code",
      "source": [
        "#i want compare two values?"
      ],
      "metadata": {
        "id": "mCzgzaM7ExLI"
      },
      "execution_count": null,
      "outputs": []
    },
    {
      "cell_type": "code",
      "source": [
        "a=2\n",
        "b=3\n",
        "a.compare(b)"
      ],
      "metadata": {
        "id": "8Vgls4e_E3m0"
      },
      "execution_count": null,
      "outputs": []
    },
    {
      "cell_type": "code",
      "source": [
        "class College:\n",
        "    def __init__(self):\n",
        "        self.name=\"ganesh\"\n",
        "        self.age=35 #age is varibale assign to 35\n",
        "    def compare(self,other): #method and function both are same\n",
        "        if self.age==other.age:\n",
        "            return True\n",
        "        else:\n",
        "            return False\n",
        "obj1=College()\n",
        "obj1.age=30 #outsde class\n",
        "obj2=College()\n",
        "if obj1.compare(obj2):\n",
        "    print(\"they are same\")\n",
        "else:\n",
        "    print(\"they are not same\")\n",
        "print(obj1.name)"
      ],
      "metadata": {
        "id": "FtPaOUXsFNZU"
      },
      "execution_count": null,
      "outputs": []
    },
    {
      "cell_type": "code",
      "source": [
        "#dunder methods (or) magic methods\n",
        "dir(object)"
      ],
      "metadata": {
        "id": "qwsRK016GROs"
      },
      "execution_count": null,
      "outputs": []
    },
    {
      "cell_type": "code",
      "source": [
        "class College:\n",
        "    def __init__(self):\n",
        "        self.name=\"ganesh\"\n",
        "        self.age=35 #age is varibale assign to 35\n",
        "    def compare(self,other): #method and function both are same\n",
        "        if self.age==other.age:\n",
        "            return True\n",
        "        else:\n",
        "            return False\n",
        "obj1=College()\n",
        "obj1.age=30 #outsde class\n",
        "obj2=College()\n",
        "if obj1.compare(obj2):\n",
        "    print(\"they are same\")\n",
        "else:\n",
        "    print(\"they are not same\")\n",
        "print(obj1.name)"
      ],
      "metadata": {
        "id": "SAeRQqCIGTk3"
      },
      "execution_count": null,
      "outputs": []
    },
    {
      "cell_type": "code",
      "source": [
        "#variables:\n",
        "1. instance varibale\n",
        "    #bound an object\n",
        "    #it is always declared with __init__\n",
        "    #not shared by any object every object copy\n",
        "2. class (static) variable\n"
      ],
      "metadata": {
        "id": "3L3reTkuLxo5"
      },
      "execution_count": null,
      "outputs": []
    },
    {
      "cell_type": "code",
      "source": [
        "class Car:\n",
        "    wheel =4# class or static varible\n",
        "\n",
        "\n",
        "\n",
        "    def __init__(self,music,fuel):\n",
        "        self.music=music\n",
        "        self.fuel=fuel # instnce varible\n",
        "    def car2(self):\n",
        "        print(Car.wheel)\n",
        "obj1=Car(\"id\",\"petrol\")\n",
        "obj1.car2()\n",
        "Car.wheel=5"
      ],
      "metadata": {
        "id": "PBHf3CBML9o5"
      },
      "execution_count": null,
      "outputs": []
    },
    {
      "cell_type": "code",
      "source": [
        "#methods (or) bahaviour\n",
        "1. class method\n",
        "    # bound to the class\n",
        "    # it can modify a class state.\n",
        "    # can access only class variables.\n",
        "    # used to create factoty methods\n",
        "2. instance method\n",
        "    #bound of the object of a class\n",
        "    #it can be modify object\n",
        "    #can access and modify both class and instance variable\n",
        "3. static method\n",
        "    #Bound to the class\n",
        "    #it cant modify  a class and object\n",
        "    #cant access or modify the class and instnace varibales\n"
      ],
      "metadata": {
        "id": "ySnKEYU2NMCP"
      },
      "execution_count": null,
      "outputs": []
    },
    {
      "cell_type": "code",
      "source": [
        "class Student:\n",
        "    college= \"ganesh\" #class varible\n",
        "    def __init__(self,m1,m2):\n",
        "        self.m1=m1\n",
        "        self.m2=m2\n",
        "    def avg(self):\n",
        "        return (self.m1+self.m2)/2\n",
        "    @classmethod\n",
        "    def info(cls):\n",
        "        return cls.college\n",
        "    @staticmethod\n",
        "    def info():\n",
        "        print(\"this is class method\")\n",
        "obj1=Student(40,20)\n",
        "obj2=Student(50,20)\n",
        "print(obj1.avg())\n",
        "print(obj2.avg())\n",
        "#print(Student.info())"
      ],
      "metadata": {
        "id": "g_Ta2EAVP7Rk"
      },
      "execution_count": null,
      "outputs": []
    },
    {
      "cell_type": "code",
      "source": [
        "class Student:\n",
        "    college= \"ganesh\" #class varible\n",
        "    def __init__(self,m1,m2):\n",
        "        self.m1=m1\n",
        "        self.m2=m2\n",
        "    def avg(self):\n",
        "        return (self.m1+self.m2)/2\n",
        "    @classmethod\n",
        "    def info(cls,new_cls):\n",
        "        cls.college=new_cls\n",
        "        return cls.college\n",
        "    def set1(self,new):\n",
        "        self.m1=new\n",
        "        return new\n",
        "print(Student.college)\n",
        "Student.info('new_value')\n",
        "obj1=Student(6,3)\n",
        "obj1.avg()"
      ],
      "metadata": {
        "id": "N8lz_f9dRTnM"
      },
      "execution_count": null,
      "outputs": []
    },
    {
      "cell_type": "code",
      "source": [
        "class MyClass:\n",
        "    class_variable = 10\n",
        "\n",
        "    @classmethod\n",
        "    def change_class_variable(cls, new_value):\n",
        "        cls.class_variable = new_value\n",
        "\n",
        "# Before changing the class variable\n",
        "print(MyClass.class_variable)  # Output: 10\n",
        "\n",
        "# Change the class variable using the class method\n",
        "MyClass.change_class_variable(20)\n",
        "\n",
        "# After changing the class variable\n",
        "print(MyClass.class_variable)  # Output: 20\n"
      ],
      "metadata": {
        "id": "4WTVkXR0Z3wL"
      },
      "execution_count": null,
      "outputs": []
    },
    {
      "cell_type": "code",
      "source": [
        "class MyClass:\n",
        "    class_variable = 10  # This is a class variable\n",
        "\n",
        "    def __init__(self):\n",
        "        self.instance_variable = 5  # This is an instance variable\n",
        "\n",
        "    def change_class_variable(self, new_value):\n",
        "        MyClass.class_variable = new_value  # Change the class variable through the instance\n",
        "\n",
        "# Create an instance of MyClass\n",
        "obj = MyClass()\n",
        "\n",
        "# Access the class variable and instance variable\n",
        "print(\"Class variable:\", MyClass.class_variable)\n",
        "print(\"Instance variable:\", obj.instance_variable)\n",
        "\n",
        "# Change the class variable using the instance method\n",
        "obj.change_class_variable(20)\n",
        "\n",
        "# Access the class variable and instance variable again\n",
        "print(\"Updated class variable:\", MyClass.class_variable)\n",
        "print(\"Instance variable:\", obj.instance_variable)\n"
      ],
      "metadata": {
        "id": "njGnDKx1aFGT"
      },
      "execution_count": null,
      "outputs": []
    },
    {
      "cell_type": "code",
      "source": [
        "class MyClass:\n",
        "    class_variable = 0\n",
        "\n",
        "    def __init__(self, instance_variable):\n",
        "        self.instance_variable = instance_variable\n",
        "\n",
        "    def modify_instance_variable(self, new_value):\n",
        "        self.instance_variable = new_value\n",
        "\n",
        "    def modify_class_variable(self, new_value):\n",
        "        MyClass.class_variable = new_value\n",
        "\n",
        "# Create an instance of MyClass\n",
        "obj = MyClass(10)\n",
        "\n",
        "# Access and modify the instance variable\n",
        "print(obj.instance_variable)  # Output: 10\n",
        "obj.modify_instance_variable(20)\n",
        "print(obj.instance_variable)  # Output: 20\n",
        "\n",
        "# Access and modify the class variable\n",
        "print(MyClass.class_variable)  # Output: 0\n",
        "obj.modify_class_variable(30)\n",
        "print(MyClass.class_variable)  # Output: 30\n"
      ],
      "metadata": {
        "id": "IJVxFmxyaavk"
      },
      "execution_count": null,
      "outputs": []
    },
    {
      "cell_type": "code",
      "source": [
        "class MyClass:\n",
        "    class_var = 0  # Class variable\n",
        "\n",
        "    def __init__(self, instance_var):\n",
        "        self.instance_var = instance_var  # Instance variable\n",
        "\n",
        "    @staticmethod\n",
        "    def change_instance_var(obj, new_value):\n",
        "        obj.instance_var = new_value\n",
        "\n",
        "    @staticmethod\n",
        "    def change_class_var(new_value):\n",
        "        MyClass.class_var = new_value\n",
        "\n",
        "# Create an instance of MyClass\n",
        "obj1 = MyClass(42)\n",
        "\n",
        "# Access and print the instance variable and class variable\n",
        "print(\"Initial instance_var:\", obj1.instance_var)\n",
        "print(\"Initial class_var:\", MyClass.class_var)\n",
        "\n",
        "# Change instance_var using the static method\n",
        "MyClass.change_instance_var(obj1, 100)\n",
        "\n",
        "# Change class_var using the static method\n",
        "MyClass.change_class_var(200)\n",
        "\n",
        "# Access and print the updated instance variable and class variable\n",
        "print(\"Updated instance_var:\", obj1.instance_var)\n",
        "print(\"Updated class_var:\", MyClass.class_var)\n"
      ],
      "metadata": {
        "id": "-OMxHJ4ed5qz"
      },
      "execution_count": null,
      "outputs": []
    },
    {
      "cell_type": "code",
      "source": [],
      "metadata": {
        "id": "mDSrMkcfd5xk"
      },
      "execution_count": null,
      "outputs": []
    }
  ]
}