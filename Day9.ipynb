{
  "nbformat": 4,
  "nbformat_minor": 0,
  "metadata": {
    "colab": {
      "private_outputs": true,
      "provenance": [],
      "authorship_tag": "ABX9TyP9oFvKbpHfxGeiWwpLKuLz",
      "include_colab_link": true
    },
    "kernelspec": {
      "name": "python3",
      "display_name": "Python 3"
    },
    "language_info": {
      "name": "python"
    }
  },
  "cells": [
    {
      "cell_type": "markdown",
      "metadata": {
        "id": "view-in-github",
        "colab_type": "text"
      },
      "source": [
        "<a href=\"https://colab.research.google.com/github/rganesh203/Python-Core-Fundamentals/blob/main/Day9.ipynb\" target=\"_parent\"><img src=\"https://colab.research.google.com/assets/colab-badge.svg\" alt=\"Open In Colab\"/></a>"
      ]
    },
    {
      "cell_type": "code",
      "execution_count": null,
      "metadata": {
        "id": "KYFUFIDbkBm8"
      },
      "outputs": [],
      "source": [
        "#function"
      ]
    },
    {
      "cell_type": "markdown",
      "source": [
        "#local varibales\n",
        "#global varibales"
      ],
      "metadata": {
        "id": "2QpYcfN20N43"
      }
    },
    {
      "cell_type": "code",
      "source": [
        "def fun(a):\n",
        "    print(a,id(a))\n",
        "    a=a+10\n",
        "    print(\"inside after\", a, id(a))\n",
        "a=20\n",
        "fun(a)#calling function\n",
        "print(\"after\", a, id(a))"
      ],
      "metadata": {
        "id": "wFdROI8u0R0N"
      },
      "execution_count": null,
      "outputs": []
    },
    {
      "cell_type": "code",
      "source": [
        "k=20# global vaiable\n",
        "def fun():#we are passing any parameter\n",
        "    k=k+10\n",
        "    print(k)\n",
        "fun()"
      ],
      "metadata": {
        "id": "786p2aPN14uW"
      },
      "execution_count": null,
      "outputs": []
    },
    {
      "cell_type": "code",
      "source": [
        "#k=20# global vaiable\n",
        "def fun():#we are passing any parameter\n",
        "    global k # k is now changing global\n",
        "    k=k+10\n",
        "    print(k)\n",
        "k=10\n",
        "fun()\n",
        "print(\"after calling\",k)"
      ],
      "metadata": {
        "id": "j4rQOp6o2mVc"
      },
      "execution_count": null,
      "outputs": []
    },
    {
      "cell_type": "code",
      "source": [
        "def fun():#we are passing any parameter\n",
        "    global k # k is now changing global\n",
        "    k=k+10\n",
        "    print(k, id(k))\n",
        "k=10\n",
        "fun()\n",
        "print(\"after calling\",k, id(k))"
      ],
      "metadata": {
        "id": "dq8MyYGP3BYN"
      },
      "execution_count": null,
      "outputs": []
    },
    {
      "cell_type": "code",
      "source": [
        "k=10\n",
        "def fun():\n",
        "    global k\n",
        "    k=20\n",
        "    print(k)\n",
        "k=10\n",
        "fun()\n",
        "print(\"aftere calling\",k)"
      ],
      "metadata": {
        "id": "g_6osg6Y3mlc"
      },
      "execution_count": null,
      "outputs": []
    },
    {
      "cell_type": "markdown",
      "source": [
        "#namespace and variable scope\n",
        "#LEGB rule"
      ],
      "metadata": {
        "id": "y7XUMVpC5vAA"
      }
    },
    {
      "cell_type": "code",
      "source": [
        "a=20 #variable and object"
      ],
      "metadata": {
        "id": "qcNHeqx853p9"
      },
      "execution_count": null,
      "outputs": []
    },
    {
      "cell_type": "code",
      "source": [
        "b=30"
      ],
      "metadata": {
        "id": "jgikWb4-58st"
      },
      "execution_count": null,
      "outputs": []
    },
    {
      "cell_type": "code",
      "source": [
        "c=30"
      ],
      "metadata": {
        "id": "9E_aujtH5-nJ"
      },
      "execution_count": null,
      "outputs": []
    },
    {
      "cell_type": "code",
      "source": [
        "#first.py\n",
        "def function():\n",
        "    print(\"hi\")"
      ],
      "metadata": {
        "id": "TmuCihcp6LSo"
      },
      "execution_count": null,
      "outputs": []
    },
    {
      "cell_type": "code",
      "source": [
        "def function():\n",
        "    print(\"hello\")"
      ],
      "metadata": {
        "id": "4ag9mEOU7nHF"
      },
      "execution_count": null,
      "outputs": []
    },
    {
      "cell_type": "code",
      "source": [
        "#module a simple .py"
      ],
      "metadata": {
        "id": "-xa4qOLj7D15"
      },
      "execution_count": null,
      "outputs": []
    },
    {
      "cell_type": "code",
      "source": [
        "import first\n",
        "import second"
      ],
      "metadata": {
        "id": "yPzyBb7G7AXm"
      },
      "execution_count": null,
      "outputs": []
    },
    {
      "cell_type": "code",
      "source": [
        "first.function()"
      ],
      "metadata": {
        "id": "yholOSNr7PdZ"
      },
      "execution_count": null,
      "outputs": []
    },
    {
      "cell_type": "code",
      "source": [
        "second.function()"
      ],
      "metadata": {
        "id": "BnuawF_r7Sss"
      },
      "execution_count": null,
      "outputs": []
    },
    {
      "cell_type": "markdown",
      "source": [
        "#variable scope"
      ],
      "metadata": {
        "id": "11f-jVFh76rl"
      }
    },
    {
      "cell_type": "code",
      "source": [
        "#local scope\n",
        "def s():\n",
        "    a=10 #local scope\n",
        "s()"
      ],
      "metadata": {
        "id": "QzHP-hkD79Ba"
      },
      "execution_count": null,
      "outputs": []
    },
    {
      "cell_type": "code",
      "source": [
        "#global scope\n",
        "a=15 #global scope\n",
        "def e():\n",
        "    a=10\n",
        "e()\n",
        "print(a)\n"
      ],
      "metadata": {
        "id": "kJuCkZUw8GuD"
      },
      "execution_count": null,
      "outputs": []
    },
    {
      "cell_type": "markdown",
      "source": [
        "#L it contains names defined inside the current function\n",
        "#E it contain name defined at any and all enclosed function\n",
        "#G it contain name sdefined at the top level of the scripting module\n",
        "#B it contain name defined python intepreter."
      ],
      "metadata": {
        "id": "Wk8Dt3429Ywn"
      }
    },
    {
      "cell_type": "code",
      "source": [
        "#enclosed scope\n",
        "t=80#global scope\n",
        "def f():\n",
        "    t=20#enclosed\n",
        "    def fun():\n",
        "        nonlocal t #nonlocal\n",
        "        t=10\n",
        "        def f1():\n",
        "            t=1#local\n",
        "            print(t)\n",
        "        f1()\n",
        "        print(t)\n",
        "    fun()\n",
        "    print(t)\n",
        "f()\n",
        "print(t)"
      ],
      "metadata": {
        "id": "k16U4Tq88ZS7"
      },
      "execution_count": null,
      "outputs": []
    },
    {
      "cell_type": "code",
      "source": [
        "#global\n",
        "x=\"ganesh\"\n",
        "def myfunc1():\n",
        "    global x\n",
        "    x = \"John\"\n",
        "    def myfunc2():\n",
        "        x = \"hello\"\n",
        "    myfunc2()\n",
        "    print(x)\n",
        "print(x)\n"
      ],
      "metadata": {
        "id": "3bwv8ovkCL3H"
      },
      "execution_count": null,
      "outputs": []
    },
    {
      "cell_type": "code",
      "source": [],
      "metadata": {
        "id": "oSF7rSc8Gotl"
      },
      "execution_count": null,
      "outputs": []
    },
    {
      "cell_type": "code",
      "source": [
        "def inner():\n",
        "    x=4 #local scope of variable\n",
        "    print(x)\n",
        "inner()"
      ],
      "metadata": {
        "id": "q5LonPK09uax"
      },
      "execution_count": null,
      "outputs": []
    },
    {
      "cell_type": "code",
      "source": [
        "#x=5\n",
        "def inner():\n",
        "    x=4 #local scope of variable\n",
        "    print(x)\n",
        "inner()\n",
        "print(x)"
      ],
      "metadata": {
        "id": "emg5b27c_Vis"
      },
      "execution_count": null,
      "outputs": []
    },
    {
      "cell_type": "code",
      "source": [
        "#x=5\n",
        "def inner():\n",
        "    w=4 #local scope of variable\n",
        "    print(w)\n",
        "inner()\n",
        "print(w)"
      ],
      "metadata": {
        "id": "o3hvcNDR_50g"
      },
      "execution_count": null,
      "outputs": []
    },
    {
      "cell_type": "code",
      "source": [
        "y=10\n",
        "def inner():\n",
        "    x=4\n",
        "    y=5\n",
        "    print(\"x\",x)\n",
        "    print(\"inside the function y\",y)\n",
        "print(\"y\",y)\n",
        "inner()\n"
      ],
      "metadata": {
        "id": "kH2fayQ0GpZv"
      },
      "execution_count": null,
      "outputs": []
    },
    {
      "cell_type": "code",
      "source": [
        "y=10\n",
        "def inner():\n",
        "    x=4\n",
        "    #global y\n",
        "    y=y+1\n",
        "    print(\"x\",x)\n",
        "    print(\"inside the function y\",y)\n",
        "print(\"y\",y)\n",
        "inner()"
      ],
      "metadata": {
        "id": "7bsIRm4WHHWt"
      },
      "execution_count": null,
      "outputs": []
    },
    {
      "cell_type": "code",
      "source": [
        "y=10\n",
        "def inner():\n",
        "    x=4\n",
        "    global y\n",
        "    y=y+1\n",
        "    print(\"x:\",x)\n",
        "    print(\"inside the function y:\",y)\n",
        "print(\"y:\",y)\n",
        "inner()"
      ],
      "metadata": {
        "id": "6XYHVseRHeMP"
      },
      "execution_count": null,
      "outputs": []
    },
    {
      "cell_type": "code",
      "source": [
        "y=10\n",
        "def inner():\n",
        "    x=4\n",
        "    global y\n",
        "    y=y+1\n",
        "    print(\"x:\",x)\n",
        "    print(\"inside the function y:\",y)\n",
        "inner()\n",
        "print(\"y:\",y)\n"
      ],
      "metadata": {
        "id": "3B_hZPAhH4jM"
      },
      "execution_count": null,
      "outputs": []
    },
    {
      "cell_type": "code",
      "source": [
        "v=10 #global scope\n",
        "def outer():\n",
        "    z=4#enclosed scope\n",
        "    def inner():#nested function\n",
        "        k=4#local scope\n",
        "        print(\"k\",k)\n",
        "        print(\"inside the function v:\", v)\n",
        "    inner()\n",
        "    print(\"z\",z)\n",
        "outer()"
      ],
      "metadata": {
        "id": "gtu0pVZ6IWEx"
      },
      "execution_count": null,
      "outputs": []
    },
    {
      "cell_type": "code",
      "source": [
        "v=10 #global scope\n",
        "def outer():\n",
        "    z=4#enclosed scope\n",
        "    def inner():#nested function\n",
        "        k=4#local scope\n",
        "        nonlocal z\n",
        "        z=z+1\n",
        "        print(\"x\",x)\n",
        "        print(\"inside the function v:\", v)\n",
        "    inner()\n",
        "    print(\"z\",z)\n",
        "outer()"
      ],
      "metadata": {
        "id": "46BbSnZpJS5I"
      },
      "execution_count": null,
      "outputs": []
    },
    {
      "cell_type": "code",
      "source": [
        "def fun():\n",
        "    g=10#enclosed\n",
        "    def inner():\n",
        "        #g=15#local\n",
        "        print(\"g:\",g)\n",
        "    inner()\n",
        "fun()\n"
      ],
      "metadata": {
        "id": "5SEyXmgyLo0-"
      },
      "execution_count": null,
      "outputs": []
    },
    {
      "cell_type": "code",
      "source": [
        "#exception handling"
      ],
      "metadata": {
        "id": "HkxBS4fDMUzM"
      },
      "execution_count": null,
      "outputs": []
    },
    {
      "cell_type": "code",
      "source": [
        "a=int(input(\"enter the number: \"))\n",
        "d=100\n",
        "c=d/a\n",
        "print(\"c\",c)"
      ],
      "metadata": {
        "id": "NxnxbYFhQDp-"
      },
      "execution_count": null,
      "outputs": []
    },
    {
      "cell_type": "code",
      "source": [
        "try:\n",
        "    a=int(input(\"enter the number: \"))\n",
        "    d=100\n",
        "    c=d/a\n",
        "    print(\"c:\",c)\n",
        "except:\n",
        "    print(\"error\")\n",
        "print(\"done\")"
      ],
      "metadata": {
        "id": "GI30kgD8QOY7"
      },
      "execution_count": null,
      "outputs": []
    },
    {
      "cell_type": "code",
      "source": [
        "try:\n",
        "    a=int(input(\"enter the number: \"))\n",
        "    d=100\n",
        "    c=d/a\n",
        "    print(\"c:\",c)\n",
        "except ValueError:\n",
        "    print(\"please use int only\")\n",
        "except ZeroDivisionError:\n",
        "    print(\"dont use zero as an input value\")\n",
        "print(\"done\")"
      ],
      "metadata": {
        "id": "41hsxcxHRXjQ"
      },
      "execution_count": null,
      "outputs": []
    },
    {
      "cell_type": "code",
      "source": [
        "try:\n",
        "    u=int(input(\"enter the number: \"))\n",
        "    i=100\n",
        "    o=i/u\n",
        "    print(\"o:\",o)\n",
        "except Exception:\n",
        "    print(Exception)\n",
        "print(\"done\")"
      ],
      "metadata": {
        "id": "quSI_dCmSDwY"
      },
      "execution_count": null,
      "outputs": []
    },
    {
      "cell_type": "code",
      "source": [
        "try:\n",
        "    u=int(input(\"enter the number: \"))\n",
        "    i=100\n",
        "    o=i/u\n",
        "    print(\"o:\",o)\n",
        "except Exception as e:\n",
        "    print(e)\n",
        "else:\n",
        "    print(\"everything is correct\")\n",
        "print(\"done\")"
      ],
      "metadata": {
        "id": "rIXmpGNrTCmW"
      },
      "execution_count": null,
      "outputs": []
    },
    {
      "cell_type": "code",
      "source": [
        "try# statement\n",
        "except:# error hnadling\n",
        "else: #if is no error this statemnt execute it optional\n",
        "finally: #it always execute"
      ],
      "metadata": {
        "id": "sMvVka3vUGGc"
      },
      "execution_count": null,
      "outputs": []
    },
    {
      "cell_type": "code",
      "source": [
        "try:\n",
        "    u=int(input(\"enter the number: \"))\n",
        "    i=100\n",
        "    o=i/u\n",
        "    print(\"o:\",o)\n",
        "except Exception as e:\n",
        "    print(e)\n",
        "else:\n",
        "    print(\"everything is correct\")\n",
        "finally:\n",
        "    print(\"done\")"
      ],
      "metadata": {
        "id": "-oIyJSTIUiBh"
      },
      "execution_count": null,
      "outputs": []
    },
    {
      "cell_type": "code",
      "source": [
        "try:\n",
        "    u=int(input(\"enter the number: \"))\n",
        "    i=100\n",
        "    o=i/u\n",
        "    print(\"o:\",o)\n",
        "except Exception as e:\n",
        "    print(e)\n",
        "else:\n",
        "    print(\"everything is correct\")\n",
        "finally:\n",
        "    print(\"done\")"
      ],
      "metadata": {
        "id": "H_qKQvlBUuZk"
      },
      "execution_count": null,
      "outputs": []
    },
    {
      "cell_type": "code",
      "source": [
        "#file handling:\n",
        "#syntax: open (filename, mode)"
      ],
      "metadata": {
        "id": "dIW5EqV0V8mk"
      },
      "execution_count": null,
      "outputs": []
    },
    {
      "cell_type": "code",
      "source": [
        "#data mode variable.close()\n",
        "\"r\"\n",
        "\"w\"\n",
        "\"a\""
      ],
      "metadata": {
        "id": "ONJoIh68WMuJ"
      },
      "execution_count": null,
      "outputs": []
    },
    {
      "cell_type": "code",
      "source": [
        "#method one"
      ],
      "metadata": {
        "id": "fGbwaI8NY7wK"
      },
      "execution_count": null,
      "outputs": []
    },
    {
      "cell_type": "code",
      "source": [
        "import os"
      ],
      "metadata": {
        "id": "dB6ey_qaWYIr"
      },
      "execution_count": null,
      "outputs": []
    },
    {
      "cell_type": "code",
      "source": [
        "!ls"
      ],
      "metadata": {
        "id": "EgCwcu88WZkQ"
      },
      "execution_count": null,
      "outputs": []
    },
    {
      "cell_type": "code",
      "source": [
        "os.getcwd()"
      ],
      "metadata": {
        "id": "f77b1VOoWeTk"
      },
      "execution_count": null,
      "outputs": []
    },
    {
      "cell_type": "code",
      "source": [
        "!pwd"
      ],
      "metadata": {
        "id": "JQnIwD43Wjdk"
      },
      "execution_count": null,
      "outputs": []
    },
    {
      "cell_type": "code",
      "source": [
        "file=open(\"ganesh.txt\",\"r\")"
      ],
      "metadata": {
        "id": "JKQ3UYThWmIB"
      },
      "execution_count": null,
      "outputs": []
    },
    {
      "cell_type": "code",
      "source": [
        "print(file.read())"
      ],
      "metadata": {
        "id": "LBFfUgm1Wx4o"
      },
      "execution_count": null,
      "outputs": []
    },
    {
      "cell_type": "code",
      "source": [
        "file.close()"
      ],
      "metadata": {
        "id": "SbtX095cXRoC"
      },
      "execution_count": null,
      "outputs": []
    },
    {
      "cell_type": "code",
      "source": [
        "#writing in the file\n",
        "f=open(\"ganesh.txt\",\"w\")\n",
        "f.write(\"hi all are doing well\")\n",
        "f.close()"
      ],
      "metadata": {
        "id": "qDgsMf45XtBY"
      },
      "execution_count": null,
      "outputs": []
    },
    {
      "cell_type": "code",
      "source": [
        "t= open(\"ganesh.txt\",\"r\")"
      ],
      "metadata": {
        "id": "lX-B7jbqX8nA"
      },
      "execution_count": null,
      "outputs": []
    },
    {
      "cell_type": "code",
      "source": [
        "t.read()"
      ],
      "metadata": {
        "id": "R75cRDRtYdZ2"
      },
      "execution_count": null,
      "outputs": []
    },
    {
      "cell_type": "code",
      "source": [
        "#appending the data"
      ],
      "metadata": {
        "id": "vbM9NIR1YFK2"
      },
      "execution_count": null,
      "outputs": []
    },
    {
      "cell_type": "code",
      "source": [
        "e=open(\"ganesh.txt\",\"a\")\n",
        "e.write(\"welcome to pytho session\")\n",
        "e.close()"
      ],
      "metadata": {
        "id": "qmdDmLzzYrBr"
      },
      "execution_count": null,
      "outputs": []
    },
    {
      "cell_type": "code",
      "source": [
        "open(\"ganesh.txt\",\"r\").read()"
      ],
      "metadata": {
        "id": "Q3uAWklAYy-e"
      },
      "execution_count": null,
      "outputs": []
    },
    {
      "cell_type": "code",
      "source": [
        "#second Method we are not using close option"
      ],
      "metadata": {
        "id": "BgD13EeVY2dK"
      },
      "execution_count": null,
      "outputs": []
    },
    {
      "cell_type": "code",
      "source": [
        "with open(\"ganesh.txt\") as file:\n",
        "    data=file.read()\n",
        "print(data)"
      ],
      "metadata": {
        "id": "QeO0juP4ZApV"
      },
      "execution_count": null,
      "outputs": []
    },
    {
      "cell_type": "code",
      "source": [
        "with open(\"d.txt\",'w') as file:\n",
        "    data=file.write(\"hello world\")\n",
        "print(data)"
      ],
      "metadata": {
        "id": "7mXH1Pb1ZaV6"
      },
      "execution_count": null,
      "outputs": []
    },
    {
      "cell_type": "code",
      "source": [
        "with open(\"d.txt\") as file:\n",
        "    data=file.read()\n",
        "print(data)"
      ],
      "metadata": {
        "id": "St9YXP9LarIh"
      },
      "execution_count": null,
      "outputs": []
    },
    {
      "cell_type": "code",
      "source": [
        "f=open(\"radha.txt\",\"w\")\n",
        "f.write(\"welcome to python session\")\n",
        "f.close()"
      ],
      "metadata": {
        "id": "C_Vm4gv-ZNZk"
      },
      "execution_count": null,
      "outputs": []
    },
    {
      "cell_type": "code",
      "source": [
        "with open(\"radha.txt\") as file:\n",
        "    data=file.readlines()\n",
        "for i in data:\n",
        "    word=i.split(\" \")\n",
        "    print(word)"
      ],
      "metadata": {
        "id": "KBDRAitnazot"
      },
      "execution_count": null,
      "outputs": []
    },
    {
      "cell_type": "code",
      "source": [],
      "metadata": {
        "id": "fXb6dTw1bCz1"
      },
      "execution_count": null,
      "outputs": []
    }
  ]
}