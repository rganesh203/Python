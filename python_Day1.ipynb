{
  "nbformat": 4,
  "nbformat_minor": 0,
  "metadata": {
    "colab": {
      "private_outputs": true,
      "provenance": [],
      "authorship_tag": "ABX9TyNvSC9D8wPF6wQ85Ahmb5bn",
      "include_colab_link": true
    },
    "kernelspec": {
      "name": "python3",
      "display_name": "Python 3"
    },
    "language_info": {
      "name": "python"
    }
  },
  "cells": [
    {
      "cell_type": "markdown",
      "metadata": {
        "id": "view-in-github",
        "colab_type": "text"
      },
      "source": [
        "<a href=\"https://colab.research.google.com/github/rganesh203/Python-Core-Fundamentals/blob/main/python_Day1.ipynb\" target=\"_parent\"><img src=\"https://colab.research.google.com/assets/colab-badge.svg\" alt=\"Open In Colab\"/></a>"
      ]
    },
    {
      "cell_type": "code",
      "execution_count": null,
      "metadata": {
        "id": "pfhD1OFDeDpA"
      },
      "outputs": [],
      "source": [
        "2+2"
      ]
    },
    {
      "cell_type": "code",
      "source": [
        "#python variables"
      ],
      "metadata": {
        "id": "bSQj9knfeN0l"
      },
      "execution_count": null,
      "outputs": []
    },
    {
      "cell_type": "code",
      "source": [
        "a=2"
      ],
      "metadata": {
        "id": "qFbPp-ixeuAU"
      },
      "execution_count": null,
      "outputs": []
    },
    {
      "cell_type": "code",
      "source": [
        "b=4"
      ],
      "metadata": {
        "id": "uL-mQGDvevsW"
      },
      "execution_count": null,
      "outputs": []
    },
    {
      "cell_type": "code",
      "source": [
        "a+b"
      ],
      "metadata": {
        "id": "h1apgEKQew9H"
      },
      "execution_count": null,
      "outputs": []
    },
    {
      "cell_type": "code",
      "source": [
        "a-b"
      ],
      "metadata": {
        "id": "Ww-wRU7He6ab"
      },
      "execution_count": null,
      "outputs": []
    },
    {
      "cell_type": "code",
      "source": [
        "a*b"
      ],
      "metadata": {
        "id": "RrkY8cb5e8XB"
      },
      "execution_count": null,
      "outputs": []
    },
    {
      "cell_type": "code",
      "source": [
        "type(a)"
      ],
      "metadata": {
        "id": "5vAc1HNye_3J"
      },
      "execution_count": null,
      "outputs": []
    },
    {
      "cell_type": "code",
      "source": [
        "#to execute cell click run option in left of cell\n",
        "#shift+enter in your keyboard(colab, jupyter)"
      ],
      "metadata": {
        "id": "3BzE0fxSflrL"
      },
      "execution_count": null,
      "outputs": []
    },
    {
      "cell_type": "code",
      "source": [
        "1w=2"
      ],
      "metadata": {
        "id": "9dQKTXrRfO-X"
      },
      "execution_count": null,
      "outputs": []
    },
    {
      "cell_type": "code",
      "source": [
        "@w=3"
      ],
      "metadata": {
        "id": "LMrEp2KAffqR"
      },
      "execution_count": null,
      "outputs": []
    },
    {
      "cell_type": "code",
      "source": [
        "w11=2"
      ],
      "metadata": {
        "id": "QjDJ_rgpgN7f"
      },
      "execution_count": null,
      "outputs": []
    },
    {
      "cell_type": "code",
      "source": [
        "w@=2"
      ],
      "metadata": {
        "id": "s24IyFQcgts2"
      },
      "execution_count": null,
      "outputs": []
    },
    {
      "cell_type": "code",
      "source": [
        "_q=2"
      ],
      "metadata": {
        "id": "Dn17bOiAgwXt"
      },
      "execution_count": null,
      "outputs": []
    },
    {
      "cell_type": "code",
      "source": [
        "#python is a case sensitive and robust language\n",
        "#SQL is a case insensitive"
      ],
      "metadata": {
        "id": "tHx5NhAhg3EN"
      },
      "execution_count": null,
      "outputs": []
    },
    {
      "cell_type": "markdown",
      "source": [
        "1. primitive data types\n",
        "    1. int\n",
        "    2. string\n",
        "    3. float\n",
        "    4. complex\n",
        "    5. Boolean\n",
        "2. non-primitive data types\n",
        "    1. built in\n",
        "        1. list\n",
        "        2. set\n",
        "        3. tuple\n",
        "        4. dict\n",
        "        5. frozenset\n",
        "\n",
        "    2. user defined\n",
        "        a. linear\n",
        "            1. arrays\n",
        "            2. linkedlist\n",
        "            3. queue\n",
        "            4. stack\n",
        "        b. Non-linear\n",
        "            1. graph\n",
        "            2. tree\n",
        "            3. hash\n",
        "            4. heap\n"
      ],
      "metadata": {
        "id": "Gvzs6GcJhk6L"
      }
    },
    {
      "cell_type": "code",
      "source": [
        "a,b=2,4"
      ],
      "metadata": {
        "id": "md59_jfRjWAA"
      },
      "execution_count": null,
      "outputs": []
    },
    {
      "cell_type": "code",
      "source": [
        "a"
      ],
      "metadata": {
        "id": "AIyK8P7mjajL"
      },
      "execution_count": null,
      "outputs": []
    },
    {
      "cell_type": "code",
      "source": [
        "b"
      ],
      "metadata": {
        "id": "cv0SniWjjbn8"
      },
      "execution_count": null,
      "outputs": []
    },
    {
      "cell_type": "code",
      "source": [
        "a=6"
      ],
      "metadata": {
        "id": "E2TzSL4GjcmT"
      },
      "execution_count": null,
      "outputs": []
    },
    {
      "cell_type": "code",
      "source": [
        "a"
      ],
      "metadata": {
        "id": "ingIDsyHjhIj"
      },
      "execution_count": null,
      "outputs": []
    },
    {
      "cell_type": "code",
      "source": [
        "a,b=2,3,4"
      ],
      "metadata": {
        "id": "xD8dSkAxjlCe"
      },
      "execution_count": null,
      "outputs": []
    },
    {
      "cell_type": "code",
      "source": [
        "a,*b=2,3,4"
      ],
      "metadata": {
        "id": "vRBeeB0xjsSC"
      },
      "execution_count": null,
      "outputs": []
    },
    {
      "cell_type": "code",
      "source": [
        "a"
      ],
      "metadata": {
        "id": "7kDG30lzjwNV"
      },
      "execution_count": null,
      "outputs": []
    },
    {
      "cell_type": "code",
      "source": [
        "b"
      ],
      "metadata": {
        "id": "b7OUy5Syjzpc"
      },
      "execution_count": null,
      "outputs": []
    },
    {
      "cell_type": "code",
      "source": [
        "type(b)"
      ],
      "metadata": {
        "id": "pC_igf2Gj13p"
      },
      "execution_count": null,
      "outputs": []
    },
    {
      "cell_type": "code",
      "source": [
        "*c,d=2,3,4,5"
      ],
      "metadata": {
        "id": "hSG9YuIEj6S7"
      },
      "execution_count": null,
      "outputs": []
    },
    {
      "cell_type": "code",
      "source": [
        "c"
      ],
      "metadata": {
        "id": "hNoi4ahVkPSj"
      },
      "execution_count": null,
      "outputs": []
    },
    {
      "cell_type": "code",
      "source": [
        "type(d)"
      ],
      "metadata": {
        "id": "KtxvwQpokQT-"
      },
      "execution_count": null,
      "outputs": []
    },
    {
      "cell_type": "code",
      "source": [
        "x='ganesh'"
      ],
      "metadata": {
        "id": "2STZGr-5kXLI"
      },
      "execution_count": null,
      "outputs": []
    },
    {
      "cell_type": "code",
      "source": [
        "x"
      ],
      "metadata": {
        "id": "xygb2dIfkdr3"
      },
      "execution_count": null,
      "outputs": []
    },
    {
      "cell_type": "code",
      "source": [
        "y=ganesh"
      ],
      "metadata": {
        "id": "4GctktDkkiiV"
      },
      "execution_count": null,
      "outputs": []
    },
    {
      "cell_type": "code",
      "source": [
        "print(x)"
      ],
      "metadata": {
        "id": "_fFV2kNmknM4"
      },
      "execution_count": null,
      "outputs": []
    },
    {
      "cell_type": "code",
      "source": [
        "print('x' \"is a name of assign variable with\",x)"
      ],
      "metadata": {
        "id": "QY3wgyZUks6D"
      },
      "execution_count": null,
      "outputs": []
    },
    {
      "cell_type": "code",
      "source": [
        "print('ganesh's laptop')"
      ],
      "metadata": {
        "id": "pgV9WEtHlLev"
      },
      "execution_count": null,
      "outputs": []
    },
    {
      "cell_type": "code",
      "source": [
        "#Method 1:\n",
        "print(\"ganesh's laptop\")"
      ],
      "metadata": {
        "id": "s6LNNXz8lUfS"
      },
      "execution_count": null,
      "outputs": []
    },
    {
      "cell_type": "code",
      "source": [
        "#Method 2:\n",
        "print('ganesh\\'s laptop')"
      ],
      "metadata": {
        "id": "B5cJ68ZClv6S"
      },
      "execution_count": null,
      "outputs": []
    },
    {
      "cell_type": "code",
      "source": [
        "print(\"ga\\nesh\")"
      ],
      "metadata": {
        "id": "czmAwmcCl-xi"
      },
      "execution_count": null,
      "outputs": []
    },
    {
      "cell_type": "code",
      "source": [
        "print(r\"ga\\nesh\")"
      ],
      "metadata": {
        "id": "4i2cRmNumQxI"
      },
      "execution_count": null,
      "outputs": []
    },
    {
      "cell_type": "code",
      "source": [
        "print(\"ja\\thin\")"
      ],
      "metadata": {
        "id": "HK6GkBInmYc5"
      },
      "execution_count": null,
      "outputs": []
    },
    {
      "cell_type": "code",
      "source": [
        "print(r\"ja\\thin\")"
      ],
      "metadata": {
        "id": "krEfjhaamjff"
      },
      "execution_count": null,
      "outputs": []
    },
    {
      "cell_type": "code",
      "source": [
        "_=2"
      ],
      "metadata": {
        "id": "VQlDbi9SmslP"
      },
      "execution_count": null,
      "outputs": []
    },
    {
      "cell_type": "code",
      "source": [
        "id(_)"
      ],
      "metadata": {
        "id": "IJqUtXArmyjA"
      },
      "execution_count": null,
      "outputs": []
    },
    {
      "cell_type": "code",
      "source": [
        "a=4"
      ],
      "metadata": {
        "id": "QhcNrEKrnA5J"
      },
      "execution_count": null,
      "outputs": []
    },
    {
      "cell_type": "code",
      "source": [
        "b=2"
      ],
      "metadata": {
        "id": "wqFzJCt3nCbC"
      },
      "execution_count": null,
      "outputs": []
    },
    {
      "cell_type": "code",
      "source": [
        "id(a)"
      ],
      "metadata": {
        "id": "qs4zJPnhnDbQ"
      },
      "execution_count": null,
      "outputs": []
    },
    {
      "cell_type": "code",
      "source": [
        "a=4"
      ],
      "metadata": {
        "id": "60Zn6KSOnFKj"
      },
      "execution_count": null,
      "outputs": []
    },
    {
      "cell_type": "code",
      "source": [
        "dir(4)"
      ],
      "metadata": {
        "id": "B6UABC7WnaLE"
      },
      "execution_count": null,
      "outputs": []
    },
    {
      "cell_type": "code",
      "source": [
        "dir(x)"
      ],
      "metadata": {
        "id": "SPVaAoXtnb-C"
      },
      "execution_count": null,
      "outputs": []
    },
    {
      "cell_type": "code",
      "source": [
        "for=2"
      ],
      "metadata": {
        "id": "vPMv-Ghtnq_n"
      },
      "execution_count": null,
      "outputs": []
    },
    {
      "cell_type": "code",
      "source": [
        "import keyword\n",
        "print(keyword.kwlist)"
      ],
      "metadata": {
        "id": "E09LLT5On9YZ"
      },
      "execution_count": null,
      "outputs": []
    },
    {
      "cell_type": "code",
      "source": [
        "y=True"
      ],
      "metadata": {
        "id": "pvc3rZgXo9Gq"
      },
      "execution_count": null,
      "outputs": []
    },
    {
      "cell_type": "code",
      "source": [
        "x=3"
      ],
      "metadata": {
        "id": "bRwEUSOBqbIK"
      },
      "execution_count": null,
      "outputs": []
    },
    {
      "cell_type": "code",
      "source": [
        "type(x)"
      ],
      "metadata": {
        "id": "wVK58v6uqcdN"
      },
      "execution_count": null,
      "outputs": []
    },
    {
      "cell_type": "code",
      "source": [
        "h=float(x)"
      ],
      "metadata": {
        "id": "aQNuc37Xqicw"
      },
      "execution_count": null,
      "outputs": []
    },
    {
      "cell_type": "code",
      "source": [
        "h"
      ],
      "metadata": {
        "id": "xNT_f_TBqk7J"
      },
      "execution_count": null,
      "outputs": []
    },
    {
      "cell_type": "code",
      "source": [
        "type(h)"
      ],
      "metadata": {
        "id": "MHmwhhGsqoQL"
      },
      "execution_count": null,
      "outputs": []
    },
    {
      "cell_type": "code",
      "source": [
        "a='2'"
      ],
      "metadata": {
        "id": "ypS84HtWqqE7"
      },
      "execution_count": null,
      "outputs": []
    },
    {
      "cell_type": "code",
      "source": [
        "type(a)"
      ],
      "metadata": {
        "id": "DDHRgmcXq4x2"
      },
      "execution_count": null,
      "outputs": []
    },
    {
      "cell_type": "code",
      "source": [
        "a=int(input(\"enter the value: \"))"
      ],
      "metadata": {
        "id": "Sl4Mgbloq8R4"
      },
      "execution_count": null,
      "outputs": []
    },
    {
      "cell_type": "code",
      "source": [
        "type(a)"
      ],
      "metadata": {
        "id": "H_3xf200rHmx"
      },
      "execution_count": null,
      "outputs": []
    },
    {
      "cell_type": "code",
      "source": [
        "j=\"ganesh\""
      ],
      "metadata": {
        "id": "AJx7EpzMrMAw"
      },
      "execution_count": null,
      "outputs": []
    },
    {
      "cell_type": "code",
      "source": [
        "int(j)"
      ],
      "metadata": {
        "id": "IShCfEizrlnV"
      },
      "execution_count": null,
      "outputs": []
    },
    {
      "cell_type": "code",
      "source": [
        "h=\"3\""
      ],
      "metadata": {
        "id": "ujWe0ZCvrnqq"
      },
      "execution_count": null,
      "outputs": []
    },
    {
      "cell_type": "code",
      "source": [
        "int(h)"
      ],
      "metadata": {
        "id": "BSV6oDB0rqvm"
      },
      "execution_count": null,
      "outputs": []
    },
    {
      "cell_type": "code",
      "source": [
        "g=4"
      ],
      "metadata": {
        "id": "pougaJhprsfh"
      },
      "execution_count": null,
      "outputs": []
    },
    {
      "cell_type": "code",
      "source": [
        "str(g)"
      ],
      "metadata": {
        "id": "gsnqZDp_rzAQ"
      },
      "execution_count": null,
      "outputs": []
    },
    {
      "cell_type": "code",
      "source": [
        "#int to str will convert always\n",
        "#str to int it is not always\n"
      ],
      "metadata": {
        "id": "V_TmTYAPr12A"
      },
      "execution_count": null,
      "outputs": []
    },
    {
      "cell_type": "code",
      "source": [
        "j.capitalize()"
      ],
      "metadata": {
        "id": "PfKxODyosNxj"
      },
      "execution_count": null,
      "outputs": []
    },
    {
      "cell_type": "code",
      "source": [
        "g=\"Gadha ganesh\""
      ],
      "metadata": {
        "id": "dht3vicxtHs_"
      },
      "execution_count": null,
      "outputs": []
    },
    {
      "cell_type": "code",
      "source": [
        "g.capitalize()"
      ],
      "metadata": {
        "id": "okFfVaigsV33"
      },
      "execution_count": null,
      "outputs": []
    },
    {
      "cell_type": "code",
      "source": [
        "g.casefold()"
      ],
      "metadata": {
        "id": "WBadux1qs0g_"
      },
      "execution_count": null,
      "outputs": []
    },
    {
      "cell_type": "code",
      "source": [],
      "metadata": {
        "id": "-h2UgZ2ctMfV"
      },
      "execution_count": null,
      "outputs": []
    }
  ]
}