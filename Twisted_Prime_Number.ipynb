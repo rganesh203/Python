{
  "nbformat": 4,
  "nbformat_minor": 0,
  "metadata": {
    "colab": {
      "private_outputs": true,
      "provenance": [],
      "authorship_tag": "ABX9TyO3XXAFglN+ziwko4Y7gfwe",
      "include_colab_link": true
    },
    "kernelspec": {
      "name": "python3",
      "display_name": "Python 3"
    },
    "language_info": {
      "name": "python"
    }
  },
  "cells": [
    {
      "cell_type": "markdown",
      "metadata": {
        "id": "view-in-github",
        "colab_type": "text"
      },
      "source": [
        "<a href=\"https://colab.research.google.com/github/rganesh203/Python-Core-Fundamentals/blob/main/Twisted_Prime_Number.ipynb\" target=\"_parent\"><img src=\"https://colab.research.google.com/assets/colab-badge.svg\" alt=\"Open In Colab\"/></a>"
      ]
    },
    {
      "cell_type": "code",
      "execution_count": null,
      "metadata": {
        "id": "yj7dWumOzwpl"
      },
      "outputs": [],
      "source": [
        "# Python program to check if a given number\n",
        "# is Twisted Prime or not\n",
        "\n",
        "def reverse(n) :\n",
        "\trev = 0\n",
        "\n",
        "\t# reversing the number\n",
        "\twhile n > 0 :\n",
        "\t\tr = n % 10\n",
        "\t\trev = rev * 10 + r\n",
        "\t\tn = n // 10\n",
        "\treturn rev\n",
        "\n",
        "# Returns true if n is prime, else false\n",
        "def isPrime(n) :\n",
        "\n",
        "\t# Corner cases\n",
        "\tif (n <= 1):\n",
        "\t\treturn False\n",
        "\tif (n <= 3):\n",
        "\t\treturn True\n",
        "\n",
        "\t# This is checked so that we can skip\n",
        "\t# middle five numbers in below loop\n",
        "\tif (n % 2 == 0 or n % 3 == 0):\n",
        "\t\treturn False\n",
        "\n",
        "\ti = 5\n",
        "\twhile (i * i <= n):\n",
        "\t\tif (n % i == 0 or n % (i + 2) == 0):\n",
        "\t\t\treturn False\n",
        "\t\ti = i + 6\n",
        "\n",
        "\treturn True;\n",
        "\n",
        "# function to check Twisted Prime number\n",
        "def checkTwistedPrime (n) :\n",
        "\tif (isPrime(n) == False):\n",
        "\t\treturn False\n",
        "\n",
        "\treturn isPrime(reverse(n))\n",
        "\n",
        "# Driver Code\n",
        "# Printing Twisted Prime numbers upto 200\n",
        "print (\"First few Twisted Prime numbers are :- \")\n",
        "i = 2\n",
        "while i<= 200 :\n",
        "\tif (checkTwistedPrime(i) == True) :\n",
        "\t\tprint(i,end=\" \")\n",
        "\ti = i + 1\n",
        "\n",
        "\n",
        "# This code is contributed by Nikita Tiwari.\n"
      ]
    },
    {
      "cell_type": "code",
      "source": [
        "# Python program to illustrate...\n",
        "# To print total number of twin prime\n",
        "# using Sieve of Eratosthenes\n",
        "\n",
        "def printTwinPrime(n):\n",
        "\n",
        "\t# Create a boolean array \"prime[0..n]\"\n",
        "\t# and initialize all entries it as\n",
        "\t# true. A value in prime[i] will\n",
        "\t# finally be false if i is Not a prime,\n",
        "\t# else true.\n",
        "\tprime = [True for i in range(n + 2)]\n",
        "\tp = 2\n",
        "\n",
        "\twhile (p * p <= n + 1):\n",
        "\n",
        "\t\t# If prime[p] is not changed,\n",
        "\t\t# then it is a prime\n",
        "\t\tif (prime[p] == True):\n",
        "\n",
        "\t\t\t# Update all multiples of p\n",
        "\t\t\tfor i in range(p * 2, n + 2, p):\n",
        "\t\t\t\tprime[i] = False\n",
        "\t\tp += 1\n",
        "\n",
        "\t# check twin prime numbers\n",
        "\t# display the twin prime numbers\n",
        "\tfor p in range(2, n-1):\n",
        "\t\tif prime[p] and prime[p + 2]:\n",
        "\t\t\tprint(\"(\",p,\",\", (p + 2),\")\", end='')\n",
        "\n",
        "\n",
        "# driver program\n",
        "if __name__=='__main__':\n",
        "\n",
        "\t# static input\n",
        "\tn = int(input(\"Enter Number: \"))\n",
        "\n",
        "\t# Calling the function\n",
        "\tprintTwinPrime(n)\n"
      ],
      "metadata": {
        "id": "8WQ4dX6r3YtL"
      },
      "execution_count": null,
      "outputs": []
    },
    {
      "cell_type": "code",
      "source": [
        "n= int(input(\"Enter the Number: \"))\n",
        "x=n\n",
        "rev=0\n",
        "\n",
        "def prime('m):\n",
        "  flag=0\n",
        "  for i in range (2,m):\n",
        "    if m%i==0:\n",
        "      flag=1\n",
        "      break\n",
        "  ifflag==1:\n",
        "    return 0\n",
        "  else:\n",
        "    return 1\n"
      ],
      "metadata": {
        "id": "s-ePmL4r0DJ2"
      },
      "execution_count": null,
      "outputs": []
    }
  ]
}